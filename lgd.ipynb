{
 "cells": [
  {
   "cell_type": "code",
   "execution_count": 1,
   "metadata": {},
   "outputs": [],
   "source": [
    "#reading data\n",
    "data <- read.csv(\"dcr.csv\")"
   ]
  },
  {
   "cell_type": "code",
   "execution_count": 2,
   "metadata": {},
   "outputs": [],
   "source": [
    "library('ggplot2')"
   ]
  },
  {
   "cell_type": "code",
   "execution_count": 579,
   "metadata": {},
   "outputs": [],
   "source": [
    "library(reshape2)"
   ]
  },
  {
   "cell_type": "code",
   "execution_count": 15,
   "metadata": {},
   "outputs": [],
   "source": [
    "library(\"dplyr\")"
   ]
  },
  {
   "cell_type": "code",
   "execution_count": 4,
   "metadata": {},
   "outputs": [],
   "source": [
    "library('e1071') "
   ]
  },
  {
   "cell_type": "code",
   "execution_count": 5,
   "metadata": {},
   "outputs": [],
   "source": [
    "library('caTools')"
   ]
  },
  {
   "cell_type": "code",
   "execution_count": 6,
   "metadata": {},
   "outputs": [],
   "source": [
    "library('jtools')"
   ]
  },
  {
   "cell_type": "code",
   "execution_count": 7,
   "metadata": {},
   "outputs": [
    {
     "name": "stderr",
     "output_type": "stream",
     "text": [
      "Loading required package: zoo\n",
      "\n",
      "\n",
      "Attaching package: 'zoo'\n",
      "\n",
      "\n",
      "The following objects are masked from 'package:base':\n",
      "\n",
      "    as.Date, as.Date.numeric\n",
      "\n",
      "\n"
     ]
    }
   ],
   "source": [
    "library('lmtest')"
   ]
  },
  {
   "cell_type": "code",
   "execution_count": 8,
   "metadata": {},
   "outputs": [],
   "source": [
    "library('sandwich')"
   ]
  },
  {
   "cell_type": "code",
   "execution_count": 9,
   "metadata": {},
   "outputs": [],
   "source": [
    "library('betareg')"
   ]
  },
  {
   "cell_type": "code",
   "execution_count": 10,
   "metadata": {},
   "outputs": [
    {
     "name": "stderr",
     "output_type": "stream",
     "text": [
      "\n",
      "Attaching package: 'MASS'\n",
      "\n",
      "\n",
      "The following object is masked from 'package:dplyr':\n",
      "\n",
      "    select\n",
      "\n",
      "\n"
     ]
    }
   ],
   "source": [
    "library('MASS')"
   ]
  },
  {
   "cell_type": "code",
   "execution_count": 11,
   "metadata": {},
   "outputs": [],
   "source": [
    "library('optiRum')"
   ]
  },
  {
   "cell_type": "code",
   "execution_count": 12,
   "metadata": {},
   "outputs": [],
   "source": [
    "library('tree')"
   ]
  },
  {
   "cell_type": "code",
   "execution_count": 13,
   "metadata": {},
   "outputs": [
    {
     "name": "stderr",
     "output_type": "stream",
     "text": [
      "Loading required package: grid\n",
      "\n",
      "Loading required package: libcoin\n",
      "\n",
      "Loading required package: mvtnorm\n",
      "\n"
     ]
    }
   ],
   "source": [
    "library('partykit')"
   ]
  },
  {
   "cell_type": "code",
   "execution_count": 14,
   "metadata": {},
   "outputs": [],
   "source": [
    "library('tidyr')"
   ]
  },
  {
   "cell_type": "code",
   "execution_count": 55,
   "metadata": {},
   "outputs": [],
   "source": [
    "library('readxl')"
   ]
  },
  {
   "cell_type": "code",
   "execution_count": 124,
   "metadata": {},
   "outputs": [
    {
     "name": "stderr",
     "output_type": "stream",
     "text": [
      "Registered S3 method overwritten by 'tsibble':\n",
      "  method          from\n",
      "  format.interval inum\n",
      "\n",
      "\n",
      "Attaching package: 'fabletools'\n",
      "\n",
      "\n",
      "The following object is masked from 'package:e1071':\n",
      "\n",
      "    interpolate\n",
      "\n",
      "\n"
     ]
    }
   ],
   "source": [
    "library('fabletools')"
   ]
  },
  {
   "cell_type": "code",
   "execution_count": 140,
   "metadata": {},
   "outputs": [
    {
     "name": "stderr",
     "output_type": "stream",
     "text": [
      "Loading required package: car\n",
      "\n",
      "Loading required package: carData\n",
      "\n",
      "\n",
      "Attaching package: 'car'\n",
      "\n",
      "\n",
      "The following object is masked from 'package:dplyr':\n",
      "\n",
      "    recode\n",
      "\n",
      "\n",
      "Loading required package: survival\n",
      "\n"
     ]
    }
   ],
   "source": [
    "library('AER')"
   ]
  },
  {
   "cell_type": "code",
   "execution_count": 430,
   "metadata": {},
   "outputs": [],
   "source": [
    "library('randomForest')"
   ]
  },
  {
   "cell_type": "code",
   "execution_count": 454,
   "metadata": {},
   "outputs": [
    {
     "name": "stderr",
     "output_type": "stream",
     "text": [
      "Loaded gbm 2.1.8\n",
      "\n"
     ]
    }
   ],
   "source": [
    "library('gbm')"
   ]
  },
  {
   "cell_type": "code",
   "execution_count": 622,
   "metadata": {},
   "outputs": [],
   "source": [
    "library('caret')"
   ]
  },
  {
   "cell_type": "code",
   "execution_count": 453,
   "metadata": {},
   "outputs": [
    {
     "name": "stderr",
     "output_type": "stream",
     "text": [
      "Installing package into 'C:/Users/pawel/OneDrive/Dokumenty/R/win-library/4.0'\n",
      "(as 'lib' is unspecified)\n",
      "\n"
     ]
    },
    {
     "name": "stdout",
     "output_type": "stream",
     "text": [
      "package 'gbm' successfully unpacked and MD5 sums checked\n",
      "\n",
      "The downloaded binary packages are in\n",
      "\tC:\\Users\\pawel\\AppData\\Local\\Temp\\RtmpQR11s0\\downloaded_packages\n"
     ]
    }
   ],
   "source": [
    "install.packages('gbm')"
   ]
  },
  {
   "cell_type": "markdown",
   "metadata": {},
   "source": [
    "## EDA"
   ]
  },
  {
   "cell_type": "code",
   "execution_count": 536,
   "metadata": {},
   "outputs": [
    {
     "data": {
      "text/html": [
       "<table>\n",
       "<caption>A data.frame: 6 × 29</caption>\n",
       "<thead>\n",
       "\t<tr><th></th><th scope=col>id</th><th scope=col>time</th><th scope=col>orig_time</th><th scope=col>first_time</th><th scope=col>mat_time</th><th scope=col>res_time</th><th scope=col>balance_time</th><th scope=col>LTV_time</th><th scope=col>interest_rate_time</th><th scope=col>rate_time</th><th scope=col>...</th><th scope=col>LTV_orig_time</th><th scope=col>Interest_Rate_orig_time</th><th scope=col>state_orig_time</th><th scope=col>hpi_orig_time</th><th scope=col>default_time</th><th scope=col>payoff_time</th><th scope=col>status_time</th><th scope=col>lgd_time</th><th scope=col>recovery_res</th><th scope=col>mat_diff</th></tr>\n",
       "\t<tr><th></th><th scope=col>&lt;int&gt;</th><th scope=col>&lt;int&gt;</th><th scope=col>&lt;int&gt;</th><th scope=col>&lt;int&gt;</th><th scope=col>&lt;int&gt;</th><th scope=col>&lt;int&gt;</th><th scope=col>&lt;dbl&gt;</th><th scope=col>&lt;dbl&gt;</th><th scope=col>&lt;dbl&gt;</th><th scope=col>&lt;dbl&gt;</th><th scope=col>...</th><th scope=col>&lt;dbl&gt;</th><th scope=col>&lt;dbl&gt;</th><th scope=col>&lt;chr&gt;</th><th scope=col>&lt;dbl&gt;</th><th scope=col>&lt;int&gt;</th><th scope=col>&lt;int&gt;</th><th scope=col>&lt;int&gt;</th><th scope=col>&lt;dbl&gt;</th><th scope=col>&lt;dbl&gt;</th><th scope=col>&lt;int&gt;</th></tr>\n",
       "</thead>\n",
       "<tbody>\n",
       "\t<tr><th scope=row>1</th><td>4</td><td>25</td><td>-2</td><td>25</td><td>119</td><td>NA</td><td>61031.10</td><td>33.91101</td><td>10.500</td><td>5.9</td><td>...</td><td>81.8</td><td>10.5</td><td>KY</td><td>97.99</td><td>0</td><td>0</td><td>0</td><td>NA</td><td>NA</td><td>121</td></tr>\n",
       "\t<tr><th scope=row>2</th><td>4</td><td>26</td><td>-2</td><td>25</td><td>119</td><td>NA</td><td>60882.42</td><td>34.00723</td><td>10.500</td><td>5.9</td><td>...</td><td>81.8</td><td>10.5</td><td>KY</td><td>97.99</td><td>0</td><td>0</td><td>0</td><td>NA</td><td>NA</td><td>121</td></tr>\n",
       "\t<tr><th scope=row>3</th><td>4</td><td>27</td><td>-2</td><td>25</td><td>119</td><td>NA</td><td>60729.80</td><td>34.33535</td><td>10.500</td><td>5.9</td><td>...</td><td>81.8</td><td>10.5</td><td>KY</td><td>97.99</td><td>0</td><td>0</td><td>0</td><td>NA</td><td>NA</td><td>121</td></tr>\n",
       "\t<tr><th scope=row>4</th><td>4</td><td>28</td><td>-2</td><td>25</td><td>119</td><td>NA</td><td>60576.14</td><td>34.67254</td><td>10.875</td><td>5.9</td><td>...</td><td>81.8</td><td>10.5</td><td>KY</td><td>97.99</td><td>0</td><td>0</td><td>0</td><td>NA</td><td>NA</td><td>121</td></tr>\n",
       "\t<tr><th scope=row>5</th><td>4</td><td>29</td><td>-2</td><td>25</td><td>119</td><td>NA</td><td>60424.39</td><td>34.95164</td><td>10.875</td><td>5.9</td><td>...</td><td>81.8</td><td>10.5</td><td>KY</td><td>97.99</td><td>0</td><td>0</td><td>0</td><td>NA</td><td>NA</td><td>121</td></tr>\n",
       "\t<tr><th scope=row>6</th><td>4</td><td>30</td><td>-2</td><td>25</td><td>119</td><td>NA</td><td>60268.48</td><td>35.62184</td><td>10.875</td><td>5.9</td><td>...</td><td>81.8</td><td>10.5</td><td>KY</td><td>97.99</td><td>0</td><td>0</td><td>0</td><td>NA</td><td>NA</td><td>121</td></tr>\n",
       "</tbody>\n",
       "</table>\n"
      ],
      "text/latex": [
       "A data.frame: 6 × 29\n",
       "\\begin{tabular}{r|lllllllllllllllllllll}\n",
       "  & id & time & orig\\_time & first\\_time & mat\\_time & res\\_time & balance\\_time & LTV\\_time & interest\\_rate\\_time & rate\\_time & ... & LTV\\_orig\\_time & Interest\\_Rate\\_orig\\_time & state\\_orig\\_time & hpi\\_orig\\_time & default\\_time & payoff\\_time & status\\_time & lgd\\_time & recovery\\_res & mat\\_diff\\\\\n",
       "  & <int> & <int> & <int> & <int> & <int> & <int> & <dbl> & <dbl> & <dbl> & <dbl> & ... & <dbl> & <dbl> & <chr> & <dbl> & <int> & <int> & <int> & <dbl> & <dbl> & <int>\\\\\n",
       "\\hline\n",
       "\t1 & 4 & 25 & -2 & 25 & 119 & NA & 61031.10 & 33.91101 & 10.500 & 5.9 & ... & 81.8 & 10.5 & KY & 97.99 & 0 & 0 & 0 & NA & NA & 121\\\\\n",
       "\t2 & 4 & 26 & -2 & 25 & 119 & NA & 60882.42 & 34.00723 & 10.500 & 5.9 & ... & 81.8 & 10.5 & KY & 97.99 & 0 & 0 & 0 & NA & NA & 121\\\\\n",
       "\t3 & 4 & 27 & -2 & 25 & 119 & NA & 60729.80 & 34.33535 & 10.500 & 5.9 & ... & 81.8 & 10.5 & KY & 97.99 & 0 & 0 & 0 & NA & NA & 121\\\\\n",
       "\t4 & 4 & 28 & -2 & 25 & 119 & NA & 60576.14 & 34.67254 & 10.875 & 5.9 & ... & 81.8 & 10.5 & KY & 97.99 & 0 & 0 & 0 & NA & NA & 121\\\\\n",
       "\t5 & 4 & 29 & -2 & 25 & 119 & NA & 60424.39 & 34.95164 & 10.875 & 5.9 & ... & 81.8 & 10.5 & KY & 97.99 & 0 & 0 & 0 & NA & NA & 121\\\\\n",
       "\t6 & 4 & 30 & -2 & 25 & 119 & NA & 60268.48 & 35.62184 & 10.875 & 5.9 & ... & 81.8 & 10.5 & KY & 97.99 & 0 & 0 & 0 & NA & NA & 121\\\\\n",
       "\\end{tabular}\n"
      ],
      "text/markdown": [
       "\n",
       "A data.frame: 6 × 29\n",
       "\n",
       "| <!--/--> | id &lt;int&gt; | time &lt;int&gt; | orig_time &lt;int&gt; | first_time &lt;int&gt; | mat_time &lt;int&gt; | res_time &lt;int&gt; | balance_time &lt;dbl&gt; | LTV_time &lt;dbl&gt; | interest_rate_time &lt;dbl&gt; | rate_time &lt;dbl&gt; | ... ... | LTV_orig_time &lt;dbl&gt; | Interest_Rate_orig_time &lt;dbl&gt; | state_orig_time &lt;chr&gt; | hpi_orig_time &lt;dbl&gt; | default_time &lt;int&gt; | payoff_time &lt;int&gt; | status_time &lt;int&gt; | lgd_time &lt;dbl&gt; | recovery_res &lt;dbl&gt; | mat_diff &lt;int&gt; |\n",
       "|---|---|---|---|---|---|---|---|---|---|---|---|---|---|---|---|---|---|---|---|---|---|\n",
       "| 1 | 4 | 25 | -2 | 25 | 119 | NA | 61031.10 | 33.91101 | 10.500 | 5.9 | ... | 81.8 | 10.5 | KY | 97.99 | 0 | 0 | 0 | NA | NA | 121 |\n",
       "| 2 | 4 | 26 | -2 | 25 | 119 | NA | 60882.42 | 34.00723 | 10.500 | 5.9 | ... | 81.8 | 10.5 | KY | 97.99 | 0 | 0 | 0 | NA | NA | 121 |\n",
       "| 3 | 4 | 27 | -2 | 25 | 119 | NA | 60729.80 | 34.33535 | 10.500 | 5.9 | ... | 81.8 | 10.5 | KY | 97.99 | 0 | 0 | 0 | NA | NA | 121 |\n",
       "| 4 | 4 | 28 | -2 | 25 | 119 | NA | 60576.14 | 34.67254 | 10.875 | 5.9 | ... | 81.8 | 10.5 | KY | 97.99 | 0 | 0 | 0 | NA | NA | 121 |\n",
       "| 5 | 4 | 29 | -2 | 25 | 119 | NA | 60424.39 | 34.95164 | 10.875 | 5.9 | ... | 81.8 | 10.5 | KY | 97.99 | 0 | 0 | 0 | NA | NA | 121 |\n",
       "| 6 | 4 | 30 | -2 | 25 | 119 | NA | 60268.48 | 35.62184 | 10.875 | 5.9 | ... | 81.8 | 10.5 | KY | 97.99 | 0 | 0 | 0 | NA | NA | 121 |\n",
       "\n"
      ],
      "text/plain": [
       "  id time orig_time first_time mat_time res_time balance_time LTV_time\n",
       "1 4  25   -2        25         119      NA       61031.10     33.91101\n",
       "2 4  26   -2        25         119      NA       60882.42     34.00723\n",
       "3 4  27   -2        25         119      NA       60729.80     34.33535\n",
       "4 4  28   -2        25         119      NA       60576.14     34.67254\n",
       "5 4  29   -2        25         119      NA       60424.39     34.95164\n",
       "6 4  30   -2        25         119      NA       60268.48     35.62184\n",
       "  interest_rate_time rate_time ... LTV_orig_time Interest_Rate_orig_time\n",
       "1 10.500             5.9       ... 81.8          10.5                   \n",
       "2 10.500             5.9       ... 81.8          10.5                   \n",
       "3 10.500             5.9       ... 81.8          10.5                   \n",
       "4 10.875             5.9       ... 81.8          10.5                   \n",
       "5 10.875             5.9       ... 81.8          10.5                   \n",
       "6 10.875             5.9       ... 81.8          10.5                   \n",
       "  state_orig_time hpi_orig_time default_time payoff_time status_time lgd_time\n",
       "1 KY              97.99         0            0           0           NA      \n",
       "2 KY              97.99         0            0           0           NA      \n",
       "3 KY              97.99         0            0           0           NA      \n",
       "4 KY              97.99         0            0           0           NA      \n",
       "5 KY              97.99         0            0           0           NA      \n",
       "6 KY              97.99         0            0           0           NA      \n",
       "  recovery_res mat_diff\n",
       "1 NA           121     \n",
       "2 NA           121     \n",
       "3 NA           121     \n",
       "4 NA           121     \n",
       "5 NA           121     \n",
       "6 NA           121     "
      ]
     },
     "metadata": {},
     "output_type": "display_data"
    }
   ],
   "source": [
    "head(data)"
   ]
  },
  {
   "cell_type": "code",
   "execution_count": 537,
   "metadata": {},
   "outputs": [
    {
     "data": {
      "text/html": [
       "62178"
      ],
      "text/latex": [
       "62178"
      ],
      "text/markdown": [
       "62178"
      ],
      "text/plain": [
       "[1] 62178"
      ]
     },
     "metadata": {},
     "output_type": "display_data"
    }
   ],
   "source": [
    "# no of observations in df\n",
    "nrow(data)"
   ]
  },
  {
   "cell_type": "code",
   "execution_count": 538,
   "metadata": {},
   "outputs": [
    {
     "data": {
      "text/html": [
       "<style>\n",
       ".list-inline {list-style: none; margin:0; padding: 0}\n",
       ".list-inline>li {display: inline-block}\n",
       ".list-inline>li:not(:last-child)::after {content: \"\\00b7\"; padding: 0 .5ex}\n",
       "</style>\n",
       "<ol class=list-inline><li>'id'</li><li>'time'</li><li>'orig_time'</li><li>'first_time'</li><li>'mat_time'</li><li>'res_time'</li><li>'balance_time'</li><li>'LTV_time'</li><li>'interest_rate_time'</li><li>'rate_time'</li><li>'hpi_time'</li><li>'gdp_time'</li><li>'uer_time'</li><li>'REtype_CO_orig_time'</li><li>'REtype_PU_orig_time'</li><li>'REtype_SF_orig_time'</li><li>'investor_orig_time'</li><li>'balance_orig_time'</li><li>'FICO_orig_time'</li><li>'LTV_orig_time'</li><li>'Interest_Rate_orig_time'</li><li>'state_orig_time'</li><li>'hpi_orig_time'</li><li>'default_time'</li><li>'payoff_time'</li><li>'status_time'</li><li>'lgd_time'</li><li>'recovery_res'</li><li>'mat_diff'</li></ol>\n"
      ],
      "text/latex": [
       "\\begin{enumerate*}\n",
       "\\item 'id'\n",
       "\\item 'time'\n",
       "\\item 'orig\\_time'\n",
       "\\item 'first\\_time'\n",
       "\\item 'mat\\_time'\n",
       "\\item 'res\\_time'\n",
       "\\item 'balance\\_time'\n",
       "\\item 'LTV\\_time'\n",
       "\\item 'interest\\_rate\\_time'\n",
       "\\item 'rate\\_time'\n",
       "\\item 'hpi\\_time'\n",
       "\\item 'gdp\\_time'\n",
       "\\item 'uer\\_time'\n",
       "\\item 'REtype\\_CO\\_orig\\_time'\n",
       "\\item 'REtype\\_PU\\_orig\\_time'\n",
       "\\item 'REtype\\_SF\\_orig\\_time'\n",
       "\\item 'investor\\_orig\\_time'\n",
       "\\item 'balance\\_orig\\_time'\n",
       "\\item 'FICO\\_orig\\_time'\n",
       "\\item 'LTV\\_orig\\_time'\n",
       "\\item 'Interest\\_Rate\\_orig\\_time'\n",
       "\\item 'state\\_orig\\_time'\n",
       "\\item 'hpi\\_orig\\_time'\n",
       "\\item 'default\\_time'\n",
       "\\item 'payoff\\_time'\n",
       "\\item 'status\\_time'\n",
       "\\item 'lgd\\_time'\n",
       "\\item 'recovery\\_res'\n",
       "\\item 'mat\\_diff'\n",
       "\\end{enumerate*}\n"
      ],
      "text/markdown": [
       "1. 'id'\n",
       "2. 'time'\n",
       "3. 'orig_time'\n",
       "4. 'first_time'\n",
       "5. 'mat_time'\n",
       "6. 'res_time'\n",
       "7. 'balance_time'\n",
       "8. 'LTV_time'\n",
       "9. 'interest_rate_time'\n",
       "10. 'rate_time'\n",
       "11. 'hpi_time'\n",
       "12. 'gdp_time'\n",
       "13. 'uer_time'\n",
       "14. 'REtype_CO_orig_time'\n",
       "15. 'REtype_PU_orig_time'\n",
       "16. 'REtype_SF_orig_time'\n",
       "17. 'investor_orig_time'\n",
       "18. 'balance_orig_time'\n",
       "19. 'FICO_orig_time'\n",
       "20. 'LTV_orig_time'\n",
       "21. 'Interest_Rate_orig_time'\n",
       "22. 'state_orig_time'\n",
       "23. 'hpi_orig_time'\n",
       "24. 'default_time'\n",
       "25. 'payoff_time'\n",
       "26. 'status_time'\n",
       "27. 'lgd_time'\n",
       "28. 'recovery_res'\n",
       "29. 'mat_diff'\n",
       "\n",
       "\n"
      ],
      "text/plain": [
       " [1] \"id\"                      \"time\"                   \n",
       " [3] \"orig_time\"               \"first_time\"             \n",
       " [5] \"mat_time\"                \"res_time\"               \n",
       " [7] \"balance_time\"            \"LTV_time\"               \n",
       " [9] \"interest_rate_time\"      \"rate_time\"              \n",
       "[11] \"hpi_time\"                \"gdp_time\"               \n",
       "[13] \"uer_time\"                \"REtype_CO_orig_time\"    \n",
       "[15] \"REtype_PU_orig_time\"     \"REtype_SF_orig_time\"    \n",
       "[17] \"investor_orig_time\"      \"balance_orig_time\"      \n",
       "[19] \"FICO_orig_time\"          \"LTV_orig_time\"          \n",
       "[21] \"Interest_Rate_orig_time\" \"state_orig_time\"        \n",
       "[23] \"hpi_orig_time\"           \"default_time\"           \n",
       "[25] \"payoff_time\"             \"status_time\"            \n",
       "[27] \"lgd_time\"                \"recovery_res\"           \n",
       "[29] \"mat_diff\"               "
      ]
     },
     "metadata": {},
     "output_type": "display_data"
    }
   ],
   "source": [
    "# variables names\n",
    "colnames(data)"
   ]
  },
  {
   "cell_type": "code",
   "execution_count": 539,
   "metadata": {},
   "outputs": [],
   "source": [
    "#unique values in column id(number of loans)\n",
    "unique_id = nrow(unique(data[c(\"id\")]))"
   ]
  },
  {
   "cell_type": "code",
   "execution_count": 540,
   "metadata": {},
   "outputs": [],
   "source": [
    "# number of defaulted loans\n",
    "defaults = nrow(subset(data, (data[, \"status_time\"] == 1)))"
   ]
  },
  {
   "cell_type": "code",
   "execution_count": 541,
   "metadata": {},
   "outputs": [
    {
     "data": {
      "text/html": [
       "0.305"
      ],
      "text/latex": [
       "0.305"
      ],
      "text/markdown": [
       "0.305"
      ],
      "text/plain": [
       "[1] 0.305"
      ]
     },
     "metadata": {},
     "output_type": "display_data"
    }
   ],
   "source": [
    "# % of defaulted loans\n",
    "defaults/unique_id"
   ]
  },
  {
   "cell_type": "code",
   "execution_count": 542,
   "metadata": {},
   "outputs": [
    {
     "data": {
      "text/html": [
       "<strong>res_time:</strong> 1160"
      ],
      "text/latex": [
       "\\textbf{res\\textbackslash{}\\_time:} 1160"
      ],
      "text/markdown": [
       "**res_time:** 1160"
      ],
      "text/plain": [
       "res_time \n",
       "    1160 "
      ]
     },
     "metadata": {},
     "output_type": "display_data"
    }
   ],
   "source": [
    "# number of loan resolutions\n",
    "colSums(!is.na(data['res_time']))"
   ]
  },
  {
   "cell_type": "code",
   "execution_count": 543,
   "metadata": {},
   "outputs": [
    {
     "data": {
      "text/html": [
       "<table>\n",
       "<caption>A data.frame: 1160 × 29</caption>\n",
       "<thead>\n",
       "\t<tr><th></th><th scope=col>id</th><th scope=col>time</th><th scope=col>orig_time</th><th scope=col>first_time</th><th scope=col>mat_time</th><th scope=col>res_time</th><th scope=col>balance_time</th><th scope=col>LTV_time</th><th scope=col>interest_rate_time</th><th scope=col>rate_time</th><th scope=col>...</th><th scope=col>LTV_orig_time</th><th scope=col>Interest_Rate_orig_time</th><th scope=col>state_orig_time</th><th scope=col>hpi_orig_time</th><th scope=col>default_time</th><th scope=col>payoff_time</th><th scope=col>status_time</th><th scope=col>lgd_time</th><th scope=col>recovery_res</th><th scope=col>mat_diff</th></tr>\n",
       "\t<tr><th></th><th scope=col>&lt;int&gt;</th><th scope=col>&lt;int&gt;</th><th scope=col>&lt;int&gt;</th><th scope=col>&lt;int&gt;</th><th scope=col>&lt;int&gt;</th><th scope=col>&lt;int&gt;</th><th scope=col>&lt;dbl&gt;</th><th scope=col>&lt;dbl&gt;</th><th scope=col>&lt;dbl&gt;</th><th scope=col>&lt;dbl&gt;</th><th scope=col>...</th><th scope=col>&lt;dbl&gt;</th><th scope=col>&lt;dbl&gt;</th><th scope=col>&lt;chr&gt;</th><th scope=col>&lt;dbl&gt;</th><th scope=col>&lt;int&gt;</th><th scope=col>&lt;int&gt;</th><th scope=col>&lt;int&gt;</th><th scope=col>&lt;dbl&gt;</th><th scope=col>&lt;dbl&gt;</th><th scope=col>&lt;int&gt;</th></tr>\n",
       "</thead>\n",
       "<tbody>\n",
       "\t<tr><th scope=row>264</th><td> 191</td><td>31</td><td>23</td><td>26</td><td>143</td><td>38</td><td>223884.74</td><td> 87.17673</td><td> 7.360</td><td>4.39</td><td>...</td><td> 80.0</td><td> 7.360</td><td>FL</td><td>221.91</td><td>1</td><td>0</td><td>1</td><td>0.8839190</td><td> 25988.76</td><td>120</td></tr>\n",
       "\t<tr><th scope=row>357</th><td> 330</td><td>33</td><td>27</td><td>28</td><td>147</td><td>43</td><td>144374.85</td><td> 98.27270</td><td> 9.045</td><td>4.71</td><td>...</td><td> 80.0</td><td> 9.045</td><td>FL</td><td>222.39</td><td>1</td><td>0</td><td>1</td><td>1.2362130</td><td>-34103.22</td><td>120</td></tr>\n",
       "\t<tr><th scope=row>361</th><td> 331</td><td>31</td><td>26</td><td>28</td><td>147</td><td>60</td><td>285484.83</td><td> 89.45262</td><td>10.620</td><td>4.64</td><td>...</td><td> 80.0</td><td>10.620</td><td>FL</td><td>225.10</td><td>1</td><td>0</td><td>1</td><td>0.7068702</td><td> 83684.11</td><td>121</td></tr>\n",
       "\t<tr><th scope=row>373</th><td> 343</td><td>42</td><td>27</td><td>32</td><td>148</td><td>44</td><td> 79140.44</td><td>121.46337</td><td> 8.870</td><td>4.71</td><td>...</td><td> 90.0</td><td> 8.870</td><td>MD</td><td>222.39</td><td>1</td><td>0</td><td>1</td><td>1.0773594</td><td> -6122.26</td><td>121</td></tr>\n",
       "\t<tr><th scope=row>421</th><td> 385</td><td>39</td><td>28</td><td>32</td><td> 88</td><td>41</td><td>150074.42</td><td>122.61168</td><td> 9.820</td><td>4.65</td><td>...</td><td> 95.0</td><td> 9.820</td><td>TX</td><td>219.67</td><td>1</td><td>0</td><td>1</td><td>0.3518053</td><td> 97277.45</td><td> 60</td></tr>\n",
       "\t<tr><th scope=row>427</th><td> 387</td><td>37</td><td>28</td><td>32</td><td>148</td><td>60</td><td>539016.07</td><td>124.54121</td><td> 8.990</td><td>4.65</td><td>...</td><td> 87.1</td><td> 8.990</td><td>NY</td><td>219.67</td><td>1</td><td>0</td><td>1</td><td>0.7726883</td><td>122524.67</td><td>120</td></tr>\n",
       "\t<tr><th scope=row>429</th><td> 392</td><td>33</td><td>28</td><td>32</td><td>148</td><td>36</td><td>215294.72</td><td> 97.03201</td><td> 6.825</td><td>4.65</td><td>...</td><td> 80.0</td><td> 6.825</td><td>CA</td><td>219.67</td><td>1</td><td>0</td><td>1</td><td>0.8547624</td><td> 31268.89</td><td>120</td></tr>\n",
       "\t<tr><th scope=row>642</th><td> 652</td><td>27</td><td>17</td><td>20</td><td>138</td><td>27</td><td>332004.84</td><td> 55.81249</td><td>12.690</td><td>4.62</td><td>...</td><td> 70.0</td><td> 0.000</td><td>NY</td><td>179.45</td><td>1</td><td>0</td><td>1</td><td>0.0000000</td><td>332004.84</td><td>121</td></tr>\n",
       "\t<tr><th scope=row>683</th><td> 679</td><td>31</td><td>26</td><td>28</td><td>146</td><td>37</td><td>127240.41</td><td> 95.15396</td><td>11.100</td><td>4.64</td><td>...</td><td> 85.0</td><td> 0.000</td><td>MA</td><td>225.10</td><td>1</td><td>0</td><td>1</td><td>0.5542172</td><td> 56721.59</td><td>120</td></tr>\n",
       "\t<tr><th scope=row>748</th><td> 740</td><td>30</td><td>19</td><td>19</td><td>133</td><td>48</td><td> 64638.97</td><td> 69.24266</td><td> 8.650</td><td>4.24</td><td>...</td><td> 80.0</td><td> 8.650</td><td>FL</td><td>191.42</td><td>1</td><td>0</td><td>1</td><td>1.1488658</td><td> -9622.53</td><td>114</td></tr>\n",
       "\t<tr><th scope=row>770</th><td> 759</td><td>37</td><td>19</td><td>19</td><td>133</td><td>43</td><td> 61761.12</td><td> 95.53118</td><td> 9.250</td><td>4.24</td><td>...</td><td> 80.0</td><td> 0.000</td><td>AL</td><td>191.42</td><td>1</td><td>0</td><td>1</td><td>0.5983735</td><td> 24804.90</td><td>114</td></tr>\n",
       "\t<tr><th scope=row>785</th><td> 769</td><td>34</td><td>25</td><td>27</td><td>145</td><td>37</td><td>196409.61</td><td>100.89020</td><td> 8.750</td><td>5.15</td><td>...</td><td> 78.7</td><td> 0.000</td><td>CA</td><td>226.29</td><td>1</td><td>0</td><td>1</td><td>0.7574849</td><td> 47632.29</td><td>120</td></tr>\n",
       "\t<tr><th scope=row>791</th><td> 782</td><td>30</td><td>26</td><td>28</td><td>146</td><td>33</td><td>366173.45</td><td> 75.97373</td><td>10.600</td><td>4.64</td><td>...</td><td> 72.0</td><td> 0.000</td><td>NE</td><td>225.10</td><td>1</td><td>0</td><td>1</td><td>0.2338590</td><td>280540.48</td><td>120</td></tr>\n",
       "\t<tr><th scope=row>795</th><td> 791</td><td>31</td><td>26</td><td>28</td><td>146</td><td>35</td><td>458566.95</td><td>111.83691</td><td> 8.280</td><td>4.64</td><td>...</td><td>100.0</td><td> 0.000</td><td>CA</td><td>225.10</td><td>1</td><td>0</td><td>1</td><td>0.5329454</td><td>214175.81</td><td>120</td></tr>\n",
       "\t<tr><th scope=row>799</th><td> 803</td><td>31</td><td>26</td><td>28</td><td>146</td><td>34</td><td>348558.74</td><td>111.71230</td><td> 9.999</td><td>4.64</td><td>...</td><td>100.0</td><td> 9.999</td><td>FL</td><td>225.10</td><td>1</td><td>0</td><td>1</td><td>0.7294550</td><td> 94300.82</td><td>120</td></tr>\n",
       "\t<tr><th scope=row>815</th><td> 811</td><td>28</td><td>26</td><td>28</td><td>146</td><td>30</td><td>329541.99</td><td>102.32967</td><td> 7.850</td><td>4.64</td><td>...</td><td>100.0</td><td> 7.850</td><td>CA</td><td>225.10</td><td>1</td><td>0</td><td>1</td><td>0.5131334</td><td>160442.98</td><td>120</td></tr>\n",
       "\t<tr><th scope=row>818</th><td> 814</td><td>30</td><td>26</td><td>28</td><td>146</td><td>36</td><td>287741.75</td><td> 84.57600</td><td> 8.875</td><td>4.64</td><td>...</td><td> 80.0</td><td> 8.875</td><td>MA</td><td>225.10</td><td>1</td><td>0</td><td>1</td><td>0.9858357</td><td>  4075.66</td><td>120</td></tr>\n",
       "\t<tr><th scope=row>840</th><td> 832</td><td>38</td><td>26</td><td>28</td><td>146</td><td>53</td><td>426370.26</td><td>103.28580</td><td> 7.000</td><td>4.64</td><td>...</td><td> 73.3</td><td> 7.000</td><td>WA</td><td>225.10</td><td>1</td><td>0</td><td>1</td><td>0.2896095</td><td>302889.40</td><td>120</td></tr>\n",
       "\t<tr><th scope=row>876</th><td> 871</td><td>35</td><td>26</td><td>28</td><td>146</td><td>39</td><td>261235.72</td><td>103.65346</td><td> 8.650</td><td>4.64</td><td>...</td><td> 75.0</td><td> 0.000</td><td>FL</td><td>225.10</td><td>1</td><td>0</td><td>1</td><td>0.6842376</td><td> 82488.42</td><td>120</td></tr>\n",
       "\t<tr><th scope=row>893</th><td> 878</td><td>32</td><td>17</td><td>20</td><td>137</td><td>39</td><td> 82256.05</td><td> 75.53165</td><td>11.625</td><td>4.62</td><td>...</td><td> 80.0</td><td> 0.000</td><td>TX</td><td>179.45</td><td>1</td><td>0</td><td>1</td><td>0.1690921</td><td> 68347.20</td><td>120</td></tr>\n",
       "\t<tr><th scope=row>903</th><td> 890</td><td>34</td><td>25</td><td>27</td><td>145</td><td>40</td><td>284965.53</td><td>115.52553</td><td> 8.950</td><td>5.15</td><td>...</td><td> 90.0</td><td> 0.000</td><td>AZ</td><td>226.29</td><td>1</td><td>0</td><td>1</td><td>0.7864368</td><td> 60858.15</td><td>120</td></tr>\n",
       "\t<tr><th scope=row>919</th><td> 902</td><td>35</td><td>25</td><td>27</td><td>146</td><td>42</td><td>205059.75</td><td>110.96087</td><td> 9.625</td><td>5.15</td><td>...</td><td> 80.0</td><td> 0.000</td><td>FL</td><td>226.29</td><td>1</td><td>0</td><td>1</td><td>0.9309138</td><td> 14166.79</td><td>121</td></tr>\n",
       "\t<tr><th scope=row>923</th><td> 903</td><td>31</td><td>26</td><td>28</td><td>146</td><td>35</td><td>688699.99</td><td>111.96287</td><td> 9.330</td><td>4.64</td><td>...</td><td>100.0</td><td> 0.000</td><td>CA</td><td>225.10</td><td>1</td><td>0</td><td>1</td><td>0.2556302</td><td>512647.44</td><td>120</td></tr>\n",
       "\t<tr><th scope=row>973</th><td> 991</td><td>20</td><td>19</td><td>19</td><td>129</td><td>37</td><td> 62429.23</td><td> 71.41425</td><td>11.240</td><td>4.24</td><td>...</td><td> 75.0</td><td>11.240</td><td>SC</td><td>191.42</td><td>1</td><td>0</td><td>1</td><td>0.6895759</td><td> 19379.54</td><td>110</td></tr>\n",
       "\t<tr><th scope=row>1113</th><td>1101</td><td>20</td><td>16</td><td>18</td><td>136</td><td>21</td><td>196130.48</td><td> 75.14288</td><td> 6.400</td><td>3.86</td><td>...</td><td> 90.0</td><td> 0.000</td><td>DC</td><td>167.91</td><td>1</td><td>0</td><td>1</td><td>0.0000000</td><td>196130.48</td><td>120</td></tr>\n",
       "\t<tr><th scope=row>1162</th><td>1138</td><td>30</td><td>17</td><td>20</td><td>138</td><td>32</td><td>116115.89</td><td> 67.08934</td><td> 9.250</td><td>4.62</td><td>...</td><td> 80.0</td><td> 6.250</td><td>WA</td><td>179.45</td><td>1</td><td>0</td><td>1</td><td>0.0000000</td><td>116115.89</td><td>121</td></tr>\n",
       "\t<tr><th scope=row>1288</th><td>1222</td><td>21</td><td>18</td><td>21</td><td>139</td><td>35</td><td> 56189.27</td><td> 67.04546</td><td> 9.075</td><td>4.14</td><td>...</td><td> 75.0</td><td> 9.075</td><td>MI</td><td>186.91</td><td>1</td><td>0</td><td>1</td><td>1.0197073</td><td> -1107.34</td><td>121</td></tr>\n",
       "\t<tr><th scope=row>1473</th><td>1290</td><td>40</td><td>20</td><td>22</td><td>140</td><td>57</td><td> 62805.36</td><td>116.92201</td><td> 6.200</td><td>4.50</td><td>...</td><td> 78.1</td><td> 0.000</td><td>TN</td><td>199.21</td><td>1</td><td>0</td><td>1</td><td>1.1027052</td><td> -6450.44</td><td>120</td></tr>\n",
       "\t<tr><th scope=row>1546</th><td>1380</td><td>32</td><td>28</td><td>32</td><td>148</td><td>33</td><td>100891.07</td><td> 93.76197</td><td> 6.785</td><td>4.65</td><td>...</td><td> 80.0</td><td> 6.785</td><td>CA</td><td>219.67</td><td>1</td><td>0</td><td>1</td><td>0.0000000</td><td>100891.07</td><td>120</td></tr>\n",
       "\t<tr><th scope=row>1547</th><td>1389</td><td>32</td><td>28</td><td>32</td><td>148</td><td>33</td><td>151791.95</td><td>111.97123</td><td> 9.375</td><td>4.65</td><td>...</td><td> 95.0</td><td> 9.375</td><td>CA</td><td>219.67</td><td>1</td><td>0</td><td>1</td><td>0.0000000</td><td>151791.95</td><td>120</td></tr>\n",
       "\t<tr><th scope=row>...</th><td>...</td><td>...</td><td>...</td><td>...</td><td>...</td><td>...</td><td>...</td><td>...</td><td>...</td><td>...</td><td></td><td>...</td><td>...</td><td>...</td><td>...</td><td>...</td><td>...</td><td>...</td><td>...</td><td>...</td><td>...</td></tr>\n",
       "\t<tr><th scope=row>59949</th><td>47721</td><td>55</td><td>18</td><td>52</td><td>138</td><td>59</td><td>106593.41</td><td> 73.03128</td><td> 6.650</td><td>4.14</td><td>...</td><td>80.0</td><td>6.650</td><td>LA</td><td>186.91</td><td>1</td><td>0</td><td>1</td><td>0.04319779</td><td>101988.81</td><td>120</td></tr>\n",
       "\t<tr><th scope=row>60493</th><td>48460</td><td>28</td><td>24</td><td>26</td><td>144</td><td>35</td><td>349673.13</td><td> 96.26155</td><td> 8.875</td><td>4.86</td><td>...</td><td>95.0</td><td>0.000</td><td>CA</td><td>223.75</td><td>1</td><td>0</td><td>1</td><td>0.88351524</td><td> 40731.59</td><td>120</td></tr>\n",
       "\t<tr><th scope=row>60540</th><td>48477</td><td>37</td><td>24</td><td>26</td><td>145</td><td>41</td><td>114845.22</td><td>128.56543</td><td> 9.750</td><td>4.86</td><td>...</td><td>89.0</td><td>0.000</td><td>VA</td><td>223.75</td><td>1</td><td>0</td><td>1</td><td>0.41503591</td><td> 67180.33</td><td>121</td></tr>\n",
       "\t<tr><th scope=row>60580</th><td>48484</td><td>33</td><td>26</td><td>29</td><td>146</td><td>46</td><td>167739.52</td><td> 83.66534</td><td>10.190</td><td>4.64</td><td>...</td><td>67.2</td><td>0.000</td><td>NV</td><td>225.10</td><td>1</td><td>0</td><td>1</td><td>0.95071913</td><td>  8266.35</td><td>120</td></tr>\n",
       "\t<tr><th scope=row>60646</th><td>48510</td><td>33</td><td>26</td><td>29</td><td>146</td><td>42</td><td> 76919.84</td><td>111.67387</td><td> 9.145</td><td>4.64</td><td>...</td><td>90.0</td><td>0.000</td><td>IN</td><td>225.10</td><td>1</td><td>0</td><td>1</td><td>1.12328458</td><td> -9483.03</td><td>120</td></tr>\n",
       "\t<tr><th scope=row>60648</th><td>48517</td><td>30</td><td>26</td><td>29</td><td>146</td><td>42</td><td>161265.99</td><td> 84.50309</td><td> 7.990</td><td>4.64</td><td>...</td><td>80.0</td><td>0.000</td><td>CA</td><td>225.10</td><td>1</td><td>0</td><td>1</td><td>0.97963352</td><td>  3284.42</td><td>120</td></tr>\n",
       "\t<tr><th scope=row>60655</th><td>48519</td><td>35</td><td>26</td><td>29</td><td>147</td><td>46</td><td>157379.37</td><td>109.27909</td><td> 8.625</td><td>4.64</td><td>...</td><td>80.0</td><td>8.625</td><td>FL</td><td>225.10</td><td>1</td><td>0</td><td>1</td><td>1.03640897</td><td> -5730.02</td><td>121</td></tr>\n",
       "\t<tr><th scope=row>60736</th><td>48561</td><td>28</td><td>25</td><td>25</td><td>143</td><td>47</td><td>149123.92</td><td> 76.80897</td><td> 8.300</td><td>5.15</td><td>...</td><td>75.0</td><td>0.000</td><td>FL</td><td>226.29</td><td>1</td><td>0</td><td>1</td><td>1.04327891</td><td> -6453.92</td><td>118</td></tr>\n",
       "\t<tr><th scope=row>60803</th><td>48658</td><td>29</td><td>22</td><td>25</td><td>143</td><td>47</td><td>379994.57</td><td> 79.77804</td><td> 6.800</td><td>4.34</td><td>...</td><td>80.0</td><td>0.000</td><td>GA</td><td>216.77</td><td>1</td><td>0</td><td>1</td><td>0.56796464</td><td>164171.09</td><td>121</td></tr>\n",
       "\t<tr><th scope=row>60853</th><td>48694</td><td>27</td><td>23</td><td>25</td><td>143</td><td>50</td><td>208250.00</td><td> 84.81654</td><td> 7.650</td><td>4.39</td><td>...</td><td>85.0</td><td>0.000</td><td>WA</td><td>221.91</td><td>1</td><td>0</td><td>1</td><td>0.44977575</td><td>114584.20</td><td>120</td></tr>\n",
       "\t<tr><th scope=row>60907</th><td>48705</td><td>45</td><td>23</td><td>25</td><td>143</td><td>52</td><td>332946.35</td><td>110.17827</td><td> 6.800</td><td>4.39</td><td>...</td><td>80.0</td><td>0.000</td><td>IL</td><td>221.91</td><td>1</td><td>0</td><td>1</td><td>0.83461753</td><td> 55063.49</td><td>120</td></tr>\n",
       "\t<tr><th scope=row>60948</th><td>48741</td><td>30</td><td>24</td><td>27</td><td>145</td><td>44</td><td>360000.00</td><td> 84.14422</td><td> 7.100</td><td>4.86</td><td>...</td><td>80.0</td><td>0.000</td><td>CA</td><td>223.75</td><td>1</td><td>0</td><td>1</td><td>1.00671136</td><td> -2416.09</td><td>121</td></tr>\n",
       "\t<tr><th scope=row>60999</th><td>48775</td><td>35</td><td>25</td><td>27</td><td>145</td><td>42</td><td> 92700.93</td><td>124.43997</td><td> 9.990</td><td>5.15</td><td>...</td><td>90.0</td><td>0.000</td><td>MO</td><td>226.29</td><td>1</td><td>0</td><td>1</td><td>0.93431630</td><td>  6088.94</td><td>120</td></tr>\n",
       "\t<tr><th scope=row>61039</th><td>48780</td><td>33</td><td>25</td><td>27</td><td>145</td><td>48</td><td>393680.71</td><td> 99.69628</td><td> 7.750</td><td>5.15</td><td>...</td><td>80.0</td><td>0.000</td><td>CA</td><td>226.29</td><td>1</td><td>0</td><td>1</td><td>0.89198379</td><td> 42523.90</td><td>120</td></tr>\n",
       "\t<tr><th scope=row>61042</th><td>48781</td><td>29</td><td>25</td><td>27</td><td>145</td><td>42</td><td>310995.14</td><td> 83.01465</td><td> 6.875</td><td>5.15</td><td>...</td><td>80.0</td><td>0.000</td><td>CA</td><td>226.29</td><td>1</td><td>0</td><td>1</td><td>0.82743361</td><td> 53667.31</td><td>120</td></tr>\n",
       "\t<tr><th scope=row>61078</th><td>48819</td><td>47</td><td>25</td><td>27</td><td>186</td><td>51</td><td>196007.93</td><td>126.97634</td><td> 5.125</td><td>5.15</td><td>...</td><td>80.0</td><td>5.125</td><td>GA</td><td>226.29</td><td>1</td><td>0</td><td>1</td><td>0.51262630</td><td> 95529.11</td><td>161</td></tr>\n",
       "\t<tr><th scope=row>61082</th><td>48845</td><td>31</td><td>25</td><td>28</td><td>146</td><td>47</td><td>356250.00</td><td>107.12887</td><td> 9.000</td><td>5.15</td><td>...</td><td>95.0</td><td>0.000</td><td>ID</td><td>226.29</td><td>1</td><td>0</td><td>1</td><td>0.81333179</td><td> 66500.55</td><td>121</td></tr>\n",
       "\t<tr><th scope=row>61150</th><td>48873</td><td>44</td><td>25</td><td>28</td><td>186</td><td>49</td><td>126643.68</td><td>155.61327</td><td> 4.750</td><td>5.15</td><td>...</td><td>80.1</td><td>4.750</td><td>AL</td><td>226.29</td><td>1</td><td>0</td><td>1</td><td>0.89997369</td><td> 12667.70</td><td>161</td></tr>\n",
       "\t<tr><th scope=row>61157</th><td>48922</td><td>29</td><td>25</td><td>28</td><td>146</td><td>32</td><td>458601.77</td><td> 78.00996</td><td> 7.990</td><td>5.15</td><td>...</td><td>75.0</td><td>0.000</td><td>CA</td><td>226.29</td><td>1</td><td>0</td><td>1</td><td>0.27341997</td><td>333210.89</td><td>121</td></tr>\n",
       "\t<tr><th scope=row>61207</th><td>48937</td><td>44</td><td>25</td><td>28</td><td>146</td><td>48</td><td>195772.03</td><td>133.43670</td><td> 9.300</td><td>5.15</td><td>...</td><td>90.0</td><td>0.000</td><td>FL</td><td>226.29</td><td>1</td><td>0</td><td>1</td><td>1.00026270</td><td>   -51.43</td><td>121</td></tr>\n",
       "\t<tr><th scope=row>61218</th><td>48945</td><td>38</td><td>26</td><td>28</td><td>146</td><td>52</td><td>583838.26</td><td>126.37417</td><td> 6.725</td><td>4.64</td><td>...</td><td>90.0</td><td>0.000</td><td>CA</td><td>225.10</td><td>1</td><td>0</td><td>1</td><td>0.72877541</td><td>158351.29</td><td>120</td></tr>\n",
       "\t<tr><th scope=row>61268</th><td>48949</td><td>43</td><td>26</td><td>28</td><td>146</td><td>52</td><td>360759.54</td><td>125.40339</td><td> 6.500</td><td>4.64</td><td>...</td><td>80.0</td><td>0.000</td><td>IL</td><td>225.10</td><td>1</td><td>0</td><td>1</td><td>0.74293290</td><td> 92739.41</td><td>120</td></tr>\n",
       "\t<tr><th scope=row>61311</th><td>48989</td><td>37</td><td>26</td><td>28</td><td>147</td><td>46</td><td>187263.30</td><td> 91.67646</td><td> 8.638</td><td>4.64</td><td>...</td><td>61.7</td><td>8.638</td><td>FL</td><td>225.10</td><td>1</td><td>0</td><td>1</td><td>0.82194178</td><td> 33343.77</td><td>121</td></tr>\n",
       "\t<tr><th scope=row>61354</th><td>49002</td><td>37</td><td>27</td><td>28</td><td>147</td><td>50</td><td>118040.63</td><td>129.19542</td><td>10.000</td><td>4.71</td><td>...</td><td>90.0</td><td>0.000</td><td>GA</td><td>222.39</td><td>1</td><td>0</td><td>1</td><td>0.86628274</td><td> 15784.07</td><td>120</td></tr>\n",
       "\t<tr><th scope=row>61393</th><td>49060</td><td>28</td><td>25</td><td>27</td><td>145</td><td>33</td><td>412000.00</td><td> 82.41089</td><td> 6.800</td><td>5.15</td><td>...</td><td>80.0</td><td>0.000</td><td>CA</td><td>226.29</td><td>1</td><td>0</td><td>1</td><td>0.38200447</td><td>254614.16</td><td>120</td></tr>\n",
       "\t<tr><th scope=row>61426</th><td>49087</td><td>31</td><td>27</td><td>30</td><td>147</td><td>41</td><td>151521.46</td><td> 88.37987</td><td> 9.290</td><td>4.71</td><td>...</td><td>80.0</td><td>0.000</td><td>FL</td><td>222.39</td><td>1</td><td>0</td><td>1</td><td>1.12411522</td><td>-18806.12</td><td>120</td></tr>\n",
       "\t<tr><th scope=row>61508</th><td>49117</td><td>49</td><td>27</td><td>30</td><td>148</td><td>55</td><td> 75134.67</td><td>123.95751</td><td> 8.990</td><td>4.71</td><td>...</td><td>90.0</td><td>0.000</td><td>IL</td><td>222.39</td><td>1</td><td>0</td><td>1</td><td>1.18117388</td><td>-13612.44</td><td>121</td></tr>\n",
       "\t<tr><th scope=row>61541</th><td>49158</td><td>32</td><td>27</td><td>30</td><td>147</td><td>36</td><td>455697.21</td><td>102.69095</td><td> 9.150</td><td>4.71</td><td>...</td><td>86.0</td><td>0.000</td><td>FL</td><td>222.39</td><td>1</td><td>0</td><td>1</td><td>0.63171074</td><td>167828.39</td><td>120</td></tr>\n",
       "\t<tr><th scope=row>61554</th><td>49171</td><td>40</td><td>25</td><td>28</td><td>146</td><td>60</td><td>373053.03</td><td> 87.17315</td><td> 8.464</td><td>5.15</td><td>...</td><td>59.2</td><td>8.464</td><td>CA</td><td>226.29</td><td>1</td><td>0</td><td>1</td><td>0.62158651</td><td>141168.30</td><td>121</td></tr>\n",
       "\t<tr><th scope=row>61571</th><td>49174</td><td>43</td><td>24</td><td>27</td><td>145</td><td>56</td><td>215779.47</td><td> 88.40344</td><td> 7.250</td><td>4.86</td><td>...</td><td>60.0</td><td>7.250</td><td>NJ</td><td>223.75</td><td>1</td><td>0</td><td>1</td><td>0.62155533</td><td> 81660.59</td><td>121</td></tr>\n",
       "</tbody>\n",
       "</table>\n"
      ],
      "text/latex": [
       "A data.frame: 1160 × 29\n",
       "\\begin{tabular}{r|lllllllllllllllllllll}\n",
       "  & id & time & orig\\_time & first\\_time & mat\\_time & res\\_time & balance\\_time & LTV\\_time & interest\\_rate\\_time & rate\\_time & ... & LTV\\_orig\\_time & Interest\\_Rate\\_orig\\_time & state\\_orig\\_time & hpi\\_orig\\_time & default\\_time & payoff\\_time & status\\_time & lgd\\_time & recovery\\_res & mat\\_diff\\\\\n",
       "  & <int> & <int> & <int> & <int> & <int> & <int> & <dbl> & <dbl> & <dbl> & <dbl> & ... & <dbl> & <dbl> & <chr> & <dbl> & <int> & <int> & <int> & <dbl> & <dbl> & <int>\\\\\n",
       "\\hline\n",
       "\t264 &  191 & 31 & 23 & 26 & 143 & 38 & 223884.74 &  87.17673 &  7.360 & 4.39 & ... &  80.0 &  7.360 & FL & 221.91 & 1 & 0 & 1 & 0.8839190 &  25988.76 & 120\\\\\n",
       "\t357 &  330 & 33 & 27 & 28 & 147 & 43 & 144374.85 &  98.27270 &  9.045 & 4.71 & ... &  80.0 &  9.045 & FL & 222.39 & 1 & 0 & 1 & 1.2362130 & -34103.22 & 120\\\\\n",
       "\t361 &  331 & 31 & 26 & 28 & 147 & 60 & 285484.83 &  89.45262 & 10.620 & 4.64 & ... &  80.0 & 10.620 & FL & 225.10 & 1 & 0 & 1 & 0.7068702 &  83684.11 & 121\\\\\n",
       "\t373 &  343 & 42 & 27 & 32 & 148 & 44 &  79140.44 & 121.46337 &  8.870 & 4.71 & ... &  90.0 &  8.870 & MD & 222.39 & 1 & 0 & 1 & 1.0773594 &  -6122.26 & 121\\\\\n",
       "\t421 &  385 & 39 & 28 & 32 &  88 & 41 & 150074.42 & 122.61168 &  9.820 & 4.65 & ... &  95.0 &  9.820 & TX & 219.67 & 1 & 0 & 1 & 0.3518053 &  97277.45 &  60\\\\\n",
       "\t427 &  387 & 37 & 28 & 32 & 148 & 60 & 539016.07 & 124.54121 &  8.990 & 4.65 & ... &  87.1 &  8.990 & NY & 219.67 & 1 & 0 & 1 & 0.7726883 & 122524.67 & 120\\\\\n",
       "\t429 &  392 & 33 & 28 & 32 & 148 & 36 & 215294.72 &  97.03201 &  6.825 & 4.65 & ... &  80.0 &  6.825 & CA & 219.67 & 1 & 0 & 1 & 0.8547624 &  31268.89 & 120\\\\\n",
       "\t642 &  652 & 27 & 17 & 20 & 138 & 27 & 332004.84 &  55.81249 & 12.690 & 4.62 & ... &  70.0 &  0.000 & NY & 179.45 & 1 & 0 & 1 & 0.0000000 & 332004.84 & 121\\\\\n",
       "\t683 &  679 & 31 & 26 & 28 & 146 & 37 & 127240.41 &  95.15396 & 11.100 & 4.64 & ... &  85.0 &  0.000 & MA & 225.10 & 1 & 0 & 1 & 0.5542172 &  56721.59 & 120\\\\\n",
       "\t748 &  740 & 30 & 19 & 19 & 133 & 48 &  64638.97 &  69.24266 &  8.650 & 4.24 & ... &  80.0 &  8.650 & FL & 191.42 & 1 & 0 & 1 & 1.1488658 &  -9622.53 & 114\\\\\n",
       "\t770 &  759 & 37 & 19 & 19 & 133 & 43 &  61761.12 &  95.53118 &  9.250 & 4.24 & ... &  80.0 &  0.000 & AL & 191.42 & 1 & 0 & 1 & 0.5983735 &  24804.90 & 114\\\\\n",
       "\t785 &  769 & 34 & 25 & 27 & 145 & 37 & 196409.61 & 100.89020 &  8.750 & 5.15 & ... &  78.7 &  0.000 & CA & 226.29 & 1 & 0 & 1 & 0.7574849 &  47632.29 & 120\\\\\n",
       "\t791 &  782 & 30 & 26 & 28 & 146 & 33 & 366173.45 &  75.97373 & 10.600 & 4.64 & ... &  72.0 &  0.000 & NE & 225.10 & 1 & 0 & 1 & 0.2338590 & 280540.48 & 120\\\\\n",
       "\t795 &  791 & 31 & 26 & 28 & 146 & 35 & 458566.95 & 111.83691 &  8.280 & 4.64 & ... & 100.0 &  0.000 & CA & 225.10 & 1 & 0 & 1 & 0.5329454 & 214175.81 & 120\\\\\n",
       "\t799 &  803 & 31 & 26 & 28 & 146 & 34 & 348558.74 & 111.71230 &  9.999 & 4.64 & ... & 100.0 &  9.999 & FL & 225.10 & 1 & 0 & 1 & 0.7294550 &  94300.82 & 120\\\\\n",
       "\t815 &  811 & 28 & 26 & 28 & 146 & 30 & 329541.99 & 102.32967 &  7.850 & 4.64 & ... & 100.0 &  7.850 & CA & 225.10 & 1 & 0 & 1 & 0.5131334 & 160442.98 & 120\\\\\n",
       "\t818 &  814 & 30 & 26 & 28 & 146 & 36 & 287741.75 &  84.57600 &  8.875 & 4.64 & ... &  80.0 &  8.875 & MA & 225.10 & 1 & 0 & 1 & 0.9858357 &   4075.66 & 120\\\\\n",
       "\t840 &  832 & 38 & 26 & 28 & 146 & 53 & 426370.26 & 103.28580 &  7.000 & 4.64 & ... &  73.3 &  7.000 & WA & 225.10 & 1 & 0 & 1 & 0.2896095 & 302889.40 & 120\\\\\n",
       "\t876 &  871 & 35 & 26 & 28 & 146 & 39 & 261235.72 & 103.65346 &  8.650 & 4.64 & ... &  75.0 &  0.000 & FL & 225.10 & 1 & 0 & 1 & 0.6842376 &  82488.42 & 120\\\\\n",
       "\t893 &  878 & 32 & 17 & 20 & 137 & 39 &  82256.05 &  75.53165 & 11.625 & 4.62 & ... &  80.0 &  0.000 & TX & 179.45 & 1 & 0 & 1 & 0.1690921 &  68347.20 & 120\\\\\n",
       "\t903 &  890 & 34 & 25 & 27 & 145 & 40 & 284965.53 & 115.52553 &  8.950 & 5.15 & ... &  90.0 &  0.000 & AZ & 226.29 & 1 & 0 & 1 & 0.7864368 &  60858.15 & 120\\\\\n",
       "\t919 &  902 & 35 & 25 & 27 & 146 & 42 & 205059.75 & 110.96087 &  9.625 & 5.15 & ... &  80.0 &  0.000 & FL & 226.29 & 1 & 0 & 1 & 0.9309138 &  14166.79 & 121\\\\\n",
       "\t923 &  903 & 31 & 26 & 28 & 146 & 35 & 688699.99 & 111.96287 &  9.330 & 4.64 & ... & 100.0 &  0.000 & CA & 225.10 & 1 & 0 & 1 & 0.2556302 & 512647.44 & 120\\\\\n",
       "\t973 &  991 & 20 & 19 & 19 & 129 & 37 &  62429.23 &  71.41425 & 11.240 & 4.24 & ... &  75.0 & 11.240 & SC & 191.42 & 1 & 0 & 1 & 0.6895759 &  19379.54 & 110\\\\\n",
       "\t1113 & 1101 & 20 & 16 & 18 & 136 & 21 & 196130.48 &  75.14288 &  6.400 & 3.86 & ... &  90.0 &  0.000 & DC & 167.91 & 1 & 0 & 1 & 0.0000000 & 196130.48 & 120\\\\\n",
       "\t1162 & 1138 & 30 & 17 & 20 & 138 & 32 & 116115.89 &  67.08934 &  9.250 & 4.62 & ... &  80.0 &  6.250 & WA & 179.45 & 1 & 0 & 1 & 0.0000000 & 116115.89 & 121\\\\\n",
       "\t1288 & 1222 & 21 & 18 & 21 & 139 & 35 &  56189.27 &  67.04546 &  9.075 & 4.14 & ... &  75.0 &  9.075 & MI & 186.91 & 1 & 0 & 1 & 1.0197073 &  -1107.34 & 121\\\\\n",
       "\t1473 & 1290 & 40 & 20 & 22 & 140 & 57 &  62805.36 & 116.92201 &  6.200 & 4.50 & ... &  78.1 &  0.000 & TN & 199.21 & 1 & 0 & 1 & 1.1027052 &  -6450.44 & 120\\\\\n",
       "\t1546 & 1380 & 32 & 28 & 32 & 148 & 33 & 100891.07 &  93.76197 &  6.785 & 4.65 & ... &  80.0 &  6.785 & CA & 219.67 & 1 & 0 & 1 & 0.0000000 & 100891.07 & 120\\\\\n",
       "\t1547 & 1389 & 32 & 28 & 32 & 148 & 33 & 151791.95 & 111.97123 &  9.375 & 4.65 & ... &  95.0 &  9.375 & CA & 219.67 & 1 & 0 & 1 & 0.0000000 & 151791.95 & 120\\\\\n",
       "\t... & ... & ... & ... & ... & ... & ... & ... & ... & ... & ... &  & ... & ... & ... & ... & ... & ... & ... & ... & ... & ...\\\\\n",
       "\t59949 & 47721 & 55 & 18 & 52 & 138 & 59 & 106593.41 &  73.03128 &  6.650 & 4.14 & ... & 80.0 & 6.650 & LA & 186.91 & 1 & 0 & 1 & 0.04319779 & 101988.81 & 120\\\\\n",
       "\t60493 & 48460 & 28 & 24 & 26 & 144 & 35 & 349673.13 &  96.26155 &  8.875 & 4.86 & ... & 95.0 & 0.000 & CA & 223.75 & 1 & 0 & 1 & 0.88351524 &  40731.59 & 120\\\\\n",
       "\t60540 & 48477 & 37 & 24 & 26 & 145 & 41 & 114845.22 & 128.56543 &  9.750 & 4.86 & ... & 89.0 & 0.000 & VA & 223.75 & 1 & 0 & 1 & 0.41503591 &  67180.33 & 121\\\\\n",
       "\t60580 & 48484 & 33 & 26 & 29 & 146 & 46 & 167739.52 &  83.66534 & 10.190 & 4.64 & ... & 67.2 & 0.000 & NV & 225.10 & 1 & 0 & 1 & 0.95071913 &   8266.35 & 120\\\\\n",
       "\t60646 & 48510 & 33 & 26 & 29 & 146 & 42 &  76919.84 & 111.67387 &  9.145 & 4.64 & ... & 90.0 & 0.000 & IN & 225.10 & 1 & 0 & 1 & 1.12328458 &  -9483.03 & 120\\\\\n",
       "\t60648 & 48517 & 30 & 26 & 29 & 146 & 42 & 161265.99 &  84.50309 &  7.990 & 4.64 & ... & 80.0 & 0.000 & CA & 225.10 & 1 & 0 & 1 & 0.97963352 &   3284.42 & 120\\\\\n",
       "\t60655 & 48519 & 35 & 26 & 29 & 147 & 46 & 157379.37 & 109.27909 &  8.625 & 4.64 & ... & 80.0 & 8.625 & FL & 225.10 & 1 & 0 & 1 & 1.03640897 &  -5730.02 & 121\\\\\n",
       "\t60736 & 48561 & 28 & 25 & 25 & 143 & 47 & 149123.92 &  76.80897 &  8.300 & 5.15 & ... & 75.0 & 0.000 & FL & 226.29 & 1 & 0 & 1 & 1.04327891 &  -6453.92 & 118\\\\\n",
       "\t60803 & 48658 & 29 & 22 & 25 & 143 & 47 & 379994.57 &  79.77804 &  6.800 & 4.34 & ... & 80.0 & 0.000 & GA & 216.77 & 1 & 0 & 1 & 0.56796464 & 164171.09 & 121\\\\\n",
       "\t60853 & 48694 & 27 & 23 & 25 & 143 & 50 & 208250.00 &  84.81654 &  7.650 & 4.39 & ... & 85.0 & 0.000 & WA & 221.91 & 1 & 0 & 1 & 0.44977575 & 114584.20 & 120\\\\\n",
       "\t60907 & 48705 & 45 & 23 & 25 & 143 & 52 & 332946.35 & 110.17827 &  6.800 & 4.39 & ... & 80.0 & 0.000 & IL & 221.91 & 1 & 0 & 1 & 0.83461753 &  55063.49 & 120\\\\\n",
       "\t60948 & 48741 & 30 & 24 & 27 & 145 & 44 & 360000.00 &  84.14422 &  7.100 & 4.86 & ... & 80.0 & 0.000 & CA & 223.75 & 1 & 0 & 1 & 1.00671136 &  -2416.09 & 121\\\\\n",
       "\t60999 & 48775 & 35 & 25 & 27 & 145 & 42 &  92700.93 & 124.43997 &  9.990 & 5.15 & ... & 90.0 & 0.000 & MO & 226.29 & 1 & 0 & 1 & 0.93431630 &   6088.94 & 120\\\\\n",
       "\t61039 & 48780 & 33 & 25 & 27 & 145 & 48 & 393680.71 &  99.69628 &  7.750 & 5.15 & ... & 80.0 & 0.000 & CA & 226.29 & 1 & 0 & 1 & 0.89198379 &  42523.90 & 120\\\\\n",
       "\t61042 & 48781 & 29 & 25 & 27 & 145 & 42 & 310995.14 &  83.01465 &  6.875 & 5.15 & ... & 80.0 & 0.000 & CA & 226.29 & 1 & 0 & 1 & 0.82743361 &  53667.31 & 120\\\\\n",
       "\t61078 & 48819 & 47 & 25 & 27 & 186 & 51 & 196007.93 & 126.97634 &  5.125 & 5.15 & ... & 80.0 & 5.125 & GA & 226.29 & 1 & 0 & 1 & 0.51262630 &  95529.11 & 161\\\\\n",
       "\t61082 & 48845 & 31 & 25 & 28 & 146 & 47 & 356250.00 & 107.12887 &  9.000 & 5.15 & ... & 95.0 & 0.000 & ID & 226.29 & 1 & 0 & 1 & 0.81333179 &  66500.55 & 121\\\\\n",
       "\t61150 & 48873 & 44 & 25 & 28 & 186 & 49 & 126643.68 & 155.61327 &  4.750 & 5.15 & ... & 80.1 & 4.750 & AL & 226.29 & 1 & 0 & 1 & 0.89997369 &  12667.70 & 161\\\\\n",
       "\t61157 & 48922 & 29 & 25 & 28 & 146 & 32 & 458601.77 &  78.00996 &  7.990 & 5.15 & ... & 75.0 & 0.000 & CA & 226.29 & 1 & 0 & 1 & 0.27341997 & 333210.89 & 121\\\\\n",
       "\t61207 & 48937 & 44 & 25 & 28 & 146 & 48 & 195772.03 & 133.43670 &  9.300 & 5.15 & ... & 90.0 & 0.000 & FL & 226.29 & 1 & 0 & 1 & 1.00026270 &    -51.43 & 121\\\\\n",
       "\t61218 & 48945 & 38 & 26 & 28 & 146 & 52 & 583838.26 & 126.37417 &  6.725 & 4.64 & ... & 90.0 & 0.000 & CA & 225.10 & 1 & 0 & 1 & 0.72877541 & 158351.29 & 120\\\\\n",
       "\t61268 & 48949 & 43 & 26 & 28 & 146 & 52 & 360759.54 & 125.40339 &  6.500 & 4.64 & ... & 80.0 & 0.000 & IL & 225.10 & 1 & 0 & 1 & 0.74293290 &  92739.41 & 120\\\\\n",
       "\t61311 & 48989 & 37 & 26 & 28 & 147 & 46 & 187263.30 &  91.67646 &  8.638 & 4.64 & ... & 61.7 & 8.638 & FL & 225.10 & 1 & 0 & 1 & 0.82194178 &  33343.77 & 121\\\\\n",
       "\t61354 & 49002 & 37 & 27 & 28 & 147 & 50 & 118040.63 & 129.19542 & 10.000 & 4.71 & ... & 90.0 & 0.000 & GA & 222.39 & 1 & 0 & 1 & 0.86628274 &  15784.07 & 120\\\\\n",
       "\t61393 & 49060 & 28 & 25 & 27 & 145 & 33 & 412000.00 &  82.41089 &  6.800 & 5.15 & ... & 80.0 & 0.000 & CA & 226.29 & 1 & 0 & 1 & 0.38200447 & 254614.16 & 120\\\\\n",
       "\t61426 & 49087 & 31 & 27 & 30 & 147 & 41 & 151521.46 &  88.37987 &  9.290 & 4.71 & ... & 80.0 & 0.000 & FL & 222.39 & 1 & 0 & 1 & 1.12411522 & -18806.12 & 120\\\\\n",
       "\t61508 & 49117 & 49 & 27 & 30 & 148 & 55 &  75134.67 & 123.95751 &  8.990 & 4.71 & ... & 90.0 & 0.000 & IL & 222.39 & 1 & 0 & 1 & 1.18117388 & -13612.44 & 121\\\\\n",
       "\t61541 & 49158 & 32 & 27 & 30 & 147 & 36 & 455697.21 & 102.69095 &  9.150 & 4.71 & ... & 86.0 & 0.000 & FL & 222.39 & 1 & 0 & 1 & 0.63171074 & 167828.39 & 120\\\\\n",
       "\t61554 & 49171 & 40 & 25 & 28 & 146 & 60 & 373053.03 &  87.17315 &  8.464 & 5.15 & ... & 59.2 & 8.464 & CA & 226.29 & 1 & 0 & 1 & 0.62158651 & 141168.30 & 121\\\\\n",
       "\t61571 & 49174 & 43 & 24 & 27 & 145 & 56 & 215779.47 &  88.40344 &  7.250 & 4.86 & ... & 60.0 & 7.250 & NJ & 223.75 & 1 & 0 & 1 & 0.62155533 &  81660.59 & 121\\\\\n",
       "\\end{tabular}\n"
      ],
      "text/markdown": [
       "\n",
       "A data.frame: 1160 × 29\n",
       "\n",
       "| <!--/--> | id &lt;int&gt; | time &lt;int&gt; | orig_time &lt;int&gt; | first_time &lt;int&gt; | mat_time &lt;int&gt; | res_time &lt;int&gt; | balance_time &lt;dbl&gt; | LTV_time &lt;dbl&gt; | interest_rate_time &lt;dbl&gt; | rate_time &lt;dbl&gt; | ... ... | LTV_orig_time &lt;dbl&gt; | Interest_Rate_orig_time &lt;dbl&gt; | state_orig_time &lt;chr&gt; | hpi_orig_time &lt;dbl&gt; | default_time &lt;int&gt; | payoff_time &lt;int&gt; | status_time &lt;int&gt; | lgd_time &lt;dbl&gt; | recovery_res &lt;dbl&gt; | mat_diff &lt;int&gt; |\n",
       "|---|---|---|---|---|---|---|---|---|---|---|---|---|---|---|---|---|---|---|---|---|---|\n",
       "| 264 |  191 | 31 | 23 | 26 | 143 | 38 | 223884.74 |  87.17673 |  7.360 | 4.39 | ... |  80.0 |  7.360 | FL | 221.91 | 1 | 0 | 1 | 0.8839190 |  25988.76 | 120 |\n",
       "| 357 |  330 | 33 | 27 | 28 | 147 | 43 | 144374.85 |  98.27270 |  9.045 | 4.71 | ... |  80.0 |  9.045 | FL | 222.39 | 1 | 0 | 1 | 1.2362130 | -34103.22 | 120 |\n",
       "| 361 |  331 | 31 | 26 | 28 | 147 | 60 | 285484.83 |  89.45262 | 10.620 | 4.64 | ... |  80.0 | 10.620 | FL | 225.10 | 1 | 0 | 1 | 0.7068702 |  83684.11 | 121 |\n",
       "| 373 |  343 | 42 | 27 | 32 | 148 | 44 |  79140.44 | 121.46337 |  8.870 | 4.71 | ... |  90.0 |  8.870 | MD | 222.39 | 1 | 0 | 1 | 1.0773594 |  -6122.26 | 121 |\n",
       "| 421 |  385 | 39 | 28 | 32 |  88 | 41 | 150074.42 | 122.61168 |  9.820 | 4.65 | ... |  95.0 |  9.820 | TX | 219.67 | 1 | 0 | 1 | 0.3518053 |  97277.45 |  60 |\n",
       "| 427 |  387 | 37 | 28 | 32 | 148 | 60 | 539016.07 | 124.54121 |  8.990 | 4.65 | ... |  87.1 |  8.990 | NY | 219.67 | 1 | 0 | 1 | 0.7726883 | 122524.67 | 120 |\n",
       "| 429 |  392 | 33 | 28 | 32 | 148 | 36 | 215294.72 |  97.03201 |  6.825 | 4.65 | ... |  80.0 |  6.825 | CA | 219.67 | 1 | 0 | 1 | 0.8547624 |  31268.89 | 120 |\n",
       "| 642 |  652 | 27 | 17 | 20 | 138 | 27 | 332004.84 |  55.81249 | 12.690 | 4.62 | ... |  70.0 |  0.000 | NY | 179.45 | 1 | 0 | 1 | 0.0000000 | 332004.84 | 121 |\n",
       "| 683 |  679 | 31 | 26 | 28 | 146 | 37 | 127240.41 |  95.15396 | 11.100 | 4.64 | ... |  85.0 |  0.000 | MA | 225.10 | 1 | 0 | 1 | 0.5542172 |  56721.59 | 120 |\n",
       "| 748 |  740 | 30 | 19 | 19 | 133 | 48 |  64638.97 |  69.24266 |  8.650 | 4.24 | ... |  80.0 |  8.650 | FL | 191.42 | 1 | 0 | 1 | 1.1488658 |  -9622.53 | 114 |\n",
       "| 770 |  759 | 37 | 19 | 19 | 133 | 43 |  61761.12 |  95.53118 |  9.250 | 4.24 | ... |  80.0 |  0.000 | AL | 191.42 | 1 | 0 | 1 | 0.5983735 |  24804.90 | 114 |\n",
       "| 785 |  769 | 34 | 25 | 27 | 145 | 37 | 196409.61 | 100.89020 |  8.750 | 5.15 | ... |  78.7 |  0.000 | CA | 226.29 | 1 | 0 | 1 | 0.7574849 |  47632.29 | 120 |\n",
       "| 791 |  782 | 30 | 26 | 28 | 146 | 33 | 366173.45 |  75.97373 | 10.600 | 4.64 | ... |  72.0 |  0.000 | NE | 225.10 | 1 | 0 | 1 | 0.2338590 | 280540.48 | 120 |\n",
       "| 795 |  791 | 31 | 26 | 28 | 146 | 35 | 458566.95 | 111.83691 |  8.280 | 4.64 | ... | 100.0 |  0.000 | CA | 225.10 | 1 | 0 | 1 | 0.5329454 | 214175.81 | 120 |\n",
       "| 799 |  803 | 31 | 26 | 28 | 146 | 34 | 348558.74 | 111.71230 |  9.999 | 4.64 | ... | 100.0 |  9.999 | FL | 225.10 | 1 | 0 | 1 | 0.7294550 |  94300.82 | 120 |\n",
       "| 815 |  811 | 28 | 26 | 28 | 146 | 30 | 329541.99 | 102.32967 |  7.850 | 4.64 | ... | 100.0 |  7.850 | CA | 225.10 | 1 | 0 | 1 | 0.5131334 | 160442.98 | 120 |\n",
       "| 818 |  814 | 30 | 26 | 28 | 146 | 36 | 287741.75 |  84.57600 |  8.875 | 4.64 | ... |  80.0 |  8.875 | MA | 225.10 | 1 | 0 | 1 | 0.9858357 |   4075.66 | 120 |\n",
       "| 840 |  832 | 38 | 26 | 28 | 146 | 53 | 426370.26 | 103.28580 |  7.000 | 4.64 | ... |  73.3 |  7.000 | WA | 225.10 | 1 | 0 | 1 | 0.2896095 | 302889.40 | 120 |\n",
       "| 876 |  871 | 35 | 26 | 28 | 146 | 39 | 261235.72 | 103.65346 |  8.650 | 4.64 | ... |  75.0 |  0.000 | FL | 225.10 | 1 | 0 | 1 | 0.6842376 |  82488.42 | 120 |\n",
       "| 893 |  878 | 32 | 17 | 20 | 137 | 39 |  82256.05 |  75.53165 | 11.625 | 4.62 | ... |  80.0 |  0.000 | TX | 179.45 | 1 | 0 | 1 | 0.1690921 |  68347.20 | 120 |\n",
       "| 903 |  890 | 34 | 25 | 27 | 145 | 40 | 284965.53 | 115.52553 |  8.950 | 5.15 | ... |  90.0 |  0.000 | AZ | 226.29 | 1 | 0 | 1 | 0.7864368 |  60858.15 | 120 |\n",
       "| 919 |  902 | 35 | 25 | 27 | 146 | 42 | 205059.75 | 110.96087 |  9.625 | 5.15 | ... |  80.0 |  0.000 | FL | 226.29 | 1 | 0 | 1 | 0.9309138 |  14166.79 | 121 |\n",
       "| 923 |  903 | 31 | 26 | 28 | 146 | 35 | 688699.99 | 111.96287 |  9.330 | 4.64 | ... | 100.0 |  0.000 | CA | 225.10 | 1 | 0 | 1 | 0.2556302 | 512647.44 | 120 |\n",
       "| 973 |  991 | 20 | 19 | 19 | 129 | 37 |  62429.23 |  71.41425 | 11.240 | 4.24 | ... |  75.0 | 11.240 | SC | 191.42 | 1 | 0 | 1 | 0.6895759 |  19379.54 | 110 |\n",
       "| 1113 | 1101 | 20 | 16 | 18 | 136 | 21 | 196130.48 |  75.14288 |  6.400 | 3.86 | ... |  90.0 |  0.000 | DC | 167.91 | 1 | 0 | 1 | 0.0000000 | 196130.48 | 120 |\n",
       "| 1162 | 1138 | 30 | 17 | 20 | 138 | 32 | 116115.89 |  67.08934 |  9.250 | 4.62 | ... |  80.0 |  6.250 | WA | 179.45 | 1 | 0 | 1 | 0.0000000 | 116115.89 | 121 |\n",
       "| 1288 | 1222 | 21 | 18 | 21 | 139 | 35 |  56189.27 |  67.04546 |  9.075 | 4.14 | ... |  75.0 |  9.075 | MI | 186.91 | 1 | 0 | 1 | 1.0197073 |  -1107.34 | 121 |\n",
       "| 1473 | 1290 | 40 | 20 | 22 | 140 | 57 |  62805.36 | 116.92201 |  6.200 | 4.50 | ... |  78.1 |  0.000 | TN | 199.21 | 1 | 0 | 1 | 1.1027052 |  -6450.44 | 120 |\n",
       "| 1546 | 1380 | 32 | 28 | 32 | 148 | 33 | 100891.07 |  93.76197 |  6.785 | 4.65 | ... |  80.0 |  6.785 | CA | 219.67 | 1 | 0 | 1 | 0.0000000 | 100891.07 | 120 |\n",
       "| 1547 | 1389 | 32 | 28 | 32 | 148 | 33 | 151791.95 | 111.97123 |  9.375 | 4.65 | ... |  95.0 |  9.375 | CA | 219.67 | 1 | 0 | 1 | 0.0000000 | 151791.95 | 120 |\n",
       "| ... | ... | ... | ... | ... | ... | ... | ... | ... | ... | ... | <!----> | ... | ... | ... | ... | ... | ... | ... | ... | ... | ... |\n",
       "| 59949 | 47721 | 55 | 18 | 52 | 138 | 59 | 106593.41 |  73.03128 |  6.650 | 4.14 | ... | 80.0 | 6.650 | LA | 186.91 | 1 | 0 | 1 | 0.04319779 | 101988.81 | 120 |\n",
       "| 60493 | 48460 | 28 | 24 | 26 | 144 | 35 | 349673.13 |  96.26155 |  8.875 | 4.86 | ... | 95.0 | 0.000 | CA | 223.75 | 1 | 0 | 1 | 0.88351524 |  40731.59 | 120 |\n",
       "| 60540 | 48477 | 37 | 24 | 26 | 145 | 41 | 114845.22 | 128.56543 |  9.750 | 4.86 | ... | 89.0 | 0.000 | VA | 223.75 | 1 | 0 | 1 | 0.41503591 |  67180.33 | 121 |\n",
       "| 60580 | 48484 | 33 | 26 | 29 | 146 | 46 | 167739.52 |  83.66534 | 10.190 | 4.64 | ... | 67.2 | 0.000 | NV | 225.10 | 1 | 0 | 1 | 0.95071913 |   8266.35 | 120 |\n",
       "| 60646 | 48510 | 33 | 26 | 29 | 146 | 42 |  76919.84 | 111.67387 |  9.145 | 4.64 | ... | 90.0 | 0.000 | IN | 225.10 | 1 | 0 | 1 | 1.12328458 |  -9483.03 | 120 |\n",
       "| 60648 | 48517 | 30 | 26 | 29 | 146 | 42 | 161265.99 |  84.50309 |  7.990 | 4.64 | ... | 80.0 | 0.000 | CA | 225.10 | 1 | 0 | 1 | 0.97963352 |   3284.42 | 120 |\n",
       "| 60655 | 48519 | 35 | 26 | 29 | 147 | 46 | 157379.37 | 109.27909 |  8.625 | 4.64 | ... | 80.0 | 8.625 | FL | 225.10 | 1 | 0 | 1 | 1.03640897 |  -5730.02 | 121 |\n",
       "| 60736 | 48561 | 28 | 25 | 25 | 143 | 47 | 149123.92 |  76.80897 |  8.300 | 5.15 | ... | 75.0 | 0.000 | FL | 226.29 | 1 | 0 | 1 | 1.04327891 |  -6453.92 | 118 |\n",
       "| 60803 | 48658 | 29 | 22 | 25 | 143 | 47 | 379994.57 |  79.77804 |  6.800 | 4.34 | ... | 80.0 | 0.000 | GA | 216.77 | 1 | 0 | 1 | 0.56796464 | 164171.09 | 121 |\n",
       "| 60853 | 48694 | 27 | 23 | 25 | 143 | 50 | 208250.00 |  84.81654 |  7.650 | 4.39 | ... | 85.0 | 0.000 | WA | 221.91 | 1 | 0 | 1 | 0.44977575 | 114584.20 | 120 |\n",
       "| 60907 | 48705 | 45 | 23 | 25 | 143 | 52 | 332946.35 | 110.17827 |  6.800 | 4.39 | ... | 80.0 | 0.000 | IL | 221.91 | 1 | 0 | 1 | 0.83461753 |  55063.49 | 120 |\n",
       "| 60948 | 48741 | 30 | 24 | 27 | 145 | 44 | 360000.00 |  84.14422 |  7.100 | 4.86 | ... | 80.0 | 0.000 | CA | 223.75 | 1 | 0 | 1 | 1.00671136 |  -2416.09 | 121 |\n",
       "| 60999 | 48775 | 35 | 25 | 27 | 145 | 42 |  92700.93 | 124.43997 |  9.990 | 5.15 | ... | 90.0 | 0.000 | MO | 226.29 | 1 | 0 | 1 | 0.93431630 |   6088.94 | 120 |\n",
       "| 61039 | 48780 | 33 | 25 | 27 | 145 | 48 | 393680.71 |  99.69628 |  7.750 | 5.15 | ... | 80.0 | 0.000 | CA | 226.29 | 1 | 0 | 1 | 0.89198379 |  42523.90 | 120 |\n",
       "| 61042 | 48781 | 29 | 25 | 27 | 145 | 42 | 310995.14 |  83.01465 |  6.875 | 5.15 | ... | 80.0 | 0.000 | CA | 226.29 | 1 | 0 | 1 | 0.82743361 |  53667.31 | 120 |\n",
       "| 61078 | 48819 | 47 | 25 | 27 | 186 | 51 | 196007.93 | 126.97634 |  5.125 | 5.15 | ... | 80.0 | 5.125 | GA | 226.29 | 1 | 0 | 1 | 0.51262630 |  95529.11 | 161 |\n",
       "| 61082 | 48845 | 31 | 25 | 28 | 146 | 47 | 356250.00 | 107.12887 |  9.000 | 5.15 | ... | 95.0 | 0.000 | ID | 226.29 | 1 | 0 | 1 | 0.81333179 |  66500.55 | 121 |\n",
       "| 61150 | 48873 | 44 | 25 | 28 | 186 | 49 | 126643.68 | 155.61327 |  4.750 | 5.15 | ... | 80.1 | 4.750 | AL | 226.29 | 1 | 0 | 1 | 0.89997369 |  12667.70 | 161 |\n",
       "| 61157 | 48922 | 29 | 25 | 28 | 146 | 32 | 458601.77 |  78.00996 |  7.990 | 5.15 | ... | 75.0 | 0.000 | CA | 226.29 | 1 | 0 | 1 | 0.27341997 | 333210.89 | 121 |\n",
       "| 61207 | 48937 | 44 | 25 | 28 | 146 | 48 | 195772.03 | 133.43670 |  9.300 | 5.15 | ... | 90.0 | 0.000 | FL | 226.29 | 1 | 0 | 1 | 1.00026270 |    -51.43 | 121 |\n",
       "| 61218 | 48945 | 38 | 26 | 28 | 146 | 52 | 583838.26 | 126.37417 |  6.725 | 4.64 | ... | 90.0 | 0.000 | CA | 225.10 | 1 | 0 | 1 | 0.72877541 | 158351.29 | 120 |\n",
       "| 61268 | 48949 | 43 | 26 | 28 | 146 | 52 | 360759.54 | 125.40339 |  6.500 | 4.64 | ... | 80.0 | 0.000 | IL | 225.10 | 1 | 0 | 1 | 0.74293290 |  92739.41 | 120 |\n",
       "| 61311 | 48989 | 37 | 26 | 28 | 147 | 46 | 187263.30 |  91.67646 |  8.638 | 4.64 | ... | 61.7 | 8.638 | FL | 225.10 | 1 | 0 | 1 | 0.82194178 |  33343.77 | 121 |\n",
       "| 61354 | 49002 | 37 | 27 | 28 | 147 | 50 | 118040.63 | 129.19542 | 10.000 | 4.71 | ... | 90.0 | 0.000 | GA | 222.39 | 1 | 0 | 1 | 0.86628274 |  15784.07 | 120 |\n",
       "| 61393 | 49060 | 28 | 25 | 27 | 145 | 33 | 412000.00 |  82.41089 |  6.800 | 5.15 | ... | 80.0 | 0.000 | CA | 226.29 | 1 | 0 | 1 | 0.38200447 | 254614.16 | 120 |\n",
       "| 61426 | 49087 | 31 | 27 | 30 | 147 | 41 | 151521.46 |  88.37987 |  9.290 | 4.71 | ... | 80.0 | 0.000 | FL | 222.39 | 1 | 0 | 1 | 1.12411522 | -18806.12 | 120 |\n",
       "| 61508 | 49117 | 49 | 27 | 30 | 148 | 55 |  75134.67 | 123.95751 |  8.990 | 4.71 | ... | 90.0 | 0.000 | IL | 222.39 | 1 | 0 | 1 | 1.18117388 | -13612.44 | 121 |\n",
       "| 61541 | 49158 | 32 | 27 | 30 | 147 | 36 | 455697.21 | 102.69095 |  9.150 | 4.71 | ... | 86.0 | 0.000 | FL | 222.39 | 1 | 0 | 1 | 0.63171074 | 167828.39 | 120 |\n",
       "| 61554 | 49171 | 40 | 25 | 28 | 146 | 60 | 373053.03 |  87.17315 |  8.464 | 5.15 | ... | 59.2 | 8.464 | CA | 226.29 | 1 | 0 | 1 | 0.62158651 | 141168.30 | 121 |\n",
       "| 61571 | 49174 | 43 | 24 | 27 | 145 | 56 | 215779.47 |  88.40344 |  7.250 | 4.86 | ... | 60.0 | 7.250 | NJ | 223.75 | 1 | 0 | 1 | 0.62155533 |  81660.59 | 121 |\n",
       "\n"
      ],
      "text/plain": [
       "      id    time orig_time first_time mat_time res_time balance_time LTV_time \n",
       "264    191  31   23        26         143      38       223884.74     87.17673\n",
       "357    330  33   27        28         147      43       144374.85     98.27270\n",
       "361    331  31   26        28         147      60       285484.83     89.45262\n",
       "373    343  42   27        32         148      44        79140.44    121.46337\n",
       "421    385  39   28        32          88      41       150074.42    122.61168\n",
       "427    387  37   28        32         148      60       539016.07    124.54121\n",
       "429    392  33   28        32         148      36       215294.72     97.03201\n",
       "642    652  27   17        20         138      27       332004.84     55.81249\n",
       "683    679  31   26        28         146      37       127240.41     95.15396\n",
       "748    740  30   19        19         133      48        64638.97     69.24266\n",
       "770    759  37   19        19         133      43        61761.12     95.53118\n",
       "785    769  34   25        27         145      37       196409.61    100.89020\n",
       "791    782  30   26        28         146      33       366173.45     75.97373\n",
       "795    791  31   26        28         146      35       458566.95    111.83691\n",
       "799    803  31   26        28         146      34       348558.74    111.71230\n",
       "815    811  28   26        28         146      30       329541.99    102.32967\n",
       "818    814  30   26        28         146      36       287741.75     84.57600\n",
       "840    832  38   26        28         146      53       426370.26    103.28580\n",
       "876    871  35   26        28         146      39       261235.72    103.65346\n",
       "893    878  32   17        20         137      39        82256.05     75.53165\n",
       "903    890  34   25        27         145      40       284965.53    115.52553\n",
       "919    902  35   25        27         146      42       205059.75    110.96087\n",
       "923    903  31   26        28         146      35       688699.99    111.96287\n",
       "973    991  20   19        19         129      37        62429.23     71.41425\n",
       "1113  1101  20   16        18         136      21       196130.48     75.14288\n",
       "1162  1138  30   17        20         138      32       116115.89     67.08934\n",
       "1288  1222  21   18        21         139      35        56189.27     67.04546\n",
       "1473  1290  40   20        22         140      57        62805.36    116.92201\n",
       "1546  1380  32   28        32         148      33       100891.07     93.76197\n",
       "1547  1389  32   28        32         148      33       151791.95    111.97123\n",
       "...   ...   ...  ...       ...        ...      ...      ...          ...      \n",
       "59949 47721 55   18        52         138      59       106593.41     73.03128\n",
       "60493 48460 28   24        26         144      35       349673.13     96.26155\n",
       "60540 48477 37   24        26         145      41       114845.22    128.56543\n",
       "60580 48484 33   26        29         146      46       167739.52     83.66534\n",
       "60646 48510 33   26        29         146      42        76919.84    111.67387\n",
       "60648 48517 30   26        29         146      42       161265.99     84.50309\n",
       "60655 48519 35   26        29         147      46       157379.37    109.27909\n",
       "60736 48561 28   25        25         143      47       149123.92     76.80897\n",
       "60803 48658 29   22        25         143      47       379994.57     79.77804\n",
       "60853 48694 27   23        25         143      50       208250.00     84.81654\n",
       "60907 48705 45   23        25         143      52       332946.35    110.17827\n",
       "60948 48741 30   24        27         145      44       360000.00     84.14422\n",
       "60999 48775 35   25        27         145      42        92700.93    124.43997\n",
       "61039 48780 33   25        27         145      48       393680.71     99.69628\n",
       "61042 48781 29   25        27         145      42       310995.14     83.01465\n",
       "61078 48819 47   25        27         186      51       196007.93    126.97634\n",
       "61082 48845 31   25        28         146      47       356250.00    107.12887\n",
       "61150 48873 44   25        28         186      49       126643.68    155.61327\n",
       "61157 48922 29   25        28         146      32       458601.77     78.00996\n",
       "61207 48937 44   25        28         146      48       195772.03    133.43670\n",
       "61218 48945 38   26        28         146      52       583838.26    126.37417\n",
       "61268 48949 43   26        28         146      52       360759.54    125.40339\n",
       "61311 48989 37   26        28         147      46       187263.30     91.67646\n",
       "61354 49002 37   27        28         147      50       118040.63    129.19542\n",
       "61393 49060 28   25        27         145      33       412000.00     82.41089\n",
       "61426 49087 31   27        30         147      41       151521.46     88.37987\n",
       "61508 49117 49   27        30         148      55        75134.67    123.95751\n",
       "61541 49158 32   27        30         147      36       455697.21    102.69095\n",
       "61554 49171 40   25        28         146      60       373053.03     87.17315\n",
       "61571 49174 43   24        27         145      56       215779.47     88.40344\n",
       "      interest_rate_time rate_time ... LTV_orig_time Interest_Rate_orig_time\n",
       "264    7.360             4.39      ...  80.0          7.360                 \n",
       "357    9.045             4.71      ...  80.0          9.045                 \n",
       "361   10.620             4.64      ...  80.0         10.620                 \n",
       "373    8.870             4.71      ...  90.0          8.870                 \n",
       "421    9.820             4.65      ...  95.0          9.820                 \n",
       "427    8.990             4.65      ...  87.1          8.990                 \n",
       "429    6.825             4.65      ...  80.0          6.825                 \n",
       "642   12.690             4.62      ...  70.0          0.000                 \n",
       "683   11.100             4.64      ...  85.0          0.000                 \n",
       "748    8.650             4.24      ...  80.0          8.650                 \n",
       "770    9.250             4.24      ...  80.0          0.000                 \n",
       "785    8.750             5.15      ...  78.7          0.000                 \n",
       "791   10.600             4.64      ...  72.0          0.000                 \n",
       "795    8.280             4.64      ... 100.0          0.000                 \n",
       "799    9.999             4.64      ... 100.0          9.999                 \n",
       "815    7.850             4.64      ... 100.0          7.850                 \n",
       "818    8.875             4.64      ...  80.0          8.875                 \n",
       "840    7.000             4.64      ...  73.3          7.000                 \n",
       "876    8.650             4.64      ...  75.0          0.000                 \n",
       "893   11.625             4.62      ...  80.0          0.000                 \n",
       "903    8.950             5.15      ...  90.0          0.000                 \n",
       "919    9.625             5.15      ...  80.0          0.000                 \n",
       "923    9.330             4.64      ... 100.0          0.000                 \n",
       "973   11.240             4.24      ...  75.0         11.240                 \n",
       "1113   6.400             3.86      ...  90.0          0.000                 \n",
       "1162   9.250             4.62      ...  80.0          6.250                 \n",
       "1288   9.075             4.14      ...  75.0          9.075                 \n",
       "1473   6.200             4.50      ...  78.1          0.000                 \n",
       "1546   6.785             4.65      ...  80.0          6.785                 \n",
       "1547   9.375             4.65      ...  95.0          9.375                 \n",
       "...   ...                ...           ...           ...                    \n",
       "59949  6.650             4.14      ... 80.0          6.650                  \n",
       "60493  8.875             4.86      ... 95.0          0.000                  \n",
       "60540  9.750             4.86      ... 89.0          0.000                  \n",
       "60580 10.190             4.64      ... 67.2          0.000                  \n",
       "60646  9.145             4.64      ... 90.0          0.000                  \n",
       "60648  7.990             4.64      ... 80.0          0.000                  \n",
       "60655  8.625             4.64      ... 80.0          8.625                  \n",
       "60736  8.300             5.15      ... 75.0          0.000                  \n",
       "60803  6.800             4.34      ... 80.0          0.000                  \n",
       "60853  7.650             4.39      ... 85.0          0.000                  \n",
       "60907  6.800             4.39      ... 80.0          0.000                  \n",
       "60948  7.100             4.86      ... 80.0          0.000                  \n",
       "60999  9.990             5.15      ... 90.0          0.000                  \n",
       "61039  7.750             5.15      ... 80.0          0.000                  \n",
       "61042  6.875             5.15      ... 80.0          0.000                  \n",
       "61078  5.125             5.15      ... 80.0          5.125                  \n",
       "61082  9.000             5.15      ... 95.0          0.000                  \n",
       "61150  4.750             5.15      ... 80.1          4.750                  \n",
       "61157  7.990             5.15      ... 75.0          0.000                  \n",
       "61207  9.300             5.15      ... 90.0          0.000                  \n",
       "61218  6.725             4.64      ... 90.0          0.000                  \n",
       "61268  6.500             4.64      ... 80.0          0.000                  \n",
       "61311  8.638             4.64      ... 61.7          8.638                  \n",
       "61354 10.000             4.71      ... 90.0          0.000                  \n",
       "61393  6.800             5.15      ... 80.0          0.000                  \n",
       "61426  9.290             4.71      ... 80.0          0.000                  \n",
       "61508  8.990             4.71      ... 90.0          0.000                  \n",
       "61541  9.150             4.71      ... 86.0          0.000                  \n",
       "61554  8.464             5.15      ... 59.2          8.464                  \n",
       "61571  7.250             4.86      ... 60.0          7.250                  \n",
       "      state_orig_time hpi_orig_time default_time payoff_time status_time\n",
       "264   FL              221.91        1            0           1          \n",
       "357   FL              222.39        1            0           1          \n",
       "361   FL              225.10        1            0           1          \n",
       "373   MD              222.39        1            0           1          \n",
       "421   TX              219.67        1            0           1          \n",
       "427   NY              219.67        1            0           1          \n",
       "429   CA              219.67        1            0           1          \n",
       "642   NY              179.45        1            0           1          \n",
       "683   MA              225.10        1            0           1          \n",
       "748   FL              191.42        1            0           1          \n",
       "770   AL              191.42        1            0           1          \n",
       "785   CA              226.29        1            0           1          \n",
       "791   NE              225.10        1            0           1          \n",
       "795   CA              225.10        1            0           1          \n",
       "799   FL              225.10        1            0           1          \n",
       "815   CA              225.10        1            0           1          \n",
       "818   MA              225.10        1            0           1          \n",
       "840   WA              225.10        1            0           1          \n",
       "876   FL              225.10        1            0           1          \n",
       "893   TX              179.45        1            0           1          \n",
       "903   AZ              226.29        1            0           1          \n",
       "919   FL              226.29        1            0           1          \n",
       "923   CA              225.10        1            0           1          \n",
       "973   SC              191.42        1            0           1          \n",
       "1113  DC              167.91        1            0           1          \n",
       "1162  WA              179.45        1            0           1          \n",
       "1288  MI              186.91        1            0           1          \n",
       "1473  TN              199.21        1            0           1          \n",
       "1546  CA              219.67        1            0           1          \n",
       "1547  CA              219.67        1            0           1          \n",
       "...   ...             ...           ...          ...         ...        \n",
       "59949 LA              186.91        1            0           1          \n",
       "60493 CA              223.75        1            0           1          \n",
       "60540 VA              223.75        1            0           1          \n",
       "60580 NV              225.10        1            0           1          \n",
       "60646 IN              225.10        1            0           1          \n",
       "60648 CA              225.10        1            0           1          \n",
       "60655 FL              225.10        1            0           1          \n",
       "60736 FL              226.29        1            0           1          \n",
       "60803 GA              216.77        1            0           1          \n",
       "60853 WA              221.91        1            0           1          \n",
       "60907 IL              221.91        1            0           1          \n",
       "60948 CA              223.75        1            0           1          \n",
       "60999 MO              226.29        1            0           1          \n",
       "61039 CA              226.29        1            0           1          \n",
       "61042 CA              226.29        1            0           1          \n",
       "61078 GA              226.29        1            0           1          \n",
       "61082 ID              226.29        1            0           1          \n",
       "61150 AL              226.29        1            0           1          \n",
       "61157 CA              226.29        1            0           1          \n",
       "61207 FL              226.29        1            0           1          \n",
       "61218 CA              225.10        1            0           1          \n",
       "61268 IL              225.10        1            0           1          \n",
       "61311 FL              225.10        1            0           1          \n",
       "61354 GA              222.39        1            0           1          \n",
       "61393 CA              226.29        1            0           1          \n",
       "61426 FL              222.39        1            0           1          \n",
       "61508 IL              222.39        1            0           1          \n",
       "61541 FL              222.39        1            0           1          \n",
       "61554 CA              226.29        1            0           1          \n",
       "61571 NJ              223.75        1            0           1          \n",
       "      lgd_time   recovery_res mat_diff\n",
       "264   0.8839190   25988.76    120     \n",
       "357   1.2362130  -34103.22    120     \n",
       "361   0.7068702   83684.11    121     \n",
       "373   1.0773594   -6122.26    121     \n",
       "421   0.3518053   97277.45     60     \n",
       "427   0.7726883  122524.67    120     \n",
       "429   0.8547624   31268.89    120     \n",
       "642   0.0000000  332004.84    121     \n",
       "683   0.5542172   56721.59    120     \n",
       "748   1.1488658   -9622.53    114     \n",
       "770   0.5983735   24804.90    114     \n",
       "785   0.7574849   47632.29    120     \n",
       "791   0.2338590  280540.48    120     \n",
       "795   0.5329454  214175.81    120     \n",
       "799   0.7294550   94300.82    120     \n",
       "815   0.5131334  160442.98    120     \n",
       "818   0.9858357    4075.66    120     \n",
       "840   0.2896095  302889.40    120     \n",
       "876   0.6842376   82488.42    120     \n",
       "893   0.1690921   68347.20    120     \n",
       "903   0.7864368   60858.15    120     \n",
       "919   0.9309138   14166.79    121     \n",
       "923   0.2556302  512647.44    120     \n",
       "973   0.6895759   19379.54    110     \n",
       "1113  0.0000000  196130.48    120     \n",
       "1162  0.0000000  116115.89    121     \n",
       "1288  1.0197073   -1107.34    121     \n",
       "1473  1.1027052   -6450.44    120     \n",
       "1546  0.0000000  100891.07    120     \n",
       "1547  0.0000000  151791.95    120     \n",
       "...   ...        ...          ...     \n",
       "59949 0.04319779 101988.81    120     \n",
       "60493 0.88351524  40731.59    120     \n",
       "60540 0.41503591  67180.33    121     \n",
       "60580 0.95071913   8266.35    120     \n",
       "60646 1.12328458  -9483.03    120     \n",
       "60648 0.97963352   3284.42    120     \n",
       "60655 1.03640897  -5730.02    121     \n",
       "60736 1.04327891  -6453.92    118     \n",
       "60803 0.56796464 164171.09    121     \n",
       "60853 0.44977575 114584.20    120     \n",
       "60907 0.83461753  55063.49    120     \n",
       "60948 1.00671136  -2416.09    121     \n",
       "60999 0.93431630   6088.94    120     \n",
       "61039 0.89198379  42523.90    120     \n",
       "61042 0.82743361  53667.31    120     \n",
       "61078 0.51262630  95529.11    161     \n",
       "61082 0.81333179  66500.55    121     \n",
       "61150 0.89997369  12667.70    161     \n",
       "61157 0.27341997 333210.89    121     \n",
       "61207 1.00026270    -51.43    121     \n",
       "61218 0.72877541 158351.29    120     \n",
       "61268 0.74293290  92739.41    120     \n",
       "61311 0.82194178  33343.77    121     \n",
       "61354 0.86628274  15784.07    120     \n",
       "61393 0.38200447 254614.16    120     \n",
       "61426 1.12411522 -18806.12    120     \n",
       "61508 1.18117388 -13612.44    121     \n",
       "61541 0.63171074 167828.39    120     \n",
       "61554 0.62158651 141168.30    121     \n",
       "61571 0.62155533  81660.59    121     "
      ]
     },
     "metadata": {},
     "output_type": "display_data"
    }
   ],
   "source": [
    "# checking wheter loan resolution always appears with loan default\n",
    "subset(data, (data[, \"status_time\"] == 1) & (!is.na(data[,\"res_time\"])))"
   ]
  },
  {
   "cell_type": "code",
   "execution_count": 544,
   "metadata": {},
   "outputs": [
    {
     "data": {
      "text/plain": [
       "   Min. 1st Qu.  Median    Mean 3rd Qu.    Max.    NA's \n",
       "   0.00    0.10    0.51    0.50    0.77    2.02   60653 "
      ]
     },
     "metadata": {},
     "output_type": "display_data"
    }
   ],
   "source": [
    "# descriptive statistics for lgd\n",
    "summary(data$lgd_time)"
   ]
  },
  {
   "cell_type": "code",
   "execution_count": 545,
   "metadata": {},
   "outputs": [
    {
     "data": {
      "image/png": "[encoded data removed]",
      "text/plain": [
       "Plot with title \"Histogram of lgd\""
      ]
     },
     "metadata": {
      "image/png": {
       "height": 420,
       "width": 420
      }
     },
     "output_type": "display_data"
    }
   ],
   "source": [
    "#histogram lgd\n",
    "lgd <- data$lgd_time\n",
    "hist(lgd)"
   ]
  },
  {
   "cell_type": "code",
   "execution_count": 546,
   "metadata": {},
   "outputs": [
    {
     "data": {
      "image/png": "[encoded data removed]",
      "text/plain": [
       "Plot with title \"Histogram of resolution\""
      ]
     },
     "metadata": {
      "image/png": {
       "height": 420,
       "width": 420
      }
     },
     "output_type": "display_data"
    }
   ],
   "source": [
    "#histogram resolution \n",
    "resolution <- data$res_time\n",
    "hist(resolution)"
   ]
  },
  {
   "cell_type": "code",
   "execution_count": 547,
   "metadata": {},
   "outputs": [
    {
     "data": {
      "image/png": "[encoded data removed]",
      "text/plain": [
       "Plot with title \"Histogram of status\""
      ]
     },
     "metadata": {
      "image/png": {
       "height": 420,
       "width": 420
      }
     },
     "output_type": "display_data"
    }
   ],
   "source": [
    "#histogram of loans(0 - not payoff, nor default, 1 - default, 2 - payoff)\n",
    "status <- data$status_time\n",
    "hist(status)"
   ]
  },
  {
   "cell_type": "code",
   "execution_count": 548,
   "metadata": {},
   "outputs": [
    {
     "data": {
      "image/png": "[encoded data removed]",
      "text/plain": [
       "plot without title"
      ]
     },
     "metadata": {
      "image/png": {
       "height": 420,
       "width": 420
      }
     },
     "output_type": "display_data"
    }
   ],
   "source": [
    "# maturity distribution for given loan status\n",
    "ggplot(data=data, aes(x=status_time, y=mat_time, group=1)) +\n",
    "  geom_point()+\n",
    "    stat_summary(\n",
    "        geom = \"point\",\n",
    "        fun = \"mean\",\n",
    "        col = \"black\",\n",
    "        size = 3,\n",
    "        shape = 24,\n",
    "        fill = \"red\"\n",
    "      )"
   ]
  },
  {
   "cell_type": "code",
   "execution_count": 549,
   "metadata": {},
   "outputs": [],
   "source": [
    "# maturity distribution for given loan status\n",
    "# ggplot() +\n",
    "#     geom_boxplot(data=data[data['status_time'] == 0,],aes(y=mat_time,x=status_time),size=1)+\n",
    "#     geom_boxplot(data=data[data['status_time'] == 1,],aes(y=mat_time,x=status_time),size=1)+\n",
    "#     geom_boxplot(data=data[data['status_time'] == 2,],aes(y=mat_time,x=status_time),size=1)"
   ]
  },
  {
   "cell_type": "code",
   "execution_count": 550,
   "metadata": {},
   "outputs": [],
   "source": [
    "# maturity calculation as maturity_time-origination time of loan\n",
    "data$mat_diff <- data$mat_time-data$orig_time"
   ]
  },
  {
   "cell_type": "code",
   "execution_count": 551,
   "metadata": {},
   "outputs": [
    {
     "data": {
      "image/png": "[encoded data removed]",
      "text/plain": [
       "plot without title"
      ]
     },
     "metadata": {
      "image/png": {
       "height": 420,
       "width": 420
      }
     },
     "output_type": "display_data"
    }
   ],
   "source": [
    "# maturity distribution for given loan status\n",
    "ggplot() +\n",
    "    geom_boxplot(data=data[data['status_time'] == 0,],aes(y=mat_diff,x=status_time),size=1)+\n",
    "    geom_boxplot(data=data[data['status_time'] == 1,],aes(y=mat_diff,x=status_time),size=1)+\n",
    "    geom_boxplot(data=data[data['status_time'] == 2,],aes(y=mat_diff,x=status_time),size=1)"
   ]
  },
  {
   "cell_type": "code",
   "execution_count": 552,
   "metadata": {},
   "outputs": [
    {
     "data": {
      "image/png": "[encoded data removed]",
      "text/plain": [
       "plot without title"
      ]
     },
     "metadata": {
      "image/png": {
       "height": 420,
       "width": 420
      }
     },
     "output_type": "display_data"
    }
   ],
   "source": [
    "# distribution of outstanding balance at origination distribution by status of loan\n",
    "ggplot() +\n",
    "    geom_boxplot(data=data[data['status_time'] == 0,],aes(y=balance_orig_time,x=status_time),size=1)+\n",
    "    geom_boxplot(data=data[data['status_time'] == 1,],aes(y=balance_orig_time,x=status_time),size=1)+\n",
    "    geom_boxplot(data=data[data['status_time'] == 2,],aes(y=balance_orig_time,x=status_time),size=1)"
   ]
  },
  {
   "cell_type": "code",
   "execution_count": 553,
   "metadata": {},
   "outputs": [
    {
     "data": {
      "image/png": "[encoded data removed]",
      "text/plain": [
       "plot without title"
      ]
     },
     "metadata": {
      "image/png": {
       "height": 420,
       "width": 420
      }
     },
     "output_type": "display_data"
    }
   ],
   "source": [
    "# distribution of LTV at origination by status of loan\n",
    "ggplot() +\n",
    "    geom_boxplot(data=data[data['status_time'] == 0,],aes(y=LTV_orig_time,x=status_time),size=1)+\n",
    "    geom_boxplot(data=data[data['status_time'] == 1,],aes(y=LTV_orig_time,x=status_time),size=1)+\n",
    "    geom_boxplot(data=data[data['status_time'] == 2,],aes(y=LTV_orig_time,x=status_time),size=1)"
   ]
  },
  {
   "cell_type": "code",
   "execution_count": 554,
   "metadata": {},
   "outputs": [
    {
     "data": {
      "image/png": "[encoded data removed]",
      "text/plain": [
       "plot without title"
      ]
     },
     "metadata": {
      "image/png": {
       "height": 420,
       "width": 420
      }
     },
     "output_type": "display_data"
    }
   ],
   "source": [
    "# distribution of FICO at origination by status of loan\n",
    "ggplot() +\n",
    "    geom_boxplot(data=data[data['status_time'] == 0,],aes(y=FICO_orig_time,x=status_time),size=1)+\n",
    "    geom_boxplot(data=data[data['status_time'] == 1,],aes(y=FICO_orig_time,x=status_time),size=1)+\n",
    "    geom_boxplot(data=data[data['status_time'] == 2,],aes(y=FICO_orig_time,x=status_time),size=1)"
   ]
  },
  {
   "cell_type": "code",
   "execution_count": 555,
   "metadata": {},
   "outputs": [
    {
     "data": {
      "image/png": "[encoded data removed]",
      "text/plain": [
       "plot without title"
      ]
     },
     "metadata": {
      "image/png": {
       "height": 420,
       "width": 420
      }
     },
     "output_type": "display_data"
    }
   ],
   "source": [
    "# Interest rate against observation times\n",
    "ggplot(data=data, aes(x=time, y=interest_rate_time, group=1)) +\n",
    "  geom_point()+\n",
    "    stat_summary(\n",
    "        geom = \"point\",\n",
    "        fun = \"mean\",\n",
    "        col = \"black\",\n",
    "        size = 3,\n",
    "        shape = 24,\n",
    "        fill = \"red\"\n",
    "      )"
   ]
  },
  {
   "cell_type": "code",
   "execution_count": 556,
   "metadata": {},
   "outputs": [
    {
     "data": {
      "image/png": "[encoded data removed]",
      "text/plain": [
       "plot without title"
      ]
     },
     "metadata": {
      "image/png": {
       "height": 420,
       "width": 420
      }
     },
     "output_type": "display_data"
    }
   ],
   "source": [
    "# Risk_free Rate against observation times\n",
    "ggplot(data=data, aes(x=time, y=rate_time, group=1)) +\n",
    "  geom_point()+\n",
    "    stat_summary(\n",
    "        geom = \"point\",\n",
    "        fun = \"mean\",\n",
    "        col = \"black\",\n",
    "        size = 3,\n",
    "        shape = 24,\n",
    "        fill = \"red\"\n",
    "      )"
   ]
  },
  {
   "cell_type": "code",
   "execution_count": 557,
   "metadata": {},
   "outputs": [
    {
     "data": {
      "image/png": "[encoded data removed]",
      "text/plain": [
       "plot without title"
      ]
     },
     "metadata": {
      "image/png": {
       "height": 420,
       "width": 420
      }
     },
     "output_type": "display_data"
    }
   ],
   "source": [
    "# macro variables against time \n",
    "ggplot()+\n",
    "    geom_line(data=data,aes(y=uer_time,x= time,colour=\"unemployment_rate\"),size=1 )+\n",
    "    geom_line(data=data,aes(y=gdp_time,x= time,colour=\"gdp_rate\"),size=1) +\n",
    "    scale_color_manual(values = c(\n",
    "    'unemployment_rate' = 'red',\n",
    "    'gdp_rate' = 'darkred')) +\n",
    "  labs(color = 'Macro_variables')"
   ]
  },
  {
   "cell_type": "code",
   "execution_count": 558,
   "metadata": {},
   "outputs": [],
   "source": [
    "# data with only defaulted loans\n",
    "data_post_d <- data[data$status_time == 1,]"
   ]
  },
  {
   "cell_type": "code",
   "execution_count": 559,
   "metadata": {},
   "outputs": [
    {
     "name": "stderr",
     "output_type": "stream",
     "text": [
      "`summarise()` ungrouping output (override with `.groups` argument)\n",
      "\n"
     ]
    }
   ],
   "source": [
    "data_post_d <- data_post_d %>%\n",
    "  group_by(time) %>%\n",
    "  summarise(count = n())"
   ]
  },
  {
   "cell_type": "code",
   "execution_count": 560,
   "metadata": {},
   "outputs": [],
   "source": [
    "# data with only payoff loans\n",
    "data_post_p <- data[data$status_time == 2,]"
   ]
  },
  {
   "cell_type": "code",
   "execution_count": 561,
   "metadata": {},
   "outputs": [
    {
     "name": "stderr",
     "output_type": "stream",
     "text": [
      "`summarise()` ungrouping output (override with `.groups` argument)\n",
      "\n"
     ]
    }
   ],
   "source": [
    "data_post_p <- data_post_p %>%\n",
    "  group_by(time) %>%\n",
    "  summarise(count = n())"
   ]
  },
  {
   "cell_type": "code",
   "execution_count": 562,
   "metadata": {},
   "outputs": [
    {
     "data": {
      "image/png": "[encoded data removed]",
      "text/plain": [
       "plot without title"
      ]
     },
     "metadata": {
      "image/png": {
       "height": 420,
       "width": 420
      }
     },
     "output_type": "display_data"
    }
   ],
   "source": [
    "# payoff and defaulted loans over time \n",
    "ggplot()+\n",
    "    geom_line(data=data_post_d,aes(y=count,x=time,colour=\"defaulted\"),size=1)+\n",
    "    geom_line(data=data_post_p,aes(y=count,x=time,colour=\"payoff\"),size=1) +\n",
    "    scale_color_manual(values = c(\n",
    "    'defaulted' = 'red',\n",
    "    'payoff' = 'darkred')) +\n",
    "  labs(color = 'defaults over time')"
   ]
  },
  {
   "cell_type": "code",
   "execution_count": 563,
   "metadata": {},
   "outputs": [
    {
     "data": {
      "image/png": "[encoded data removed]",
      "text/plain": [
       "plot without title"
      ]
     },
     "metadata": {
      "image/png": {
       "height": 420,
       "width": 420
      }
     },
     "output_type": "display_data"
    }
   ],
   "source": [
    "# payoff and defaulted loans over time & macro variables\n",
    "ggplot()+\n",
    "    geom_line(data=data,aes(y=uer_time,x= time,colour=\"unemployment_rate\"),size=1 )+\n",
    "    geom_line(data=data,aes(y=gdp_time,x= time,colour=\"gdp_rate\"),size=1) +\n",
    "    geom_line(data=data_post_d,aes(y=count,x=time,colour=\"defaulted\"),size=1 )+\n",
    "    geom_line(data=data_post_p,aes(y=count,x=time,colour=\"payoff\"),size=1) +\n",
    "    scale_color_manual(values = c(\n",
    "    'unemployment_rate' = 'red',\n",
    "    'gdp_rate' = 'darkred',\n",
    "    'defaulted' = 'grey',\n",
    "    'payoff' = 'black')) +\n",
    "  labs(color = 'Variables_analysis')"
   ]
  },
  {
   "cell_type": "code",
   "execution_count": 564,
   "metadata": {},
   "outputs": [
    {
     "data": {
      "image/png": "[encoded data removed]",
      "text/plain": [
       "plot without title"
      ]
     },
     "metadata": {
      "image/png": {
       "height": 420,
       "width": 420
      }
     },
     "output_type": "display_data"
    }
   ],
   "source": [
    "# HPI graph\n",
    "ggplot()+\n",
    "    geom_line(data=data,aes(y=hpi_time, x= time,colour=\"hpi\"),size=1 )+\n",
    "    geom_line(data=data_post_d,aes(y=count,x=time,colour=\"defaulted\"),size=1 )+\n",
    "    geom_line(data=data_post_p,aes(y=count,x=time,colour=\"payoff\"),size=1) +\n",
    "    scale_color_manual(values = c(\n",
    "        'hpi' = 'orange',\n",
    "        'defaulted' = 'red',\n",
    "        'payoff' = 'darkred')) +\n",
    "    labs(color = 'hp_index')"
   ]
  },
  {
   "cell_type": "code",
   "execution_count": 565,
   "metadata": {},
   "outputs": [],
   "source": [
    "#house price index at observation time for defaulted loans\n",
    "hpi_mean_d = data[data[, \"status_time\"] == 1,]['hpi_orig_time']"
   ]
  },
  {
   "cell_type": "code",
   "execution_count": 566,
   "metadata": {},
   "outputs": [
    {
     "data": {
      "text/html": [
       "209.535036065574"
      ],
      "text/latex": [
       "209.535036065574"
      ],
      "text/markdown": [
       "209.535036065574"
      ],
      "text/plain": [
       "[1] 209.535"
      ]
     },
     "metadata": {},
     "output_type": "display_data"
    }
   ],
   "source": [
    "mean(hpi_mean_d$hpi_orig_time)"
   ]
  },
  {
   "cell_type": "code",
   "execution_count": 567,
   "metadata": {},
   "outputs": [],
   "source": [
    "#house price index at observation time for payoff loans\n",
    "hpi_mean_nd = data[data[, \"status_time\"] == 2,]['hpi_orig_time']"
   ]
  },
  {
   "cell_type": "code",
   "execution_count": 568,
   "metadata": {},
   "outputs": [
    {
     "data": {
      "text/html": [
       "186.802377142857"
      ],
      "text/latex": [
       "186.802377142857"
      ],
      "text/markdown": [
       "186.802377142857"
      ],
      "text/plain": [
       "[1] 186.8024"
      ]
     },
     "metadata": {},
     "output_type": "display_data"
    }
   ],
   "source": [
    "#house price index at observation time for non-defaulted loans\n",
    "mean(hpi_mean_nd$hpi_orig_time)"
   ]
  },
  {
   "cell_type": "code",
   "execution_count": 569,
   "metadata": {},
   "outputs": [],
   "source": [
    "# investor borrower - % of defaulted loans\n",
    "inv_b = data[data[, \"investor_orig_time\"] == 1,]"
   ]
  },
  {
   "cell_type": "code",
   "execution_count": 570,
   "metadata": {},
   "outputs": [],
   "source": [
    "inv_b_unique_id = nrow(unique(inv_b['id']))"
   ]
  },
  {
   "cell_type": "code",
   "execution_count": 571,
   "metadata": {},
   "outputs": [
    {
     "data": {
      "text/html": [
       "0.350081037277148"
      ],
      "text/latex": [
       "0.350081037277148"
      ],
      "text/markdown": [
       "0.350081037277148"
      ],
      "text/plain": [
       "[1] 0.350081"
      ]
     },
     "metadata": {},
     "output_type": "display_data"
    }
   ],
   "source": [
    "nrow(subset(inv_b, (!is.na(inv_b[,'lgd_time']))))/inv_b_unique_id"
   ]
  },
  {
   "cell_type": "code",
   "execution_count": 573,
   "metadata": {},
   "outputs": [
    {
     "name": "stderr",
     "output_type": "stream",
     "text": [
      "No id variables; using all as measure variables\n",
      "\n"
     ]
    }
   ],
   "source": [
    "# only defaulted loans\n",
    "data_cut_d.m = melt(data[data[, \"status_time\"] == 1,][,14:17])"
   ]
  },
  {
   "cell_type": "code",
   "execution_count": 574,
   "metadata": {},
   "outputs": [
    {
     "name": "stderr",
     "output_type": "stream",
     "text": [
      "`stat_bin()` using `bins = 30`. Pick better value with `binwidth`.\n",
      "\n"
     ]
    },
    {
     "data": {
      "image/png": "[encoded data removed]",
      "text/plain": [
       "plot without title"
      ]
     },
     "metadata": {
      "image/png": {
       "height": 420,
       "width": 420
      }
     },
     "output_type": "display_data"
    }
   ],
   "source": [
    "# histogram for real estate type dummy variables and investor dummy variable\n",
    "# 1st - real estate type condominium (REtype_CO_orig_time)\n",
    "# 2nd - real estate type planned urban dev (REtype_PU_orig_time)\n",
    "# 3rd - real estate type single family home (REtype_SF_orig_time)\n",
    "# 4th - investor borrower (investor_orig_time) \n",
    "ggplot(data_cut_d.m, aes(value), color=cyl) + geom_histogram(aes(fill=variable)) +\n",
    "facet_wrap(~variable)+\n",
    "scale_fill_manual(values=c(\"orange\", \"darkorange\", \"red\", \"darkred\"))"
   ]
  },
  {
   "cell_type": "code",
   "execution_count": 575,
   "metadata": {},
   "outputs": [
    {
     "name": "stderr",
     "output_type": "stream",
     "text": [
      "No id variables; using all as measure variables\n",
      "\n"
     ]
    }
   ],
   "source": [
    "# only payoff loans\n",
    "data_cut_p.m = melt(data[data[, \"status_time\"] == 2,][,14:17])"
   ]
  },
  {
   "cell_type": "code",
   "execution_count": 576,
   "metadata": {},
   "outputs": [
    {
     "name": "stderr",
     "output_type": "stream",
     "text": [
      "`stat_bin()` using `bins = 30`. Pick better value with `binwidth`.\n",
      "\n"
     ]
    },
    {
     "data": {
      "image/png": "[encoded data removed]",
      "text/plain": [
       "plot without title"
      ]
     },
     "metadata": {
      "image/png": {
       "height": 420,
       "width": 420
      }
     },
     "output_type": "display_data"
    }
   ],
   "source": [
    "ggplot(data_cut_p.m, aes(value), color=cyl) + geom_histogram(aes(fill=variable)) +\n",
    "facet_wrap(~variable)+\n",
    "scale_fill_manual(values=c(\"orange\", \"darkorange\", \"red\", \"darkred\"))"
   ]
  },
  {
   "cell_type": "code",
   "execution_count": 577,
   "metadata": {},
   "outputs": [
    {
     "name": "stderr",
     "output_type": "stream",
     "text": [
      "No id variables; using all as measure variables\n",
      "\n"
     ]
    }
   ],
   "source": [
    "# not defaulted, nor payoff\n",
    "data_cut_a.m = melt(data[data[, \"status_time\"] == 0,][,14:17])"
   ]
  },
  {
   "cell_type": "code",
   "execution_count": 578,
   "metadata": {},
   "outputs": [
    {
     "name": "stderr",
     "output_type": "stream",
     "text": [
      "`stat_bin()` using `bins = 30`. Pick better value with `binwidth`.\n",
      "\n"
     ]
    },
    {
     "data": {
      "image/png": "[encoded data removed]",
      "text/plain": [
       "plot without title"
      ]
     },
     "metadata": {
      "image/png": {
       "height": 420,
       "width": 420
      }
     },
     "output_type": "display_data"
    }
   ],
   "source": [
    "ggplot(data_cut_a.m, aes(value)) + geom_histogram(aes(fill=variable)) +\n",
    "facet_wrap(~variable)+\n",
    "scale_fill_manual(values=c(\"orange\", \"darkorange\", \"red\", \"darkred\"))"
   ]
  },
  {
   "cell_type": "code",
   "execution_count": null,
   "metadata": {},
   "outputs": [],
   "source": [
    "#It can be deduced from the histograms' analysis above that 4 categorical variables have marginal impact on default event, this hypothesis will be tested at the modelling stage"
   ]
  },
  {
   "cell_type": "markdown",
   "metadata": {},
   "source": [
    "## Feature Selection"
   ]
  },
  {
   "cell_type": "markdown",
   "metadata": {},
   "source": [
    "### PCA"
   ]
  },
  {
   "cell_type": "code",
   "execution_count": 17,
   "metadata": {},
   "outputs": [
    {
     "data": {
      "text/html": [
       "<style>\n",
       ".list-inline {list-style: none; margin:0; padding: 0}\n",
       ".list-inline>li {display: inline-block}\n",
       ".list-inline>li:not(:last-child)::after {content: \"\\00b7\"; padding: 0 .5ex}\n",
       "</style>\n",
       "<ol class=list-inline><li>'id'</li><li>'time'</li><li>'orig_time'</li><li>'first_time'</li><li>'mat_time'</li><li>'res_time'</li><li>'balance_time'</li><li>'LTV_time'</li><li>'interest_rate_time'</li><li>'rate_time'</li><li>'hpi_time'</li><li>'gdp_time'</li><li>'uer_time'</li><li>'REtype_CO_orig_time'</li><li>'REtype_PU_orig_time'</li><li>'REtype_SF_orig_time'</li><li>'investor_orig_time'</li><li>'balance_orig_time'</li><li>'FICO_orig_time'</li><li>'LTV_orig_time'</li><li>'Interest_Rate_orig_time'</li><li>'state_orig_time'</li><li>'hpi_orig_time'</li><li>'default_time'</li><li>'payoff_time'</li><li>'status_time'</li><li>'lgd_time'</li><li>'recovery_res'</li><li>'mat_diff'</li></ol>\n"
      ],
      "text/latex": [
       "\\begin{enumerate*}\n",
       "\\item 'id'\n",
       "\\item 'time'\n",
       "\\item 'orig\\_time'\n",
       "\\item 'first\\_time'\n",
       "\\item 'mat\\_time'\n",
       "\\item 'res\\_time'\n",
       "\\item 'balance\\_time'\n",
       "\\item 'LTV\\_time'\n",
       "\\item 'interest\\_rate\\_time'\n",
       "\\item 'rate\\_time'\n",
       "\\item 'hpi\\_time'\n",
       "\\item 'gdp\\_time'\n",
       "\\item 'uer\\_time'\n",
       "\\item 'REtype\\_CO\\_orig\\_time'\n",
       "\\item 'REtype\\_PU\\_orig\\_time'\n",
       "\\item 'REtype\\_SF\\_orig\\_time'\n",
       "\\item 'investor\\_orig\\_time'\n",
       "\\item 'balance\\_orig\\_time'\n",
       "\\item 'FICO\\_orig\\_time'\n",
       "\\item 'LTV\\_orig\\_time'\n",
       "\\item 'Interest\\_Rate\\_orig\\_time'\n",
       "\\item 'state\\_orig\\_time'\n",
       "\\item 'hpi\\_orig\\_time'\n",
       "\\item 'default\\_time'\n",
       "\\item 'payoff\\_time'\n",
       "\\item 'status\\_time'\n",
       "\\item 'lgd\\_time'\n",
       "\\item 'recovery\\_res'\n",
       "\\item 'mat\\_diff'\n",
       "\\end{enumerate*}\n"
      ],
      "text/markdown": [
       "1. 'id'\n",
       "2. 'time'\n",
       "3. 'orig_time'\n",
       "4. 'first_time'\n",
       "5. 'mat_time'\n",
       "6. 'res_time'\n",
       "7. 'balance_time'\n",
       "8. 'LTV_time'\n",
       "9. 'interest_rate_time'\n",
       "10. 'rate_time'\n",
       "11. 'hpi_time'\n",
       "12. 'gdp_time'\n",
       "13. 'uer_time'\n",
       "14. 'REtype_CO_orig_time'\n",
       "15. 'REtype_PU_orig_time'\n",
       "16. 'REtype_SF_orig_time'\n",
       "17. 'investor_orig_time'\n",
       "18. 'balance_orig_time'\n",
       "19. 'FICO_orig_time'\n",
       "20. 'LTV_orig_time'\n",
       "21. 'Interest_Rate_orig_time'\n",
       "22. 'state_orig_time'\n",
       "23. 'hpi_orig_time'\n",
       "24. 'default_time'\n",
       "25. 'payoff_time'\n",
       "26. 'status_time'\n",
       "27. 'lgd_time'\n",
       "28. 'recovery_res'\n",
       "29. 'mat_diff'\n",
       "\n",
       "\n"
      ],
      "text/plain": [
       " [1] \"id\"                      \"time\"                   \n",
       " [3] \"orig_time\"               \"first_time\"             \n",
       " [5] \"mat_time\"                \"res_time\"               \n",
       " [7] \"balance_time\"            \"LTV_time\"               \n",
       " [9] \"interest_rate_time\"      \"rate_time\"              \n",
       "[11] \"hpi_time\"                \"gdp_time\"               \n",
       "[13] \"uer_time\"                \"REtype_CO_orig_time\"    \n",
       "[15] \"REtype_PU_orig_time\"     \"REtype_SF_orig_time\"    \n",
       "[17] \"investor_orig_time\"      \"balance_orig_time\"      \n",
       "[19] \"FICO_orig_time\"          \"LTV_orig_time\"          \n",
       "[21] \"Interest_Rate_orig_time\" \"state_orig_time\"        \n",
       "[23] \"hpi_orig_time\"           \"default_time\"           \n",
       "[25] \"payoff_time\"             \"status_time\"            \n",
       "[27] \"lgd_time\"                \"recovery_res\"           \n",
       "[29] \"mat_diff\"               "
      ]
     },
     "metadata": {},
     "output_type": "display_data"
    }
   ],
   "source": [
    "colnames(data)"
   ]
  },
  {
   "cell_type": "code",
   "execution_count": 587,
   "metadata": {},
   "outputs": [
    {
     "data": {
      "text/html": [
       "<table>\n",
       "<caption>A data.frame: 6 × 29</caption>\n",
       "<thead>\n",
       "\t<tr><th></th><th scope=col>id</th><th scope=col>time</th><th scope=col>orig_time</th><th scope=col>first_time</th><th scope=col>mat_time</th><th scope=col>res_time</th><th scope=col>balance_time</th><th scope=col>LTV_time</th><th scope=col>interest_rate_time</th><th scope=col>rate_time</th><th scope=col>...</th><th scope=col>LTV_orig_time</th><th scope=col>Interest_Rate_orig_time</th><th scope=col>state_orig_time</th><th scope=col>hpi_orig_time</th><th scope=col>default_time</th><th scope=col>payoff_time</th><th scope=col>status_time</th><th scope=col>lgd_time</th><th scope=col>recovery_res</th><th scope=col>mat_diff</th></tr>\n",
       "\t<tr><th></th><th scope=col>&lt;int&gt;</th><th scope=col>&lt;int&gt;</th><th scope=col>&lt;int&gt;</th><th scope=col>&lt;int&gt;</th><th scope=col>&lt;int&gt;</th><th scope=col>&lt;int&gt;</th><th scope=col>&lt;dbl&gt;</th><th scope=col>&lt;dbl&gt;</th><th scope=col>&lt;dbl&gt;</th><th scope=col>&lt;dbl&gt;</th><th scope=col>...</th><th scope=col>&lt;dbl&gt;</th><th scope=col>&lt;dbl&gt;</th><th scope=col>&lt;chr&gt;</th><th scope=col>&lt;dbl&gt;</th><th scope=col>&lt;int&gt;</th><th scope=col>&lt;int&gt;</th><th scope=col>&lt;int&gt;</th><th scope=col>&lt;dbl&gt;</th><th scope=col>&lt;dbl&gt;</th><th scope=col>&lt;int&gt;</th></tr>\n",
       "</thead>\n",
       "<tbody>\n",
       "\t<tr><th scope=row>1</th><td>4</td><td>25</td><td>-2</td><td>25</td><td>119</td><td>NA</td><td>61031.10</td><td>33.91101</td><td>10.500</td><td>5.9</td><td>...</td><td>81.8</td><td>10.5</td><td>KY</td><td>97.99</td><td>0</td><td>0</td><td>0</td><td>NA</td><td>NA</td><td>121</td></tr>\n",
       "\t<tr><th scope=row>2</th><td>4</td><td>26</td><td>-2</td><td>25</td><td>119</td><td>NA</td><td>60882.42</td><td>34.00723</td><td>10.500</td><td>5.9</td><td>...</td><td>81.8</td><td>10.5</td><td>KY</td><td>97.99</td><td>0</td><td>0</td><td>0</td><td>NA</td><td>NA</td><td>121</td></tr>\n",
       "\t<tr><th scope=row>3</th><td>4</td><td>27</td><td>-2</td><td>25</td><td>119</td><td>NA</td><td>60729.80</td><td>34.33535</td><td>10.500</td><td>5.9</td><td>...</td><td>81.8</td><td>10.5</td><td>KY</td><td>97.99</td><td>0</td><td>0</td><td>0</td><td>NA</td><td>NA</td><td>121</td></tr>\n",
       "\t<tr><th scope=row>4</th><td>4</td><td>28</td><td>-2</td><td>25</td><td>119</td><td>NA</td><td>60576.14</td><td>34.67254</td><td>10.875</td><td>5.9</td><td>...</td><td>81.8</td><td>10.5</td><td>KY</td><td>97.99</td><td>0</td><td>0</td><td>0</td><td>NA</td><td>NA</td><td>121</td></tr>\n",
       "\t<tr><th scope=row>5</th><td>4</td><td>29</td><td>-2</td><td>25</td><td>119</td><td>NA</td><td>60424.39</td><td>34.95164</td><td>10.875</td><td>5.9</td><td>...</td><td>81.8</td><td>10.5</td><td>KY</td><td>97.99</td><td>0</td><td>0</td><td>0</td><td>NA</td><td>NA</td><td>121</td></tr>\n",
       "\t<tr><th scope=row>6</th><td>4</td><td>30</td><td>-2</td><td>25</td><td>119</td><td>NA</td><td>60268.48</td><td>35.62184</td><td>10.875</td><td>5.9</td><td>...</td><td>81.8</td><td>10.5</td><td>KY</td><td>97.99</td><td>0</td><td>0</td><td>0</td><td>NA</td><td>NA</td><td>121</td></tr>\n",
       "</tbody>\n",
       "</table>\n"
      ],
      "text/latex": [
       "A data.frame: 6 × 29\n",
       "\\begin{tabular}{r|lllllllllllllllllllll}\n",
       "  & id & time & orig\\_time & first\\_time & mat\\_time & res\\_time & balance\\_time & LTV\\_time & interest\\_rate\\_time & rate\\_time & ... & LTV\\_orig\\_time & Interest\\_Rate\\_orig\\_time & state\\_orig\\_time & hpi\\_orig\\_time & default\\_time & payoff\\_time & status\\_time & lgd\\_time & recovery\\_res & mat\\_diff\\\\\n",
       "  & <int> & <int> & <int> & <int> & <int> & <int> & <dbl> & <dbl> & <dbl> & <dbl> & ... & <dbl> & <dbl> & <chr> & <dbl> & <int> & <int> & <int> & <dbl> & <dbl> & <int>\\\\\n",
       "\\hline\n",
       "\t1 & 4 & 25 & -2 & 25 & 119 & NA & 61031.10 & 33.91101 & 10.500 & 5.9 & ... & 81.8 & 10.5 & KY & 97.99 & 0 & 0 & 0 & NA & NA & 121\\\\\n",
       "\t2 & 4 & 26 & -2 & 25 & 119 & NA & 60882.42 & 34.00723 & 10.500 & 5.9 & ... & 81.8 & 10.5 & KY & 97.99 & 0 & 0 & 0 & NA & NA & 121\\\\\n",
       "\t3 & 4 & 27 & -2 & 25 & 119 & NA & 60729.80 & 34.33535 & 10.500 & 5.9 & ... & 81.8 & 10.5 & KY & 97.99 & 0 & 0 & 0 & NA & NA & 121\\\\\n",
       "\t4 & 4 & 28 & -2 & 25 & 119 & NA & 60576.14 & 34.67254 & 10.875 & 5.9 & ... & 81.8 & 10.5 & KY & 97.99 & 0 & 0 & 0 & NA & NA & 121\\\\\n",
       "\t5 & 4 & 29 & -2 & 25 & 119 & NA & 60424.39 & 34.95164 & 10.875 & 5.9 & ... & 81.8 & 10.5 & KY & 97.99 & 0 & 0 & 0 & NA & NA & 121\\\\\n",
       "\t6 & 4 & 30 & -2 & 25 & 119 & NA & 60268.48 & 35.62184 & 10.875 & 5.9 & ... & 81.8 & 10.5 & KY & 97.99 & 0 & 0 & 0 & NA & NA & 121\\\\\n",
       "\\end{tabular}\n"
      ],
      "text/markdown": [
       "\n",
       "A data.frame: 6 × 29\n",
       "\n",
       "| <!--/--> | id &lt;int&gt; | time &lt;int&gt; | orig_time &lt;int&gt; | first_time &lt;int&gt; | mat_time &lt;int&gt; | res_time &lt;int&gt; | balance_time &lt;dbl&gt; | LTV_time &lt;dbl&gt; | interest_rate_time &lt;dbl&gt; | rate_time &lt;dbl&gt; | ... ... | LTV_orig_time &lt;dbl&gt; | Interest_Rate_orig_time &lt;dbl&gt; | state_orig_time &lt;chr&gt; | hpi_orig_time &lt;dbl&gt; | default_time &lt;int&gt; | payoff_time &lt;int&gt; | status_time &lt;int&gt; | lgd_time &lt;dbl&gt; | recovery_res &lt;dbl&gt; | mat_diff &lt;int&gt; |\n",
       "|---|---|---|---|---|---|---|---|---|---|---|---|---|---|---|---|---|---|---|---|---|---|\n",
       "| 1 | 4 | 25 | -2 | 25 | 119 | NA | 61031.10 | 33.91101 | 10.500 | 5.9 | ... | 81.8 | 10.5 | KY | 97.99 | 0 | 0 | 0 | NA | NA | 121 |\n",
       "| 2 | 4 | 26 | -2 | 25 | 119 | NA | 60882.42 | 34.00723 | 10.500 | 5.9 | ... | 81.8 | 10.5 | KY | 97.99 | 0 | 0 | 0 | NA | NA | 121 |\n",
       "| 3 | 4 | 27 | -2 | 25 | 119 | NA | 60729.80 | 34.33535 | 10.500 | 5.9 | ... | 81.8 | 10.5 | KY | 97.99 | 0 | 0 | 0 | NA | NA | 121 |\n",
       "| 4 | 4 | 28 | -2 | 25 | 119 | NA | 60576.14 | 34.67254 | 10.875 | 5.9 | ... | 81.8 | 10.5 | KY | 97.99 | 0 | 0 | 0 | NA | NA | 121 |\n",
       "| 5 | 4 | 29 | -2 | 25 | 119 | NA | 60424.39 | 34.95164 | 10.875 | 5.9 | ... | 81.8 | 10.5 | KY | 97.99 | 0 | 0 | 0 | NA | NA | 121 |\n",
       "| 6 | 4 | 30 | -2 | 25 | 119 | NA | 60268.48 | 35.62184 | 10.875 | 5.9 | ... | 81.8 | 10.5 | KY | 97.99 | 0 | 0 | 0 | NA | NA | 121 |\n",
       "\n"
      ],
      "text/plain": [
       "  id time orig_time first_time mat_time res_time balance_time LTV_time\n",
       "1 4  25   -2        25         119      NA       61031.10     33.91101\n",
       "2 4  26   -2        25         119      NA       60882.42     34.00723\n",
       "3 4  27   -2        25         119      NA       60729.80     34.33535\n",
       "4 4  28   -2        25         119      NA       60576.14     34.67254\n",
       "5 4  29   -2        25         119      NA       60424.39     34.95164\n",
       "6 4  30   -2        25         119      NA       60268.48     35.62184\n",
       "  interest_rate_time rate_time ... LTV_orig_time Interest_Rate_orig_time\n",
       "1 10.500             5.9       ... 81.8          10.5                   \n",
       "2 10.500             5.9       ... 81.8          10.5                   \n",
       "3 10.500             5.9       ... 81.8          10.5                   \n",
       "4 10.875             5.9       ... 81.8          10.5                   \n",
       "5 10.875             5.9       ... 81.8          10.5                   \n",
       "6 10.875             5.9       ... 81.8          10.5                   \n",
       "  state_orig_time hpi_orig_time default_time payoff_time status_time lgd_time\n",
       "1 KY              97.99         0            0           0           NA      \n",
       "2 KY              97.99         0            0           0           NA      \n",
       "3 KY              97.99         0            0           0           NA      \n",
       "4 KY              97.99         0            0           0           NA      \n",
       "5 KY              97.99         0            0           0           NA      \n",
       "6 KY              97.99         0            0           0           NA      \n",
       "  recovery_res mat_diff\n",
       "1 NA           121     \n",
       "2 NA           121     \n",
       "3 NA           121     \n",
       "4 NA           121     \n",
       "5 NA           121     \n",
       "6 NA           121     "
      ]
     },
     "metadata": {},
     "output_type": "display_data"
    }
   ],
   "source": [
    "head(data)"
   ]
  },
  {
   "cell_type": "code",
   "execution_count": 18,
   "metadata": {},
   "outputs": [
    {
     "data": {
      "text/html": [
       "<style>\n",
       ".list-inline {list-style: none; margin:0; padding: 0}\n",
       ".list-inline>li {display: inline-block}\n",
       ".list-inline>li:not(:last-child)::after {content: \"\\00b7\"; padding: 0 .5ex}\n",
       "</style>\n",
       "<ol class=list-inline><li>&lt;NA&gt;</li><li>38</li><li>43</li><li>60</li><li>44</li><li>41</li><li>36</li><li>27</li><li>37</li><li>48</li><li>33</li><li>35</li><li>34</li><li>30</li><li>53</li><li>39</li><li>40</li><li>42</li><li>21</li><li>32</li><li>57</li><li>23</li><li>22</li><li>45</li><li>29</li><li>31</li><li>20</li><li>25</li><li>28</li><li>55</li><li>58</li><li>51</li><li>47</li><li>54</li><li>50</li><li>49</li><li>52</li><li>46</li><li>56</li><li>10</li><li>17</li><li>14</li><li>13</li><li>9</li><li>15</li><li>11</li><li>19</li><li>12</li><li>59</li><li>18</li><li>16</li><li>24</li><li>7</li><li>26</li></ol>\n"
      ],
      "text/latex": [
       "\\begin{enumerate*}\n",
       "\\item <NA>\n",
       "\\item 38\n",
       "\\item 43\n",
       "\\item 60\n",
       "\\item 44\n",
       "\\item 41\n",
       "\\item 36\n",
       "\\item 27\n",
       "\\item 37\n",
       "\\item 48\n",
       "\\item 33\n",
       "\\item 35\n",
       "\\item 34\n",
       "\\item 30\n",
       "\\item 53\n",
       "\\item 39\n",
       "\\item 40\n",
       "\\item 42\n",
       "\\item 21\n",
       "\\item 32\n",
       "\\item 57\n",
       "\\item 23\n",
       "\\item 22\n",
       "\\item 45\n",
       "\\item 29\n",
       "\\item 31\n",
       "\\item 20\n",
       "\\item 25\n",
       "\\item 28\n",
       "\\item 55\n",
       "\\item 58\n",
       "\\item 51\n",
       "\\item 47\n",
       "\\item 54\n",
       "\\item 50\n",
       "\\item 49\n",
       "\\item 52\n",
       "\\item 46\n",
       "\\item 56\n",
       "\\item 10\n",
       "\\item 17\n",
       "\\item 14\n",
       "\\item 13\n",
       "\\item 9\n",
       "\\item 15\n",
       "\\item 11\n",
       "\\item 19\n",
       "\\item 12\n",
       "\\item 59\n",
       "\\item 18\n",
       "\\item 16\n",
       "\\item 24\n",
       "\\item 7\n",
       "\\item 26\n",
       "\\end{enumerate*}\n"
      ],
      "text/markdown": [
       "1. &lt;NA&gt;\n",
       "2. 38\n",
       "3. 43\n",
       "4. 60\n",
       "5. 44\n",
       "6. 41\n",
       "7. 36\n",
       "8. 27\n",
       "9. 37\n",
       "10. 48\n",
       "11. 33\n",
       "12. 35\n",
       "13. 34\n",
       "14. 30\n",
       "15. 53\n",
       "16. 39\n",
       "17. 40\n",
       "18. 42\n",
       "19. 21\n",
       "20. 32\n",
       "21. 57\n",
       "22. 23\n",
       "23. 22\n",
       "24. 45\n",
       "25. 29\n",
       "26. 31\n",
       "27. 20\n",
       "28. 25\n",
       "29. 28\n",
       "30. 55\n",
       "31. 58\n",
       "32. 51\n",
       "33. 47\n",
       "34. 54\n",
       "35. 50\n",
       "36. 49\n",
       "37. 52\n",
       "38. 46\n",
       "39. 56\n",
       "40. 10\n",
       "41. 17\n",
       "42. 14\n",
       "43. 13\n",
       "44. 9\n",
       "45. 15\n",
       "46. 11\n",
       "47. 19\n",
       "48. 12\n",
       "49. 59\n",
       "50. 18\n",
       "51. 16\n",
       "52. 24\n",
       "53. 7\n",
       "54. 26\n",
       "\n",
       "\n"
      ],
      "text/plain": [
       " [1] NA 38 43 60 44 41 36 27 37 48 33 35 34 30 53 39 40 42 21 32 57 23 22 45 29\n",
       "[26] 31 20 25 28 55 58 51 47 54 50 49 52 46 56 10 17 14 13  9 15 11 19 12 59 18\n",
       "[51] 16 24  7 26"
      ]
     },
     "metadata": {},
     "output_type": "display_data"
    }
   ],
   "source": [
    "unique(data$res_time)"
   ]
  },
  {
   "cell_type": "code",
   "execution_count": 21,
   "metadata": {},
   "outputs": [],
   "source": [
    "data_modified <- data %>% dplyr::select(2,3,4,5,7,8,9,10,11,12,13,18,19,20,21,23,29)"
   ]
  },
  {
   "cell_type": "code",
   "execution_count": 23,
   "metadata": {},
   "outputs": [
    {
     "data": {
      "text/html": [
       "<table>\n",
       "<caption>A data.frame: 6 × 17</caption>\n",
       "<thead>\n",
       "\t<tr><th></th><th scope=col>time</th><th scope=col>orig_time</th><th scope=col>first_time</th><th scope=col>mat_time</th><th scope=col>balance_time</th><th scope=col>LTV_time</th><th scope=col>interest_rate_time</th><th scope=col>rate_time</th><th scope=col>hpi_time</th><th scope=col>gdp_time</th><th scope=col>uer_time</th><th scope=col>balance_orig_time</th><th scope=col>FICO_orig_time</th><th scope=col>LTV_orig_time</th><th scope=col>Interest_Rate_orig_time</th><th scope=col>hpi_orig_time</th><th scope=col>mat_diff</th></tr>\n",
       "\t<tr><th></th><th scope=col>&lt;int&gt;</th><th scope=col>&lt;int&gt;</th><th scope=col>&lt;int&gt;</th><th scope=col>&lt;int&gt;</th><th scope=col>&lt;dbl&gt;</th><th scope=col>&lt;dbl&gt;</th><th scope=col>&lt;dbl&gt;</th><th scope=col>&lt;dbl&gt;</th><th scope=col>&lt;dbl&gt;</th><th scope=col>&lt;dbl&gt;</th><th scope=col>&lt;dbl&gt;</th><th scope=col>&lt;dbl&gt;</th><th scope=col>&lt;int&gt;</th><th scope=col>&lt;dbl&gt;</th><th scope=col>&lt;dbl&gt;</th><th scope=col>&lt;dbl&gt;</th><th scope=col>&lt;int&gt;</th></tr>\n",
       "</thead>\n",
       "<tbody>\n",
       "\t<tr><th scope=row>1</th><td>25</td><td>-2</td><td>25</td><td>119</td><td>61031.10</td><td>33.91101</td><td>10.500</td><td>5.9</td><td>226.29</td><td>2.899137</td><td>4.7</td><td>63750</td><td>587</td><td>81.8</td><td>10.5</td><td>97.99</td><td>121</td></tr>\n",
       "\t<tr><th scope=row>2</th><td>26</td><td>-2</td><td>25</td><td>119</td><td>60882.42</td><td>34.00723</td><td>10.500</td><td>5.9</td><td>225.10</td><td>2.151365</td><td>4.7</td><td>63750</td><td>587</td><td>81.8</td><td>10.5</td><td>97.99</td><td>121</td></tr>\n",
       "\t<tr><th scope=row>3</th><td>27</td><td>-2</td><td>25</td><td>119</td><td>60729.80</td><td>34.33535</td><td>10.500</td><td>5.9</td><td>222.39</td><td>2.361722</td><td>4.4</td><td>63750</td><td>587</td><td>81.8</td><td>10.5</td><td>97.99</td><td>121</td></tr>\n",
       "\t<tr><th scope=row>4</th><td>28</td><td>-2</td><td>25</td><td>119</td><td>60576.14</td><td>34.67254</td><td>10.875</td><td>5.9</td><td>219.67</td><td>1.229172</td><td>4.6</td><td>63750</td><td>587</td><td>81.8</td><td>10.5</td><td>97.99</td><td>121</td></tr>\n",
       "\t<tr><th scope=row>5</th><td>29</td><td>-2</td><td>25</td><td>119</td><td>60424.39</td><td>34.95164</td><td>10.875</td><td>5.9</td><td>217.37</td><td>1.692969</td><td>4.5</td><td>63750</td><td>587</td><td>81.8</td><td>10.5</td><td>97.99</td><td>121</td></tr>\n",
       "\t<tr><th scope=row>6</th><td>30</td><td>-2</td><td>25</td><td>119</td><td>60268.48</td><td>35.62184</td><td>10.875</td><td>5.9</td><td>212.73</td><td>2.274218</td><td>4.7</td><td>63750</td><td>587</td><td>81.8</td><td>10.5</td><td>97.99</td><td>121</td></tr>\n",
       "</tbody>\n",
       "</table>\n"
      ],
      "text/latex": [
       "A data.frame: 6 × 17\n",
       "\\begin{tabular}{r|lllllllllllllllll}\n",
       "  & time & orig\\_time & first\\_time & mat\\_time & balance\\_time & LTV\\_time & interest\\_rate\\_time & rate\\_time & hpi\\_time & gdp\\_time & uer\\_time & balance\\_orig\\_time & FICO\\_orig\\_time & LTV\\_orig\\_time & Interest\\_Rate\\_orig\\_time & hpi\\_orig\\_time & mat\\_diff\\\\\n",
       "  & <int> & <int> & <int> & <int> & <dbl> & <dbl> & <dbl> & <dbl> & <dbl> & <dbl> & <dbl> & <dbl> & <int> & <dbl> & <dbl> & <dbl> & <int>\\\\\n",
       "\\hline\n",
       "\t1 & 25 & -2 & 25 & 119 & 61031.10 & 33.91101 & 10.500 & 5.9 & 226.29 & 2.899137 & 4.7 & 63750 & 587 & 81.8 & 10.5 & 97.99 & 121\\\\\n",
       "\t2 & 26 & -2 & 25 & 119 & 60882.42 & 34.00723 & 10.500 & 5.9 & 225.10 & 2.151365 & 4.7 & 63750 & 587 & 81.8 & 10.5 & 97.99 & 121\\\\\n",
       "\t3 & 27 & -2 & 25 & 119 & 60729.80 & 34.33535 & 10.500 & 5.9 & 222.39 & 2.361722 & 4.4 & 63750 & 587 & 81.8 & 10.5 & 97.99 & 121\\\\\n",
       "\t4 & 28 & -2 & 25 & 119 & 60576.14 & 34.67254 & 10.875 & 5.9 & 219.67 & 1.229172 & 4.6 & 63750 & 587 & 81.8 & 10.5 & 97.99 & 121\\\\\n",
       "\t5 & 29 & -2 & 25 & 119 & 60424.39 & 34.95164 & 10.875 & 5.9 & 217.37 & 1.692969 & 4.5 & 63750 & 587 & 81.8 & 10.5 & 97.99 & 121\\\\\n",
       "\t6 & 30 & -2 & 25 & 119 & 60268.48 & 35.62184 & 10.875 & 5.9 & 212.73 & 2.274218 & 4.7 & 63750 & 587 & 81.8 & 10.5 & 97.99 & 121\\\\\n",
       "\\end{tabular}\n"
      ],
      "text/markdown": [
       "\n",
       "A data.frame: 6 × 17\n",
       "\n",
       "| <!--/--> | time &lt;int&gt; | orig_time &lt;int&gt; | first_time &lt;int&gt; | mat_time &lt;int&gt; | balance_time &lt;dbl&gt; | LTV_time &lt;dbl&gt; | interest_rate_time &lt;dbl&gt; | rate_time &lt;dbl&gt; | hpi_time &lt;dbl&gt; | gdp_time &lt;dbl&gt; | uer_time &lt;dbl&gt; | balance_orig_time &lt;dbl&gt; | FICO_orig_time &lt;int&gt; | LTV_orig_time &lt;dbl&gt; | Interest_Rate_orig_time &lt;dbl&gt; | hpi_orig_time &lt;dbl&gt; | mat_diff &lt;int&gt; |\n",
       "|---|---|---|---|---|---|---|---|---|---|---|---|---|---|---|---|---|---|\n",
       "| 1 | 25 | -2 | 25 | 119 | 61031.10 | 33.91101 | 10.500 | 5.9 | 226.29 | 2.899137 | 4.7 | 63750 | 587 | 81.8 | 10.5 | 97.99 | 121 |\n",
       "| 2 | 26 | -2 | 25 | 119 | 60882.42 | 34.00723 | 10.500 | 5.9 | 225.10 | 2.151365 | 4.7 | 63750 | 587 | 81.8 | 10.5 | 97.99 | 121 |\n",
       "| 3 | 27 | -2 | 25 | 119 | 60729.80 | 34.33535 | 10.500 | 5.9 | 222.39 | 2.361722 | 4.4 | 63750 | 587 | 81.8 | 10.5 | 97.99 | 121 |\n",
       "| 4 | 28 | -2 | 25 | 119 | 60576.14 | 34.67254 | 10.875 | 5.9 | 219.67 | 1.229172 | 4.6 | 63750 | 587 | 81.8 | 10.5 | 97.99 | 121 |\n",
       "| 5 | 29 | -2 | 25 | 119 | 60424.39 | 34.95164 | 10.875 | 5.9 | 217.37 | 1.692969 | 4.5 | 63750 | 587 | 81.8 | 10.5 | 97.99 | 121 |\n",
       "| 6 | 30 | -2 | 25 | 119 | 60268.48 | 35.62184 | 10.875 | 5.9 | 212.73 | 2.274218 | 4.7 | 63750 | 587 | 81.8 | 10.5 | 97.99 | 121 |\n",
       "\n"
      ],
      "text/plain": [
       "  time orig_time first_time mat_time balance_time LTV_time interest_rate_time\n",
       "1 25   -2        25         119      61031.10     33.91101 10.500            \n",
       "2 26   -2        25         119      60882.42     34.00723 10.500            \n",
       "3 27   -2        25         119      60729.80     34.33535 10.500            \n",
       "4 28   -2        25         119      60576.14     34.67254 10.875            \n",
       "5 29   -2        25         119      60424.39     34.95164 10.875            \n",
       "6 30   -2        25         119      60268.48     35.62184 10.875            \n",
       "  rate_time hpi_time gdp_time uer_time balance_orig_time FICO_orig_time\n",
       "1 5.9       226.29   2.899137 4.7      63750             587           \n",
       "2 5.9       225.10   2.151365 4.7      63750             587           \n",
       "3 5.9       222.39   2.361722 4.4      63750             587           \n",
       "4 5.9       219.67   1.229172 4.6      63750             587           \n",
       "5 5.9       217.37   1.692969 4.5      63750             587           \n",
       "6 5.9       212.73   2.274218 4.7      63750             587           \n",
       "  LTV_orig_time Interest_Rate_orig_time hpi_orig_time mat_diff\n",
       "1 81.8          10.5                    97.99         121     \n",
       "2 81.8          10.5                    97.99         121     \n",
       "3 81.8          10.5                    97.99         121     \n",
       "4 81.8          10.5                    97.99         121     \n",
       "5 81.8          10.5                    97.99         121     \n",
       "6 81.8          10.5                    97.99         121     "
      ]
     },
     "metadata": {},
     "output_type": "display_data"
    }
   ],
   "source": [
    "head(data_modified)"
   ]
  },
  {
   "cell_type": "code",
   "execution_count": 604,
   "metadata": {},
   "outputs": [],
   "source": [
    "# getting the values that are \n",
    "data_predictors2 <- dplyr::select(data, 2,3,4,5,7,8,9,10,11,12,13,18,19,20,21,23,29)"
   ]
  },
  {
   "cell_type": "code",
   "execution_count": null,
   "metadata": {},
   "outputs": [],
   "source": [
    "data_predictors2"
   ]
  },
  {
   "cell_type": "code",
   "execution_count": null,
   "metadata": {},
   "outputs": [],
   "source": [
    "res.pca <- prcomp(data_predictors2, scale = TRUE, center = TRUE)"
   ]
  },
  {
   "cell_type": "code",
   "execution_count": null,
   "metadata": {},
   "outputs": [],
   "source": [
    "summary(res.pca)"
   ]
  },
  {
   "cell_type": "code",
   "execution_count": null,
   "metadata": {},
   "outputs": [],
   "source": [
    "# The percentage of variances explained by each principal component.\n",
    "fviz_eig(res.pca)"
   ]
  },
  {
   "cell_type": "code",
   "execution_count": null,
   "metadata": {},
   "outputs": [],
   "source": [
    "# Results for Variables\n",
    "res.var <- get_pca_var(res.pca)"
   ]
  },
  {
   "cell_type": "code",
   "execution_count": null,
   "metadata": {},
   "outputs": [],
   "source": [
    "# Contributions of given variables to the PCs\n",
    "res.var$contrib "
   ]
  },
  {
   "cell_type": "code",
   "execution_count": null,
   "metadata": {},
   "outputs": [],
   "source": [
    "# Graph of variables. Positive correlated variables point to the same side of the plot\n",
    "# Negative correlated variables point to opposite sides of the graph.\n",
    "fviz_pca_var(res.pca,\n",
    "             col.var = \"contrib\", # Color by contributions to the PC\n",
    "             gradient.cols = c(\"#00AFBB\", \"#E7B800\", \"#FC4E07\"),\n",
    "             repel = TRUE     # Avoid text overlapping\n",
    "             )"
   ]
  },
  {
   "cell_type": "code",
   "execution_count": null,
   "metadata": {},
   "outputs": [],
   "source": [
    "res.ind <- get_pca_ind(res.pca)"
   ]
  },
  {
   "cell_type": "code",
   "execution_count": null,
   "metadata": {},
   "outputs": [],
   "source": [
    "# getting the 10 components that in overall explain 93% of varaiance\n",
    "new_variables_cont <- res.ind$coord[,1:10]"
   ]
  },
  {
   "cell_type": "code",
   "execution_count": null,
   "metadata": {},
   "outputs": [],
   "source": [
    "data_modified <- cbind(data_modified, new_variables_cont)"
   ]
  },
  {
   "cell_type": "code",
   "execution_count": null,
   "metadata": {},
   "outputs": [],
   "source": [
    "data_modified <- subset(data_modified,select=-c(3,4,5,7,8,9,10,11,12,13,18,19,20,21,23,29))"
   ]
  },
  {
   "cell_type": "markdown",
   "metadata": {},
   "source": [
    "### Probability of Cure"
   ]
  },
  {
   "cell_type": "code",
   "execution_count": 1241,
   "metadata": {},
   "outputs": [],
   "source": [
    "# filtering loans that defaulted\n",
    "data_modelling <- subset(data, (data[,\"status_time\"] == 1))"
   ]
  },
  {
   "cell_type": "code",
   "execution_count": 1242,
   "metadata": {},
   "outputs": [],
   "source": [
    "# A loan that deafaulted and was not cured (resolution)\n",
    "data_modelling$res_sold <- 1"
   ]
  },
  {
   "cell_type": "code",
   "execution_count": 1243,
   "metadata": {},
   "outputs": [],
   "source": [
    "# A loan that deafaulted and was cured (no resolution)\n",
    "data_modelling$res_sold[is.na(data_modelling[,\"res_time\"])] <- 0"
   ]
  },
  {
   "cell_type": "code",
   "execution_count": 1244,
   "metadata": {},
   "outputs": [],
   "source": [
    "# selecting predictors and dependent variable(res_sold)\n",
    "data_modelling <- dplyr::select(data_modelling, 2:8,14:16,18:20,22,28:30)"
   ]
  },
  {
   "cell_type": "code",
   "execution_count": 1245,
   "metadata": {},
   "outputs": [],
   "source": [
    "# deleting resolution timestamp and resolution amount\n",
    "data_modelling <- data_modelling[,-c(5,15)]"
   ]
  },
  {
   "cell_type": "code",
   "execution_count": 1246,
   "metadata": {},
   "outputs": [
    {
     "name": "stdout",
     "output_type": "stream",
     "text": [
      "'data.frame':\t1525 obs. of  15 variables:\n",
      " $ time               : int  37 37 40 31 31 33 31 32 42 41 ...\n",
      " $ orig_time          : int  18 25 21 21 23 27 26 27 27 28 ...\n",
      " $ first_time         : int  25 33 25 25 26 28 28 32 32 32 ...\n",
      " $ mat_time           : int  138 141 141 142 143 147 147 148 148 228 ...\n",
      " $ balance_time       : num  130140 127859 84387 227000 223885 ...\n",
      " $ LTV_time           : num  99.1 101.4 102.6 67.5 87.2 ...\n",
      " $ REtype_CO_orig_time: int  0 0 0 0 0 1 0 0 0 0 ...\n",
      " $ REtype_PU_orig_time: int  0 0 0 0 0 0 0 0 0 0 ...\n",
      " $ REtype_SF_orig_time: int  1 1 1 1 1 0 1 1 1 1 ...\n",
      " $ balance_orig_time  : num  128000 129500 88000 227000 227200 ...\n",
      " $ FICO_orig_time     : int  501 536 556 622 630 613 605 596 633 587 ...\n",
      " $ LTV_orig_time      : num  80 69.6 80 64.9 80 80 80 71.1 90 80 ...\n",
      " $ state_orig_time    : chr  \"GA\" \"FL\" \"OH\" \"NY\" ...\n",
      " $ mat_diff           : int  120 116 120 121 120 120 121 121 121 200 ...\n",
      " $ res_sold           : num  0 0 0 0 1 1 1 0 1 0 ...\n"
     ]
    }
   ],
   "source": [
    "str(data_modelling)"
   ]
  },
  {
   "cell_type": "code",
   "execution_count": 1247,
   "metadata": {},
   "outputs": [],
   "source": [
    "# changing variables types\n",
    "data_modelling[colnames(data_modelling[,c(7:9)])] <- lapply(data_modelling[colnames(data_modelling[,c(7:9)])], factor)"
   ]
  },
  {
   "cell_type": "code",
   "execution_count": 1248,
   "metadata": {},
   "outputs": [],
   "source": [
    "data_modelling$state_orig_time <- as.factor(data_modelling$state_orig_time)"
   ]
  },
  {
   "cell_type": "code",
   "execution_count": 1256,
   "metadata": {},
   "outputs": [
    {
     "data": {
      "text/html": [
       "<table>\n",
       "<caption>A data.frame: 1 × 15</caption>\n",
       "<thead>\n",
       "\t<tr><th></th><th scope=col>time</th><th scope=col>orig_time</th><th scope=col>first_time</th><th scope=col>mat_time</th><th scope=col>balance_time</th><th scope=col>LTV_time</th><th scope=col>REtype_CO_orig_time</th><th scope=col>REtype_PU_orig_time</th><th scope=col>REtype_SF_orig_time</th><th scope=col>balance_orig_time</th><th scope=col>FICO_orig_time</th><th scope=col>LTV_orig_time</th><th scope=col>state_orig_time</th><th scope=col>mat_diff</th><th scope=col>res_sold</th></tr>\n",
       "\t<tr><th></th><th scope=col>&lt;int&gt;</th><th scope=col>&lt;int&gt;</th><th scope=col>&lt;int&gt;</th><th scope=col>&lt;int&gt;</th><th scope=col>&lt;dbl&gt;</th><th scope=col>&lt;dbl&gt;</th><th scope=col>&lt;fct&gt;</th><th scope=col>&lt;fct&gt;</th><th scope=col>&lt;fct&gt;</th><th scope=col>&lt;dbl&gt;</th><th scope=col>&lt;int&gt;</th><th scope=col>&lt;dbl&gt;</th><th scope=col>&lt;fct&gt;</th><th scope=col>&lt;int&gt;</th><th scope=col>&lt;dbl&gt;</th></tr>\n",
       "</thead>\n",
       "<tbody>\n",
       "\t<tr><th scope=row>51256</th><td>28</td><td>1</td><td>25</td><td>61</td><td>21342.14</td><td>NA</td><td>0</td><td>0</td><td>1</td><td>0</td><td>486</td><td>70</td><td>MS</td><td>60</td><td>0</td></tr>\n",
       "</tbody>\n",
       "</table>\n"
      ],
      "text/latex": [
       "A data.frame: 1 × 15\n",
       "\\begin{tabular}{r|lllllllllllllll}\n",
       "  & time & orig\\_time & first\\_time & mat\\_time & balance\\_time & LTV\\_time & REtype\\_CO\\_orig\\_time & REtype\\_PU\\_orig\\_time & REtype\\_SF\\_orig\\_time & balance\\_orig\\_time & FICO\\_orig\\_time & LTV\\_orig\\_time & state\\_orig\\_time & mat\\_diff & res\\_sold\\\\\n",
       "  & <int> & <int> & <int> & <int> & <dbl> & <dbl> & <fct> & <fct> & <fct> & <dbl> & <int> & <dbl> & <fct> & <int> & <dbl>\\\\\n",
       "\\hline\n",
       "\t51256 & 28 & 1 & 25 & 61 & 21342.14 & NA & 0 & 0 & 1 & 0 & 486 & 70 & MS & 60 & 0\\\\\n",
       "\\end{tabular}\n"
      ],
      "text/markdown": [
       "\n",
       "A data.frame: 1 × 15\n",
       "\n",
       "| <!--/--> | time &lt;int&gt; | orig_time &lt;int&gt; | first_time &lt;int&gt; | mat_time &lt;int&gt; | balance_time &lt;dbl&gt; | LTV_time &lt;dbl&gt; | REtype_CO_orig_time &lt;fct&gt; | REtype_PU_orig_time &lt;fct&gt; | REtype_SF_orig_time &lt;fct&gt; | balance_orig_time &lt;dbl&gt; | FICO_orig_time &lt;int&gt; | LTV_orig_time &lt;dbl&gt; | state_orig_time &lt;fct&gt; | mat_diff &lt;int&gt; | res_sold &lt;dbl&gt; |\n",
       "|---|---|---|---|---|---|---|---|---|---|---|---|---|---|---|---|\n",
       "| 51256 | 28 | 1 | 25 | 61 | 21342.14 | NA | 0 | 0 | 1 | 0 | 486 | 70 | MS | 60 | 0 |\n",
       "\n"
      ],
      "text/plain": [
       "      time orig_time first_time mat_time balance_time LTV_time\n",
       "51256 28   1         25         61       21342.14     NA      \n",
       "      REtype_CO_orig_time REtype_PU_orig_time REtype_SF_orig_time\n",
       "51256 0                   0                   1                  \n",
       "      balance_orig_time FICO_orig_time LTV_orig_time state_orig_time mat_diff\n",
       "51256 0                 486            70            MS              60      \n",
       "      res_sold\n",
       "51256 0       "
      ]
     },
     "metadata": {},
     "output_type": "display_data"
    }
   ],
   "source": [
    "data_modelling[is.na(data_modelling['LTV_time']),]"
   ]
  },
  {
   "cell_type": "code",
   "execution_count": 1197,
   "metadata": {},
   "outputs": [],
   "source": [
    "# dropping missing observations(1)\n",
    "data_modelling <- data_modelling %>% drop_na()"
   ]
  },
  {
   "cell_type": "code",
   "execution_count": 1198,
   "metadata": {},
   "outputs": [
    {
     "name": "stdout",
     "output_type": "stream",
     "text": [
      "'data.frame':\t1524 obs. of  15 variables:\n",
      " $ time               : int  37 37 40 31 31 33 31 32 42 41 ...\n",
      " $ orig_time          : int  18 25 21 21 23 27 26 27 27 28 ...\n",
      " $ first_time         : int  25 33 25 25 26 28 28 32 32 32 ...\n",
      " $ mat_time           : int  138 141 141 142 143 147 147 148 148 228 ...\n",
      " $ balance_time       : num  130140 127859 84387 227000 223885 ...\n",
      " $ LTV_time           : num  99.1 101.4 102.6 67.5 87.2 ...\n",
      " $ REtype_CO_orig_time: Factor w/ 2 levels \"0\",\"1\": 1 1 1 1 1 2 1 1 1 1 ...\n",
      " $ REtype_PU_orig_time: Factor w/ 2 levels \"0\",\"1\": 1 1 1 1 1 1 1 1 1 1 ...\n",
      " $ REtype_SF_orig_time: Factor w/ 2 levels \"0\",\"1\": 2 2 2 2 2 1 2 2 2 2 ...\n",
      " $ balance_orig_time  : num  128000 129500 88000 227000 227200 ...\n",
      " $ FICO_orig_time     : int  501 536 556 622 630 613 605 596 633 587 ...\n",
      " $ LTV_orig_time      : num  80 69.6 80 64.9 80 80 80 71.1 90 80 ...\n",
      " $ state_orig_time    : Factor w/ 51 levels \"\",\"AK\",\"AL\",\"AR\",..: 12 11 36 35 11 11 11 6 22 6 ...\n",
      " $ mat_diff           : int  120 116 120 121 120 120 121 121 121 200 ...\n",
      " $ res_sold           : num  0 0 0 0 1 1 1 0 1 0 ...\n"
     ]
    }
   ],
   "source": [
    "str(data_modelling)"
   ]
  },
  {
   "cell_type": "code",
   "execution_count": 1199,
   "metadata": {},
   "outputs": [],
   "source": [
    "set.seed(101) "
   ]
  },
  {
   "cell_type": "code",
   "execution_count": 1200,
   "metadata": {},
   "outputs": [],
   "source": [
    "train_index <- caret::createDataPartition(data_modelling$res_sold, p = .7, list = FALSE)"
   ]
  },
  {
   "cell_type": "code",
   "execution_count": 1201,
   "metadata": {},
   "outputs": [],
   "source": [
    "train <- data_modelling[ train_index,]\n",
    "test <- data_modelling[-train_index,]"
   ]
  },
  {
   "cell_type": "code",
   "execution_count": 1202,
   "metadata": {},
   "outputs": [],
   "source": [
    "logit_full<- glm(res_sold~., family = binomial(link = 'logit'), data = train)"
   ]
  },
  {
   "cell_type": "code",
   "execution_count": 1203,
   "metadata": {},
   "outputs": [
    {
     "name": "stdout",
     "output_type": "stream",
     "text": [
      "Start:  AIC=1085.08\n",
      "res_sold ~ time + orig_time + first_time + mat_time + balance_time + \n",
      "    LTV_time + REtype_CO_orig_time + REtype_PU_orig_time + REtype_SF_orig_time + \n",
      "    balance_orig_time + FICO_orig_time + LTV_orig_time + state_orig_time + \n",
      "    mat_diff\n",
      "\n",
      "\n",
      "Step:  AIC=1085.08\n",
      "res_sold ~ time + orig_time + first_time + mat_time + balance_time + \n",
      "    LTV_time + REtype_CO_orig_time + REtype_PU_orig_time + REtype_SF_orig_time + \n",
      "    balance_orig_time + FICO_orig_time + LTV_orig_time + state_orig_time\n",
      "\n",
      "                      Df Deviance    AIC\n",
      "- state_orig_time     49   962.51 1012.5\n",
      "- mat_time             1   846.97 1081.3\n",
      "- LTV_time             1   847.51 1081.8\n",
      "- balance_time         1   847.56 1081.9\n",
      "- REtype_PU_orig_time  1   847.89 1082.2\n",
      "- balance_orig_time    1   847.92 1082.2\n",
      "- orig_time            1   848.18 1082.5\n",
      "- first_time           1   848.52 1082.8\n",
      "- LTV_orig_time        1   848.73 1083.1\n",
      "- REtype_SF_orig_time  1   849.66 1084.0\n",
      "- REtype_CO_orig_time  1   849.96 1084.3\n",
      "<none>                     846.91 1085.1\n",
      "- FICO_orig_time       1   873.60 1107.9\n",
      "- time                 1   966.54 1200.9\n",
      "\n",
      "Step:  AIC=1012.45\n",
      "res_sold ~ time + orig_time + first_time + mat_time + balance_time + \n",
      "    LTV_time + REtype_CO_orig_time + REtype_PU_orig_time + REtype_SF_orig_time + \n",
      "    balance_orig_time + FICO_orig_time + LTV_orig_time\n",
      "\n",
      "                      Df Deviance    AIC\n",
      "- mat_time             1   962.52 1008.6\n",
      "- REtype_PU_orig_time  1   962.88 1009.0\n",
      "- REtype_SF_orig_time  1   962.99 1009.1\n",
      "- LTV_time             1   963.27 1009.4\n",
      "- balance_time         1   964.44 1010.5\n",
      "- orig_time            1   964.48 1010.6\n",
      "- first_time           1   964.95 1011.0\n",
      "- balance_orig_time    1   965.24 1011.3\n",
      "- LTV_orig_time        1   965.77 1011.9\n",
      "<none>                     962.51 1012.5\n",
      "- REtype_CO_orig_time  1   966.61 1012.7\n",
      "- FICO_orig_time       1   992.56 1038.7\n",
      "+ state_orig_time     49   846.91 1085.1\n",
      "- time                 1  1077.72 1123.8\n",
      "\n",
      "Step:  AIC=1008.61\n",
      "res_sold ~ time + orig_time + first_time + balance_time + LTV_time + \n",
      "    REtype_CO_orig_time + REtype_PU_orig_time + REtype_SF_orig_time + \n",
      "    balance_orig_time + FICO_orig_time + LTV_orig_time\n",
      "\n",
      "                      Df Deviance    AIC\n",
      "- REtype_PU_orig_time  1   962.89 1005.1\n",
      "- REtype_SF_orig_time  1   963.00 1005.2\n",
      "- LTV_time             1   963.27 1005.5\n",
      "- balance_time         1   964.62 1006.9\n",
      "- orig_time            1   964.65 1006.9\n",
      "- first_time           1   964.95 1007.2\n",
      "- balance_orig_time    1   965.47 1007.7\n",
      "- LTV_orig_time        1   965.77 1008.0\n",
      "<none>                     962.52 1008.6\n",
      "- REtype_CO_orig_time  1   966.61 1008.9\n",
      "+ mat_time             1   962.51 1012.5\n",
      "+ mat_diff             1   962.51 1012.5\n",
      "- FICO_orig_time       1   992.56 1034.8\n",
      "+ state_orig_time     49   846.97 1081.3\n",
      "- time                 1  1077.73 1120.0\n",
      "\n",
      "Step:  AIC=1005.15\n",
      "res_sold ~ time + orig_time + first_time + balance_time + LTV_time + \n",
      "    REtype_CO_orig_time + REtype_SF_orig_time + balance_orig_time + \n",
      "    FICO_orig_time + LTV_orig_time\n",
      "\n",
      "                      Df Deviance    AIC\n",
      "- LTV_time             1   963.67 1002.1\n",
      "- REtype_SF_orig_time  1   964.45 1002.9\n",
      "- orig_time            1   965.09 1003.5\n",
      "- balance_time         1   965.18 1003.6\n",
      "- first_time           1   965.43 1003.9\n",
      "- balance_orig_time    1   966.07 1004.5\n",
      "- LTV_orig_time        1   966.13 1004.5\n",
      "- REtype_CO_orig_time  1   966.61 1005.0\n",
      "<none>                     962.89 1005.1\n",
      "+ REtype_PU_orig_time  1   962.52 1008.6\n",
      "+ mat_diff             1   962.88 1009.0\n",
      "+ mat_time             1   962.88 1009.0\n",
      "- FICO_orig_time       1   994.49 1032.9\n",
      "+ state_orig_time     49   847.96 1078.5\n",
      "- time                 1  1077.81 1116.2\n",
      "\n",
      "Step:  AIC=1002.09\n",
      "res_sold ~ time + orig_time + first_time + balance_time + REtype_CO_orig_time + \n",
      "    REtype_SF_orig_time + balance_orig_time + FICO_orig_time + \n",
      "    LTV_orig_time\n",
      "\n",
      "                      Df Deviance     AIC\n",
      "- orig_time            1   965.10  999.68\n",
      "- REtype_SF_orig_time  1   965.22  999.80\n",
      "- balance_time         1   965.25  999.82\n",
      "- first_time           1   965.89 1000.47\n",
      "- balance_orig_time    1   966.09 1000.67\n",
      "- LTV_orig_time        1   966.29 1000.86\n",
      "- REtype_CO_orig_time  1   967.24 1001.82\n",
      "<none>                     963.67 1002.09\n",
      "+ LTV_time             1   962.89 1005.15\n",
      "+ REtype_PU_orig_time  1   963.27 1005.53\n",
      "+ mat_time             1   963.67 1005.93\n",
      "+ mat_diff             1   963.67 1005.93\n",
      "- FICO_orig_time       1   994.68 1029.25\n",
      "+ state_orig_time     49   848.53 1075.18\n",
      "- time                 1  1109.22 1143.79\n",
      "\n",
      "Step:  AIC=999.68\n",
      "res_sold ~ time + first_time + balance_time + REtype_CO_orig_time + \n",
      "    REtype_SF_orig_time + balance_orig_time + FICO_orig_time + \n",
      "    LTV_orig_time\n",
      "\n",
      "                      Df Deviance     AIC\n",
      "- first_time           1   966.12  996.85\n",
      "- REtype_SF_orig_time  1   966.64  997.37\n",
      "- balance_time         1   967.29  998.02\n",
      "- LTV_orig_time        1   967.35  998.08\n",
      "- balance_orig_time    1   968.19  998.93\n",
      "- REtype_CO_orig_time  1   968.70  999.43\n",
      "<none>                     965.10  999.68\n",
      "+ orig_time            1   963.67 1002.09\n",
      "+ REtype_PU_orig_time  1   964.66 1003.07\n",
      "+ mat_time             1   964.90 1003.31\n",
      "+ LTV_time             1   965.09 1003.50\n",
      "+ mat_diff             1   965.10 1003.52\n",
      "- FICO_orig_time       1   997.78 1028.51\n",
      "+ state_orig_time     49   849.17 1071.97\n",
      "- time                 1  1110.31 1141.04\n",
      "\n",
      "Step:  AIC=996.85\n",
      "res_sold ~ time + balance_time + REtype_CO_orig_time + REtype_SF_orig_time + \n",
      "    balance_orig_time + FICO_orig_time + LTV_orig_time\n",
      "\n",
      "                      Df Deviance     AIC\n",
      "- REtype_SF_orig_time  1   967.77  994.66\n",
      "- balance_time         1   968.18  995.07\n",
      "- LTV_orig_time        1   968.25  995.14\n",
      "- balance_orig_time    1   969.11  996.00\n",
      "- REtype_CO_orig_time  1   969.56  996.45\n",
      "<none>                     966.12  996.85\n",
      "+ first_time           1   965.10  999.68\n",
      "+ REtype_PU_orig_time  1   965.62 1000.20\n",
      "+ orig_time            1   965.89 1000.47\n",
      "+ LTV_time             1   966.09 1000.66\n",
      "+ mat_time             1   966.10 1000.67\n",
      "+ mat_diff             1   966.11 1000.69\n",
      "- FICO_orig_time       1   999.71 1026.60\n",
      "+ state_orig_time     49   849.95 1068.91\n",
      "- time                 1  1143.98 1170.87\n",
      "\n",
      "Step:  AIC=994.66\n",
      "res_sold ~ time + balance_time + REtype_CO_orig_time + balance_orig_time + \n",
      "    FICO_orig_time + LTV_orig_time\n",
      "\n",
      "                      Df Deviance     AIC\n",
      "- balance_time         1   969.56  992.60\n",
      "- LTV_orig_time        1   969.94  992.98\n",
      "- balance_orig_time    1   970.41  993.46\n",
      "<none>                     967.77  994.66\n",
      "- REtype_CO_orig_time  1   973.10  996.15\n",
      "+ REtype_PU_orig_time  1   966.07  996.81\n",
      "+ REtype_SF_orig_time  1   966.12  996.85\n",
      "+ first_time           1   966.64  997.37\n",
      "+ orig_time            1   967.58  998.31\n",
      "+ LTV_time             1   967.73  998.46\n",
      "+ mat_time             1   967.75  998.48\n",
      "+ mat_diff             1   967.77  998.50\n",
      "- FICO_orig_time       1  1004.40 1027.45\n",
      "+ state_orig_time     49   851.79 1066.91\n",
      "- time                 1  1145.31 1168.36\n",
      "\n",
      "Step:  AIC=992.6\n",
      "res_sold ~ time + REtype_CO_orig_time + balance_orig_time + FICO_orig_time + \n",
      "    LTV_orig_time\n",
      "\n",
      "                      Df Deviance     AIC\n",
      "- LTV_orig_time        1   971.61  990.81\n",
      "<none>                     969.56  992.60\n",
      "- REtype_CO_orig_time  1   974.76  993.97\n",
      "+ REtype_PU_orig_time  1   967.75  994.64\n",
      "+ balance_time         1   967.77  994.66\n",
      "+ REtype_SF_orig_time  1   968.18  995.07\n",
      "+ first_time           1   968.57  995.46\n",
      "+ orig_time            1   969.10  995.99\n",
      "+ mat_time             1   969.18  996.07\n",
      "+ LTV_time             1   969.39  996.28\n",
      "+ mat_diff             1   969.41  996.30\n",
      "- balance_orig_time    1   979.53  998.73\n",
      "- FICO_orig_time       1  1007.30 1026.51\n",
      "+ state_orig_time     49   851.98 1063.26\n",
      "- time                 1  1156.10 1175.30\n",
      "\n",
      "Step:  AIC=990.81\n",
      "res_sold ~ time + REtype_CO_orig_time + balance_orig_time + FICO_orig_time\n",
      "\n",
      "                      Df Deviance     AIC\n",
      "<none>                     971.61  990.81\n",
      "- REtype_CO_orig_time  1   977.20  992.57\n",
      "+ LTV_orig_time        1   969.56  992.60\n",
      "+ REtype_PU_orig_time  1   969.89  992.94\n",
      "+ balance_time         1   969.94  992.98\n",
      "+ REtype_SF_orig_time  1   970.18  993.23\n",
      "+ LTV_time             1   970.59  993.64\n",
      "+ first_time           1   970.73  993.78\n",
      "+ mat_time             1   971.21  994.26\n",
      "+ orig_time            1   971.28  994.33\n",
      "+ mat_diff             1   971.40  994.45\n",
      "- balance_orig_time    1   982.69  998.06\n",
      "- FICO_orig_time       1  1009.27 1024.64\n",
      "+ state_orig_time     49   852.95 1060.39\n",
      "- time                 1  1164.14 1179.51\n"
     ]
    }
   ],
   "source": [
    "logit_stepwise<- stepAIC(logit_full, k= qchisq(0.05, 1, lower.tail=F), direction = 'both')"
   ]
  },
  {
   "cell_type": "code",
   "execution_count": 847,
   "metadata": {},
   "outputs": [
    {
     "data": {
      "text/plain": [
       "\n",
       "Call:\n",
       "glm(formula = res_sold ~ time + REtype_CO_orig_time + balance_orig_time + \n",
       "    FICO_orig_time, family = binomial(link = \"logit\"), data = train)\n",
       "\n",
       "Deviance Residuals: \n",
       "    Min       1Q   Median       3Q      Max  \n",
       "-2.7412   0.1235   0.4914   0.6842   2.1279  \n",
       "\n",
       "Coefficients:\n",
       "                       Estimate Std. Error z value Pr(>|z|)    \n",
       "(Intercept)           1.276e+00  8.199e-01   1.556 0.119608    \n",
       "time                 -1.319e-01  1.085e-02 -12.153  < 2e-16 ***\n",
       "REtype_CO_orig_time1  1.016e+00  4.715e-01   2.154 0.031247 *  \n",
       "balance_orig_time    -1.557e-06  4.639e-07  -3.356 0.000791 ***\n",
       "FICO_orig_time        7.991e-03  1.343e-03   5.950 2.68e-09 ***\n",
       "---\n",
       "Signif. codes:  0 '***' 0.001 '**' 0.01 '*' 0.05 '.' 0.1 ' ' 1\n",
       "\n",
       "(Dispersion parameter for binomial family taken to be 1)\n",
       "\n",
       "    Null deviance: 1182.69  on 1066  degrees of freedom\n",
       "Residual deviance:  971.61  on 1062  degrees of freedom\n",
       "AIC: 981.61\n",
       "\n",
       "Number of Fisher Scoring iterations: 5\n"
      ]
     },
     "metadata": {},
     "output_type": "display_data"
    }
   ],
   "source": [
    "summary(logit_stepwise)"
   ]
  },
  {
   "cell_type": "code",
   "execution_count": 848,
   "metadata": {},
   "outputs": [],
   "source": [
    "test$predict_logit <- predict(logit_stepwise, newdata = test, type = 'response')"
   ]
  },
  {
   "cell_type": "code",
   "execution_count": 849,
   "metadata": {},
   "outputs": [],
   "source": [
    "gini_test<- optiRum::giniCoef(test$predict_logit, test$res_sold)"
   ]
  },
  {
   "cell_type": "code",
   "execution_count": 850,
   "metadata": {},
   "outputs": [
    {
     "data": {
      "text/html": [
       "0.512391774891776"
      ],
      "text/latex": [
       "0.512391774891776"
      ],
      "text/markdown": [
       "0.512391774891776"
      ],
      "text/plain": [
       "[1] 0.5123918"
      ]
     },
     "metadata": {},
     "output_type": "display_data"
    }
   ],
   "source": [
    "# The 0.51 Gini index for test sample highlights an average model discriminatory power.\n",
    "gini_test"
   ]
  },
  {
   "cell_type": "markdown",
   "metadata": {},
   "source": [
    "### Loss Severity"
   ]
  },
  {
   "cell_type": "code",
   "execution_count": 927,
   "metadata": {},
   "outputs": [],
   "source": [
    "# filtering loans that defaulted\n",
    "data_modelling <- subset(data, (data[,\"status_time\"] == 1))"
   ]
  },
  {
   "cell_type": "code",
   "execution_count": 928,
   "metadata": {},
   "outputs": [],
   "source": [
    "# A loan that deafaulted and was not cured (resolution)\n",
    "data_modelling$res_sold <- 1"
   ]
  },
  {
   "cell_type": "code",
   "execution_count": 929,
   "metadata": {},
   "outputs": [],
   "source": [
    "# A loan that deafaulted and was cured (no resolution)\n",
    "data_modelling$res_sold[is.na(data_modelling[,\"res_time\"])] <- 0"
   ]
  },
  {
   "cell_type": "code",
   "execution_count": 930,
   "metadata": {},
   "outputs": [],
   "source": [
    "# filtering loans that was not cured\n",
    "data_modelling <- data_modelling[data_modelling['res_sold']==1,]"
   ]
  },
  {
   "cell_type": "code",
   "execution_count": 931,
   "metadata": {},
   "outputs": [],
   "source": [
    "# selecting predictors and dependent variable(lgd)\n",
    "data_modelling <- dplyr::select(data_modelling, 2:8,14:16,18:20,22,27:30)"
   ]
  },
  {
   "cell_type": "code",
   "execution_count": 932,
   "metadata": {},
   "outputs": [],
   "source": [
    "# time elapsed between bankruptcy and resolution\n",
    "data_modelling$res_diff <- data_modelling$res_time - data_modelling$time"
   ]
  },
  {
   "cell_type": "code",
   "execution_count": 933,
   "metadata": {},
   "outputs": [],
   "source": [
    "# deleting resolution amount\n",
    "data_modelling <- data_modelling[,-c(16)]"
   ]
  },
  {
   "cell_type": "code",
   "execution_count": 935,
   "metadata": {},
   "outputs": [],
   "source": [
    "# deleting region variable as categorical predictors must have at most 32 levels\n",
    "data_modelling <- data_modelling[,-c(14)]"
   ]
  },
  {
   "cell_type": "code",
   "execution_count": 960,
   "metadata": {},
   "outputs": [
    {
     "name": "stdout",
     "output_type": "stream",
     "text": [
      "'data.frame':\t1160 obs. of  16 variables:\n",
      " $ time               : int  31 33 31 42 39 37 33 27 31 30 ...\n",
      " $ orig_time          : int  23 27 26 27 28 28 28 17 26 19 ...\n",
      " $ first_time         : int  26 28 28 32 32 32 32 20 28 19 ...\n",
      " $ res_time           : int  38 43 60 44 41 60 36 27 37 48 ...\n",
      " $ balance_time       : num  223885 144375 285485 79140 150074 ...\n",
      " $ LTV_time           : num  87.2 98.3 89.5 121.5 122.6 ...\n",
      " $ REtype_CO_orig_time: Factor w/ 2 levels \"0\",\"1\": 1 2 1 1 1 1 1 1 1 1 ...\n",
      " $ REtype_PU_orig_time: Factor w/ 2 levels \"0\",\"1\": 1 1 1 1 1 1 1 1 1 1 ...\n",
      " $ REtype_SF_orig_time: Factor w/ 2 levels \"0\",\"1\": 2 1 2 2 1 2 2 2 1 2 ...\n",
      " $ balance_orig_time  : num  227200 144790 286400 81000 161500 ...\n",
      " $ FICO_orig_time     : int  630 613 605 633 584 646 670 509 553 540 ...\n",
      " $ LTV_orig_time      : num  80 80 80 90 95 87.1 80 70 85 80 ...\n",
      " $ lgd_time           : num  0.884 1.236 0.707 1.077 0.352 ...\n",
      " $ mat_diff           : int  120 120 121 121 60 120 120 121 120 114 ...\n",
      " $ res_sold           : num  1 1 1 1 1 1 1 1 1 1 ...\n",
      " $ res_diff           : int  7 10 29 2 2 23 3 0 6 18 ...\n"
     ]
    }
   ],
   "source": [
    "str(data_modelling)"
   ]
  },
  {
   "cell_type": "code",
   "execution_count": 937,
   "metadata": {},
   "outputs": [],
   "source": [
    "# changing variables types\n",
    "data_modelling[colnames(data_modelling[,c(8:10)])] <- lapply(data_modelling[colnames(data_modelling[,c(8:10)])], factor)"
   ]
  },
  {
   "cell_type": "code",
   "execution_count": 939,
   "metadata": {},
   "outputs": [],
   "source": [
    "# dropping missing observations(1)\n",
    "data_modelling <- data_modelling %>% drop_na()"
   ]
  },
  {
   "cell_type": "code",
   "execution_count": 961,
   "metadata": {},
   "outputs": [
    {
     "name": "stdout",
     "output_type": "stream",
     "text": [
      "'data.frame':\t1160 obs. of  16 variables:\n",
      " $ time               : int  31 33 31 42 39 37 33 27 31 30 ...\n",
      " $ orig_time          : int  23 27 26 27 28 28 28 17 26 19 ...\n",
      " $ first_time         : int  26 28 28 32 32 32 32 20 28 19 ...\n",
      " $ res_time           : int  38 43 60 44 41 60 36 27 37 48 ...\n",
      " $ balance_time       : num  223885 144375 285485 79140 150074 ...\n",
      " $ LTV_time           : num  87.2 98.3 89.5 121.5 122.6 ...\n",
      " $ REtype_CO_orig_time: Factor w/ 2 levels \"0\",\"1\": 1 2 1 1 1 1 1 1 1 1 ...\n",
      " $ REtype_PU_orig_time: Factor w/ 2 levels \"0\",\"1\": 1 1 1 1 1 1 1 1 1 1 ...\n",
      " $ REtype_SF_orig_time: Factor w/ 2 levels \"0\",\"1\": 2 1 2 2 1 2 2 2 1 2 ...\n",
      " $ balance_orig_time  : num  227200 144790 286400 81000 161500 ...\n",
      " $ FICO_orig_time     : int  630 613 605 633 584 646 670 509 553 540 ...\n",
      " $ LTV_orig_time      : num  80 80 80 90 95 87.1 80 70 85 80 ...\n",
      " $ lgd_time           : num  0.884 1.236 0.707 1.077 0.352 ...\n",
      " $ mat_diff           : int  120 120 121 121 60 120 120 121 120 114 ...\n",
      " $ res_sold           : num  1 1 1 1 1 1 1 1 1 1 ...\n",
      " $ res_diff           : int  7 10 29 2 2 23 3 0 6 18 ...\n"
     ]
    }
   ],
   "source": [
    "str(data_modelling)"
   ]
  },
  {
   "cell_type": "code",
   "execution_count": 978,
   "metadata": {},
   "outputs": [],
   "source": [
    "set.seed(101) "
   ]
  },
  {
   "cell_type": "code",
   "execution_count": 921,
   "metadata": {},
   "outputs": [],
   "source": [
    "# sample = sample.split(data_modelling$lgd_time, SplitRatio = 0.75)"
   ]
  },
  {
   "cell_type": "code",
   "execution_count": 922,
   "metadata": {},
   "outputs": [],
   "source": [
    "# train = subset(data_modelling, sample == TRUE)\n",
    "# test  = subset(data_modelling, sample == FALSE)"
   ]
  },
  {
   "cell_type": "code",
   "execution_count": 963,
   "metadata": {},
   "outputs": [],
   "source": [
    "train_index <- caret::createDataPartition(data_modelling$lgd_time, p = .7, list = FALSE)"
   ]
  },
  {
   "cell_type": "code",
   "execution_count": 964,
   "metadata": {},
   "outputs": [],
   "source": [
    "train <- data_modelling[ train_index,]\n",
    "test <- data_modelling[-train_index,]"
   ]
  },
  {
   "cell_type": "code",
   "execution_count": 965,
   "metadata": {},
   "outputs": [],
   "source": [
    "lgd_reg_tree_sev <- tree(lgd_time~., data=train)"
   ]
  },
  {
   "cell_type": "code",
   "execution_count": 966,
   "metadata": {},
   "outputs": [
    {
     "data": {
      "text/plain": [
       "\n",
       "Regression tree:\n",
       "tree(formula = lgd_time ~ ., data = train)\n",
       "Variables actually used in tree construction:\n",
       "[1] \"res_time\"          \"balance_time\"      \"orig_time\"        \n",
       "[4] \"res_diff\"          \"time\"              \"balance_orig_time\"\n",
       "Number of terminal nodes:  11 \n",
       "Residual mean deviance:  0.07714 = 61.79 / 801 \n",
       "Distribution of residuals:\n",
       "    Min.  1st Qu.   Median     Mean  3rd Qu.     Max. \n",
       "-1.09200 -0.18470  0.01314  0.00000  0.17590  1.08300 "
      ]
     },
     "metadata": {},
     "output_type": "display_data"
    }
   ],
   "source": [
    "summary(lgd_reg_tree_sev)"
   ]
  },
  {
   "cell_type": "code",
   "execution_count": 967,
   "metadata": {},
   "outputs": [],
   "source": [
    "# prediction on test sample\n",
    "lgd_reg_tree_predict_sev <- predict(lgd_reg_tree_sev, newdata = test)"
   ]
  },
  {
   "cell_type": "code",
   "execution_count": 968,
   "metadata": {},
   "outputs": [],
   "source": [
    "# MSE calculation\n",
    "mse_lgd_reg_sev <- mean((lgd_reg_tree_predict_sev - test$lgd_time)^2)"
   ]
  },
  {
   "cell_type": "code",
   "execution_count": 969,
   "metadata": {},
   "outputs": [
    {
     "data": {
      "text/html": [
       "0.0951855879953999"
      ],
      "text/latex": [
       "0.0951855879953999"
      ],
      "text/markdown": [
       "0.0951855879953999"
      ],
      "text/plain": [
       "[1] 0.09518559"
      ]
     },
     "metadata": {},
     "output_type": "display_data"
    }
   ],
   "source": [
    "mse_lgd_reg_sev"
   ]
  },
  {
   "cell_type": "code",
   "execution_count": 970,
   "metadata": {},
   "outputs": [],
   "source": [
    "# tree pruning\n",
    "lgd_reg_tree_prune_sev <- prune.tree(lgd_reg_tree_sev, best=3)"
   ]
  },
  {
   "cell_type": "code",
   "execution_count": 971,
   "metadata": {},
   "outputs": [
    {
     "data": {
      "text/plain": [
       "\n",
       "Regression tree:\n",
       "snip.tree(tree = lgd_reg_tree_sev, nodes = c(6L, 7L, 2L))\n",
       "Variables actually used in tree construction:\n",
       "[1] \"res_time\" \"res_diff\"\n",
       "Number of terminal nodes:  3 \n",
       "Residual mean deviance:  0.09583 = 77.53 / 809 \n",
       "Distribution of residuals:\n",
       "     Min.   1st Qu.    Median      Mean   3rd Qu.      Max. \n",
       "-0.819000 -0.218600  0.003788  0.000000  0.195900  1.167000 "
      ]
     },
     "metadata": {},
     "output_type": "display_data"
    }
   ],
   "source": [
    "summary(lgd_reg_tree_prune_sev)"
   ]
  },
  {
   "cell_type": "code",
   "execution_count": 972,
   "metadata": {},
   "outputs": [],
   "source": [
    "#predicting pruned tree\n",
    "lgd_reg_tree_predict_prune_sev <- predict(lgd_reg_tree_prune_sev, test)"
   ]
  },
  {
   "cell_type": "code",
   "execution_count": 977,
   "metadata": {},
   "outputs": [],
   "source": [
    "# MSE calculation\n",
    "mse_lgd_reg_sev <- mean((lgd_reg_tree_predict_prune_sev - test$lgd_time)^2)"
   ]
  },
  {
   "cell_type": "code",
   "execution_count": 975,
   "metadata": {},
   "outputs": [
    {
     "data": {
      "text/html": [
       "0.0986266856987221"
      ],
      "text/latex": [
       "0.0986266856987221"
      ],
      "text/markdown": [
       "0.0986266856987221"
      ],
      "text/plain": [
       "[1] 0.09862669"
      ]
     },
     "metadata": {},
     "output_type": "display_data"
    }
   ],
   "source": [
    "mse_lgd_reg_sev"
   ]
  },
  {
   "cell_type": "code",
   "execution_count": 974,
   "metadata": {},
   "outputs": [
    {
     "data": {
      "image/png": "[encoded data removed]",
      "text/plain": [
       "plot without title"
      ]
     },
     "metadata": {
      "image/png": {
       "height": 420,
       "width": 420
      }
     },
     "output_type": "display_data"
    }
   ],
   "source": [
    "plot(lgd_reg_tree_prune_sev, \n",
    "   main=\"Classification Tree for Kyphosis\")\n",
    "   text(lgd_reg_tree_prune_sev, all=TRUE, cex=.8)"
   ]
  },
  {
   "cell_type": "code",
   "execution_count": 976,
   "metadata": {},
   "outputs": [],
   "source": [
    "# In non-pruned tree appx.Residual mean deviance was 0.077, while in pruned tree 0.095\n",
    "# The mean squared error of the predicted model on the test sample is less than 10% for both non-pruned and pruned trees."
   ]
  },
  {
   "cell_type": "markdown",
   "metadata": {},
   "source": [
    "### Conditional Evaluation of Loss Severity given time since default"
   ]
  },
  {
   "cell_type": "code",
   "execution_count": 1219,
   "metadata": {},
   "outputs": [],
   "source": [
    "# filtering loans that defaulted\n",
    "data_modelling <- subset(data, (data[,\"status_time\"] == 1))"
   ]
  },
  {
   "cell_type": "code",
   "execution_count": 1220,
   "metadata": {},
   "outputs": [],
   "source": [
    "# A loan that deafaulted and was not cured (resolution)\n",
    "data_modelling$res_sold <- 1"
   ]
  },
  {
   "cell_type": "code",
   "execution_count": 1221,
   "metadata": {},
   "outputs": [],
   "source": [
    "# A loan that deafaulted and was cured (no resolution)\n",
    "data_modelling$res_sold[is.na(data_modelling[,\"res_time\"])] <- 0"
   ]
  },
  {
   "cell_type": "code",
   "execution_count": 1222,
   "metadata": {},
   "outputs": [],
   "source": [
    "# filtering loans that was not cured\n",
    "data_modelling <- data_modelling[data_modelling['res_sold']==1,]"
   ]
  },
  {
   "cell_type": "code",
   "execution_count": 1223,
   "metadata": {},
   "outputs": [],
   "source": [
    "# selecting predictors and dependent variable(lgd)\n",
    "data_modelling <- dplyr::select(data_modelling, 2:8,14:16,18:20,22,27:30)"
   ]
  },
  {
   "cell_type": "code",
   "execution_count": 1224,
   "metadata": {},
   "outputs": [],
   "source": [
    "# time elapsed between bankruptcy and resolution\n",
    "data_modelling$res_diff <- data_modelling$res_time - data_modelling$time"
   ]
  },
  {
   "cell_type": "code",
   "execution_count": 1225,
   "metadata": {},
   "outputs": [],
   "source": [
    "data_modelling$res_diff <- cut(data_modelling$res_diff, breaks=c(-1,12,38))"
   ]
  },
  {
   "cell_type": "code",
   "execution_count": 1226,
   "metadata": {},
   "outputs": [],
   "source": [
    "# deleting resolution amount\n",
    "data_modelling <- data_modelling[,-c(16)]"
   ]
  },
  {
   "cell_type": "code",
   "execution_count": 1227,
   "metadata": {},
   "outputs": [],
   "source": [
    "# deleting region variable as categorical predictors must have at most 32 levels\n",
    "data_modelling <- data_modelling[,-c(14)]"
   ]
  },
  {
   "cell_type": "code",
   "execution_count": 1228,
   "metadata": {},
   "outputs": [
    {
     "name": "stdout",
     "output_type": "stream",
     "text": [
      "'data.frame':\t1160 obs. of  17 variables:\n",
      " $ time               : int  31 33 31 42 39 37 33 27 31 30 ...\n",
      " $ orig_time          : int  23 27 26 27 28 28 28 17 26 19 ...\n",
      " $ first_time         : int  26 28 28 32 32 32 32 20 28 19 ...\n",
      " $ mat_time           : int  143 147 147 148 88 148 148 138 146 133 ...\n",
      " $ res_time           : int  38 43 60 44 41 60 36 27 37 48 ...\n",
      " $ balance_time       : num  223885 144375 285485 79140 150074 ...\n",
      " $ LTV_time           : num  87.2 98.3 89.5 121.5 122.6 ...\n",
      " $ REtype_CO_orig_time: int  0 1 0 0 0 0 0 0 0 0 ...\n",
      " $ REtype_PU_orig_time: int  0 0 0 0 0 0 0 0 0 0 ...\n",
      " $ REtype_SF_orig_time: int  1 0 1 1 0 1 1 1 0 1 ...\n",
      " $ balance_orig_time  : num  227200 144790 286400 81000 161500 ...\n",
      " $ FICO_orig_time     : int  630 613 605 633 584 646 670 509 553 540 ...\n",
      " $ LTV_orig_time      : num  80 80 80 90 95 87.1 80 70 85 80 ...\n",
      " $ lgd_time           : num  0.884 1.236 0.707 1.077 0.352 ...\n",
      " $ mat_diff           : int  120 120 121 121 60 120 120 121 120 114 ...\n",
      " $ res_sold           : num  1 1 1 1 1 1 1 1 1 1 ...\n",
      " $ res_diff           : Factor w/ 2 levels \"(-1,12]\",\"(12,38]\": 1 1 2 1 1 2 1 1 1 2 ...\n"
     ]
    }
   ],
   "source": [
    "str(data_modelling)"
   ]
  },
  {
   "cell_type": "code",
   "execution_count": 1229,
   "metadata": {},
   "outputs": [],
   "source": [
    "# changing variables types\n",
    "data_modelling[colnames(data_modelling[,c(8:10)])] <- lapply(data_modelling[colnames(data_modelling[,c(8:10)])], factor)"
   ]
  },
  {
   "cell_type": "code",
   "execution_count": 1080,
   "metadata": {},
   "outputs": [],
   "source": [
    "# data_modelling$state_orig_time <- as.factor(data_modelling$state_orig_time);"
   ]
  },
  {
   "cell_type": "code",
   "execution_count": 1082,
   "metadata": {},
   "outputs": [],
   "source": [
    "# dropping missing observations(1)\n",
    "data_modelling <- data_modelling %>% drop_na()"
   ]
  },
  {
   "cell_type": "code",
   "execution_count": 1100,
   "metadata": {},
   "outputs": [
    {
     "name": "stdout",
     "output_type": "stream",
     "text": [
      "'data.frame':\t1160 obs. of  17 variables:\n",
      " $ time               : int  31 33 31 42 39 37 33 27 31 30 ...\n",
      " $ orig_time          : int  23 27 26 27 28 28 28 17 26 19 ...\n",
      " $ first_time         : int  26 28 28 32 32 32 32 20 28 19 ...\n",
      " $ mat_time           : int  143 147 147 148 88 148 148 138 146 133 ...\n",
      " $ res_time           : int  38 43 60 44 41 60 36 27 37 48 ...\n",
      " $ balance_time       : num  223885 144375 285485 79140 150074 ...\n",
      " $ LTV_time           : num  87.2 98.3 89.5 121.5 122.6 ...\n",
      " $ REtype_CO_orig_time: Factor w/ 2 levels \"0\",\"1\": 1 2 1 1 1 1 1 1 1 1 ...\n",
      " $ REtype_PU_orig_time: Factor w/ 2 levels \"0\",\"1\": 1 1 1 1 1 1 1 1 1 1 ...\n",
      " $ REtype_SF_orig_time: Factor w/ 2 levels \"0\",\"1\": 2 1 2 2 1 2 2 2 1 2 ...\n",
      " $ balance_orig_time  : num  227200 144790 286400 81000 161500 ...\n",
      " $ FICO_orig_time     : int  630 613 605 633 584 646 670 509 553 540 ...\n",
      " $ LTV_orig_time      : num  80 80 80 90 95 87.1 80 70 85 80 ...\n",
      " $ lgd_time           : num  0.884 1.236 0.707 1.077 0.352 ...\n",
      " $ mat_diff           : int  120 120 121 121 60 120 120 121 120 114 ...\n",
      " $ res_sold           : num  1 1 1 1 1 1 1 1 1 1 ...\n",
      " $ res_diff           : Factor w/ 2 levels \"(-1,12]\",\"(12,38]\": 1 1 2 1 1 2 1 1 1 2 ...\n"
     ]
    }
   ],
   "source": [
    "str(data_modelling)"
   ]
  },
  {
   "cell_type": "code",
   "execution_count": 1084,
   "metadata": {},
   "outputs": [],
   "source": [
    "set.seed(101) "
   ]
  },
  {
   "cell_type": "code",
   "execution_count": 921,
   "metadata": {},
   "outputs": [],
   "source": [
    "# sample = sample.split(data_modelling$lgd_time, SplitRatio = 0.75)"
   ]
  },
  {
   "cell_type": "code",
   "execution_count": 922,
   "metadata": {},
   "outputs": [],
   "source": [
    "# train = subset(data_modelling, sample == TRUE)\n",
    "# test  = subset(data_modelling, sample == FALSE)"
   ]
  },
  {
   "cell_type": "code",
   "execution_count": 1085,
   "metadata": {},
   "outputs": [],
   "source": [
    "train_index <- caret::createDataPartition(data_modelling$lgd_time, p = .7, list = FALSE)"
   ]
  },
  {
   "cell_type": "code",
   "execution_count": 1086,
   "metadata": {},
   "outputs": [],
   "source": [
    "train <- data_modelling[ train_index,]\n",
    "test <- data_modelling[-train_index,]"
   ]
  },
  {
   "cell_type": "code",
   "execution_count": 1101,
   "metadata": {},
   "outputs": [],
   "source": [
    "lgd_da_1 <- ctree(lgd_time~res_diff-res_sold,data=train,maxdepth = 1)"
   ]
  },
  {
   "cell_type": "code",
   "execution_count": 1102,
   "metadata": {},
   "outputs": [
    {
     "data": {
      "image/png": "[encoded data removed]",
      "text/plain": [
       "plot without title"
      ]
     },
     "metadata": {
      "image/png": {
       "height": 420,
       "width": 420
      }
     },
     "output_type": "display_data"
    }
   ],
   "source": [
    "plot(lgd_da_1)"
   ]
  },
  {
   "cell_type": "code",
   "execution_count": 1103,
   "metadata": {},
   "outputs": [],
   "source": [
    "lgd_da_2 <- ctree(lgd_time ~res_diff + ., data=train, subset = predict(lgd_da_1, type = 'node') == 2)"
   ]
  },
  {
   "cell_type": "code",
   "execution_count": 1104,
   "metadata": {},
   "outputs": [
    {
     "data": {
      "image/png": "[encoded data removed]",
      "text/plain": [
       "plot without title"
      ]
     },
     "metadata": {
      "image/png": {
       "height": 420,
       "width": 420
      }
     },
     "output_type": "display_data"
    }
   ],
   "source": [
    "plot(lgd_da_2)"
   ]
  },
  {
   "cell_type": "code",
   "execution_count": 1111,
   "metadata": {},
   "outputs": [],
   "source": [
    "lgd_da_3 <- ctree(lgd_time ~res_diff -res_sold + ., data=train, subset = predict(lgd_da_1, type = 'node') == 3)"
   ]
  },
  {
   "cell_type": "code",
   "execution_count": 1113,
   "metadata": {},
   "outputs": [
    {
     "data": {
      "image/png": "[encoded data removed]",
      "text/plain": [
       "plot without title"
      ]
     },
     "metadata": {
      "image/png": {
       "height": 420,
       "width": 420
      }
     },
     "output_type": "display_data"
    }
   ],
   "source": [
    "plot(lgd_da_3)"
   ]
  },
  {
   "cell_type": "markdown",
   "metadata": {},
   "source": [
    "### Conditional Evaluation of Loss Severity given Probability of Cure"
   ]
  },
  {
   "cell_type": "code",
   "execution_count": 1343,
   "metadata": {},
   "outputs": [],
   "source": [
    "# filtering loans that defaulted\n",
    "data_modelling <- subset(data, (data[,\"status_time\"] == 1))"
   ]
  },
  {
   "cell_type": "code",
   "execution_count": 1344,
   "metadata": {},
   "outputs": [],
   "source": [
    "# A loan that deafaulted and was not cured (resolution)\n",
    "data_modelling$res_sold <- 1"
   ]
  },
  {
   "cell_type": "code",
   "execution_count": 1345,
   "metadata": {},
   "outputs": [],
   "source": [
    "# A loan that deafaulted and was cured (no resolution)\n",
    "data_modelling$res_sold[is.na(data_modelling[,\"res_time\"])] <- 0"
   ]
  },
  {
   "cell_type": "code",
   "execution_count": 1346,
   "metadata": {},
   "outputs": [],
   "source": [
    "# time elapsed between bankruptcy and resolution\n",
    "data_modelling$res_diff <- data_modelling$res_time - data_modelling$time"
   ]
  },
  {
   "cell_type": "code",
   "execution_count": 1347,
   "metadata": {},
   "outputs": [],
   "source": [
    "data_modelling$res_diff <- cut(data_modelling$res_diff, breaks=c(-1,12,38))"
   ]
  },
  {
   "cell_type": "code",
   "execution_count": 1349,
   "metadata": {},
   "outputs": [],
   "source": [
    "# selecting predictors and dependent variable(res_sold)\n",
    "data_modelling <- dplyr::select(data_modelling, 2:8,14:16,18:20,22,27:31)"
   ]
  },
  {
   "cell_type": "code",
   "execution_count": 1351,
   "metadata": {},
   "outputs": [],
   "source": [
    "# deleting resolution timestamp and resolution amount\n",
    "data_modelling <- data_modelling[,-c(5,14,16)]"
   ]
  },
  {
   "cell_type": "code",
   "execution_count": 1352,
   "metadata": {},
   "outputs": [
    {
     "name": "stdout",
     "output_type": "stream",
     "text": [
      "'data.frame':\t1525 obs. of  16 variables:\n",
      " $ time               : int  37 37 40 31 31 33 31 32 42 41 ...\n",
      " $ orig_time          : int  18 25 21 21 23 27 26 27 27 28 ...\n",
      " $ first_time         : int  25 33 25 25 26 28 28 32 32 32 ...\n",
      " $ mat_time           : int  138 141 141 142 143 147 147 148 148 228 ...\n",
      " $ balance_time       : num  130140 127859 84387 227000 223885 ...\n",
      " $ LTV_time           : num  99.1 101.4 102.6 67.5 87.2 ...\n",
      " $ REtype_CO_orig_time: int  0 0 0 0 0 1 0 0 0 0 ...\n",
      " $ REtype_PU_orig_time: int  0 0 0 0 0 0 0 0 0 0 ...\n",
      " $ REtype_SF_orig_time: int  1 1 1 1 1 0 1 1 1 1 ...\n",
      " $ balance_orig_time  : num  128000 129500 88000 227000 227200 ...\n",
      " $ FICO_orig_time     : int  501 536 556 622 630 613 605 596 633 587 ...\n",
      " $ LTV_orig_time      : num  80 69.6 80 64.9 80 80 80 71.1 90 80 ...\n",
      " $ lgd_time           : num  0.00784 0 0 0 0.88392 ...\n",
      " $ mat_diff           : int  120 116 120 121 120 120 121 121 121 200 ...\n",
      " $ res_sold           : num  0 0 0 0 1 1 1 0 1 0 ...\n",
      " $ res_diff           : Factor w/ 2 levels \"(-1,12]\",\"(12,38]\": NA NA NA NA 1 1 2 NA 1 NA ...\n"
     ]
    }
   ],
   "source": [
    "str(data_modelling)"
   ]
  },
  {
   "cell_type": "code",
   "execution_count": 1353,
   "metadata": {},
   "outputs": [],
   "source": [
    "# deleting row with NA observation\n",
    "data_modelling <- data_modelling[!is.na(data_modelling['LTV_time']),]"
   ]
  },
  {
   "cell_type": "code",
   "execution_count": 1354,
   "metadata": {},
   "outputs": [],
   "source": [
    "# changing variables types\n",
    "data_modelling[colnames(data_modelling[,c(7:9)])] <- lapply(data_modelling[colnames(data_modelling[,c(7:9)])], factor)"
   ]
  },
  {
   "cell_type": "code",
   "execution_count": 1355,
   "metadata": {},
   "outputs": [],
   "source": [
    "data_modelling$res_sold <- as.factor(data_modelling$res_sold)"
   ]
  },
  {
   "cell_type": "code",
   "execution_count": 1156,
   "metadata": {},
   "outputs": [],
   "source": [
    "# data_modelling$state_orig_time <- as.factor(data_modelling$state_orig_time)"
   ]
  },
  {
   "cell_type": "code",
   "execution_count": 1146,
   "metadata": {},
   "outputs": [],
   "source": [
    "# dropping missing observations(1)\n",
    "# data_modelling <- data_modelling %>% drop_na()"
   ]
  },
  {
   "cell_type": "code",
   "execution_count": 1356,
   "metadata": {},
   "outputs": [],
   "source": [
    "set.seed(101) "
   ]
  },
  {
   "cell_type": "code",
   "execution_count": 1357,
   "metadata": {},
   "outputs": [],
   "source": [
    "train_index <- caret::createDataPartition(data_modelling$res_sold, p = .7, list = FALSE)"
   ]
  },
  {
   "cell_type": "code",
   "execution_count": 1358,
   "metadata": {},
   "outputs": [],
   "source": [
    "train <- data_modelling[ train_index,]\n",
    "test <- data_modelling[-train_index,]"
   ]
  },
  {
   "cell_type": "code",
   "execution_count": 1359,
   "metadata": {},
   "outputs": [],
   "source": [
    "lgd_da_1 <- ctree(res_sold~.-res_diff-lgd_time,data=train)"
   ]
  },
  {
   "cell_type": "code",
   "execution_count": 1360,
   "metadata": {},
   "outputs": [
    {
     "data": {
      "image/png": "[encoded data removed]",
      "text/plain": [
       "plot without title"
      ]
     },
     "metadata": {
      "image/png": {
       "height": 420,
       "width": 420
      }
     },
     "output_type": "display_data"
    }
   ],
   "source": [
    "plot(lgd_da_1)"
   ]
  },
  {
   "cell_type": "code",
   "execution_count": 1361,
   "metadata": {},
   "outputs": [],
   "source": [
    "lgd_da_2 <- ctree(lgd_time ~res_diff, data=train, subset = predict(lgd_da_1, type = 'node') == 3)"
   ]
  },
  {
   "cell_type": "code",
   "execution_count": 1362,
   "metadata": {},
   "outputs": [
    {
     "data": {
      "image/png": "[encoded data removed]",
      "text/plain": [
       "plot without title"
      ]
     },
     "metadata": {
      "image/png": {
       "height": 420,
       "width": 420
      }
     },
     "output_type": "display_data"
    }
   ],
   "source": [
    "plot(lgd_da_2)"
   ]
  },
  {
   "cell_type": "code",
   "execution_count": 1371,
   "metadata": {},
   "outputs": [],
   "source": [
    "lgd_da_3 <- ctree(lgd_time ~res_diff, data=train, subset = predict(lgd_da_1, type = 'node') == 6)"
   ]
  },
  {
   "cell_type": "code",
   "execution_count": 1372,
   "metadata": {},
   "outputs": [
    {
     "data": {
      "image/png": "[encoded data removed]",
      "text/plain": [
       "plot without title"
      ]
     },
     "metadata": {
      "image/png": {
       "height": 420,
       "width": 420
      }
     },
     "output_type": "display_data"
    }
   ],
   "source": [
    "plot(lgd_da_3)"
   ]
  },
  {
   "cell_type": "markdown",
   "metadata": {},
   "source": [
    "### LGD with Macroeconomic Variables"
   ]
  },
  {
   "cell_type": "code",
   "execution_count": 1390,
   "metadata": {},
   "outputs": [],
   "source": [
    "# filtering loans that defaulted\n",
    "data_modelling <- subset(data, (data[,\"status_time\"] == 1))"
   ]
  },
  {
   "cell_type": "code",
   "execution_count": 1391,
   "metadata": {},
   "outputs": [],
   "source": [
    "# selecting predictors and dependent variable(res_sold)\n",
    "data_modelling <- dplyr::select(data_modelling, 2:23,27:29)"
   ]
  },
  {
   "cell_type": "code",
   "execution_count": 1392,
   "metadata": {},
   "outputs": [],
   "source": [
    "# deleting resolution timestamp and resolution amount\n",
    "data_modelling <- data_modelling[,-c(5,9,16,28)]"
   ]
  },
  {
   "cell_type": "code",
   "execution_count": 1402,
   "metadata": {},
   "outputs": [
    {
     "name": "stdout",
     "output_type": "stream",
     "text": [
      "'data.frame':\t1525 obs. of  22 variables:\n",
      " $ time                   : int  37 37 40 31 31 33 31 32 42 41 ...\n",
      " $ orig_time              : int  18 25 21 21 23 27 26 27 27 28 ...\n",
      " $ first_time             : int  25 33 25 25 26 28 28 32 32 32 ...\n",
      " $ mat_time               : int  138 141 141 142 143 147 147 148 148 228 ...\n",
      " $ balance_time           : num  130140 127859 84387 227000 223885 ...\n",
      " $ LTV_time               : num  99.1 101.4 102.6 67.5 87.2 ...\n",
      " $ interest_rate_time     : num  8 7 7.81 7.33 7.36 ...\n",
      " $ hpi_time               : num  153 153 156 201 201 ...\n",
      " $ gdp_time               : num  -4.15 -4.15 1.59 1.85 1.85 ...\n",
      " $ uer_time               : num  9 9 9.8 4.7 4.7 5 4.7 5 9.4 9.9 ...\n",
      " $ REtype_CO_orig_time    : Factor w/ 2 levels \"0\",\"1\": 1 1 1 1 1 2 1 1 1 1 ...\n",
      " $ REtype_PU_orig_time    : Factor w/ 2 levels \"0\",\"1\": 1 1 1 1 1 1 1 1 1 1 ...\n",
      " $ REtype_SF_orig_time    : Factor w/ 2 levels \"0\",\"1\": 2 2 2 2 2 1 2 2 2 2 ...\n",
      " $ balance_orig_time      : num  128000 129500 88000 227000 227200 ...\n",
      " $ FICO_orig_time         : int  501 536 556 622 630 613 605 596 633 587 ...\n",
      " $ LTV_orig_time          : num  80 69.6 80 64.9 80 80 80 71.1 90 80 ...\n",
      " $ Interest_Rate_orig_time: num  8 7.61 7.81 7.33 7.36 ...\n",
      " $ state_orig_time        : Factor w/ 51 levels \"\",\"AK\",\"AL\",\"AR\",..: 12 11 36 35 11 11 11 6 22 6 ...\n",
      " $ hpi_orig_time          : num  187 226 209 209 222 ...\n",
      " $ lgd_time               : num  0.00784 0 0 0 0.88392 ...\n",
      " $ recovery_res           : num  129120 127859 84387 227000 25989 ...\n",
      " $ mat_diff               : int  120 116 120 121 120 120 121 121 121 200 ...\n"
     ]
    }
   ],
   "source": [
    "str(data_modelling)"
   ]
  },
  {
   "cell_type": "code",
   "execution_count": 1394,
   "metadata": {},
   "outputs": [],
   "source": [
    "# changing variables types\n",
    "data_modelling[colnames(data_modelling[,c(11:13)])] <- lapply(data_modelling[colnames(data_modelling[,c(11:13)])], factor)"
   ]
  },
  {
   "cell_type": "code",
   "execution_count": 1395,
   "metadata": {},
   "outputs": [],
   "source": [
    "data_modelling$state_orig_time <- as.factor(data_modelling$state_orig_time)"
   ]
  },
  {
   "cell_type": "code",
   "execution_count": 1397,
   "metadata": {},
   "outputs": [],
   "source": [
    "set.seed(101) "
   ]
  },
  {
   "cell_type": "code",
   "execution_count": 1398,
   "metadata": {},
   "outputs": [],
   "source": [
    "train_index <- caret::createDataPartition(data_modelling$lgd_time, p = .7, list = FALSE)"
   ]
  },
  {
   "cell_type": "code",
   "execution_count": 1399,
   "metadata": {},
   "outputs": [],
   "source": [
    "train <- data_modelling[ train_index,]\n",
    "test <- data_modelling[-train_index,]"
   ]
  },
  {
   "cell_type": "code",
   "execution_count": 1403,
   "metadata": {},
   "outputs": [],
   "source": [
    "lgd.lm.full <- lm(lgd_time~interest_rate_time+hpi_time+gdp_time+ uer_time+Interest_Rate_orig_time+hpi_orig_time, data = train)"
   ]
  },
  {
   "cell_type": "code",
   "execution_count": 1404,
   "metadata": {},
   "outputs": [
    {
     "data": {
      "text/plain": [
       "\n",
       "Call:\n",
       "lm(formula = lgd_time ~ interest_rate_time + hpi_time + gdp_time + \n",
       "    uer_time + Interest_Rate_orig_time + hpi_orig_time, data = train)\n",
       "\n",
       "Residuals:\n",
       "     Min       1Q   Median       3Q      Max \n",
       "-0.72028 -0.29984  0.01051  0.25702  1.72221 \n",
       "\n",
       "Coefficients:\n",
       "                          Estimate Std. Error t value Pr(>|t|)    \n",
       "(Intercept)             -0.4445714  0.2181519  -2.038   0.0418 *  \n",
       "interest_rate_time       0.0333059  0.0065365   5.095 4.12e-07 ***\n",
       "hpi_time                 0.0009143  0.0008060   1.134   0.2569    \n",
       "gdp_time                -0.0136843  0.0057286  -2.389   0.0171 *  \n",
       "uer_time                 0.0071871  0.0099126   0.725   0.4686    \n",
       "Interest_Rate_orig_time  0.0041546  0.0034385   1.208   0.2272    \n",
       "hpi_orig_time            0.0022013  0.0004212   5.226 2.08e-07 ***\n",
       "---\n",
       "Signif. codes:  0 '***' 0.001 '**' 0.01 '*' 0.05 '.' 0.1 ' ' 1\n",
       "\n",
       "Residual standard error: 0.3703 on 1062 degrees of freedom\n",
       "Multiple R-squared:  0.06535,\tAdjusted R-squared:  0.06007 \n",
       "F-statistic: 12.38 on 6 and 1062 DF,  p-value: 1.659e-13\n"
      ]
     },
     "metadata": {},
     "output_type": "display_data"
    }
   ],
   "source": [
    "summary(lgd.lm.full)"
   ]
  },
  {
   "cell_type": "code",
   "execution_count": 1405,
   "metadata": {},
   "outputs": [
    {
     "name": "stdout",
     "output_type": "stream",
     "text": [
      "Start:  AIC=-2117.15\n",
      "lgd_time ~ interest_rate_time + hpi_time + gdp_time + uer_time + \n",
      "    Interest_Rate_orig_time + hpi_orig_time\n",
      "\n",
      "                          Df Sum of Sq    RSS     AIC\n",
      "- uer_time                 1    0.0721 145.68 -2118.6\n",
      "- hpi_time                 1    0.1764 145.78 -2117.8\n",
      "- Interest_Rate_orig_time  1    0.2002 145.80 -2117.7\n",
      "<none>                                 145.60 -2117.2\n",
      "- gdp_time                 1    0.7823 146.39 -2113.4\n",
      "- interest_rate_time       1    3.5596 149.16 -2093.3\n",
      "- hpi_orig_time            1    3.7449 149.35 -2092.0\n",
      "\n",
      "Step:  AIC=-2118.62\n",
      "lgd_time ~ interest_rate_time + hpi_time + gdp_time + Interest_Rate_orig_time + \n",
      "    hpi_orig_time\n",
      "\n",
      "                          Df Sum of Sq    RSS     AIC\n",
      "- hpi_time                 1    0.1095 145.78 -2119.8\n",
      "- Interest_Rate_orig_time  1    0.2133 145.89 -2119.1\n",
      "<none>                                 145.68 -2118.6\n",
      "+ uer_time                 1    0.0721 145.60 -2117.2\n",
      "- gdp_time                 1    0.7368 146.41 -2115.2\n",
      "- interest_rate_time       1    3.5448 149.22 -2094.9\n",
      "- hpi_orig_time            1    3.9399 149.62 -2092.1\n",
      "\n",
      "Step:  AIC=-2119.82\n",
      "lgd_time ~ interest_rate_time + gdp_time + Interest_Rate_orig_time + \n",
      "    hpi_orig_time\n",
      "\n",
      "                          Df Sum of Sq    RSS     AIC\n",
      "- Interest_Rate_orig_time  1    0.1841 145.97 -2120.5\n",
      "<none>                                 145.78 -2119.8\n",
      "+ hpi_time                 1    0.1095 145.68 -2118.6\n",
      "+ uer_time                 1    0.0051 145.78 -2117.8\n",
      "- gdp_time                 1    0.6361 146.42 -2117.2\n",
      "- hpi_orig_time            1    4.0381 149.82 -2092.6\n",
      "- interest_rate_time       1    4.4036 150.19 -2090.0\n",
      "\n",
      "Step:  AIC=-2120.47\n",
      "lgd_time ~ interest_rate_time + gdp_time + hpi_orig_time\n",
      "\n",
      "                          Df Sum of Sq    RSS     AIC\n",
      "<none>                                 145.97 -2120.5\n",
      "+ Interest_Rate_orig_time  1    0.1841 145.78 -2119.8\n",
      "+ hpi_time                 1    0.0803 145.89 -2119.1\n",
      "+ uer_time                 1    0.0005 145.97 -2118.5\n",
      "- gdp_time                 1    0.6561 146.63 -2117.7\n",
      "- hpi_orig_time            1    4.2499 150.22 -2091.8\n",
      "- interest_rate_time       1    5.2952 151.26 -2084.4\n"
     ]
    }
   ],
   "source": [
    "lgd.stepwise<- stepAIC(lgd.lm.full, direction = 'both')"
   ]
  },
  {
   "cell_type": "code",
   "execution_count": 1406,
   "metadata": {},
   "outputs": [
    {
     "data": {
      "text/plain": [
       "\n",
       "Call:\n",
       "lm(formula = lgd_time ~ interest_rate_time + gdp_time + hpi_orig_time, \n",
       "    data = train)\n",
       "\n",
       "Residuals:\n",
       "     Min       1Q   Median       3Q      Max \n",
       "-0.73876 -0.29407  0.01211  0.25781  1.70339 \n",
       "\n",
       "Coefficients:\n",
       "                     Estimate Std. Error t value Pr(>|t|)    \n",
       "(Intercept)        -0.2530396  0.1064035  -2.378   0.0176 *  \n",
       "interest_rate_time  0.0357288  0.0057482   6.216 7.33e-10 ***\n",
       "gdp_time           -0.0109021  0.0049830  -2.188   0.0289 *  \n",
       "hpi_orig_time       0.0023106  0.0004149   5.568 3.25e-08 ***\n",
       "---\n",
       "Signif. codes:  0 '***' 0.001 '**' 0.01 '*' 0.05 '.' 0.1 ' ' 1\n",
       "\n",
       "Residual standard error: 0.3702 on 1065 degrees of freedom\n",
       "Multiple R-squared:  0.063,\tAdjusted R-squared:  0.06036 \n",
       "F-statistic: 23.87 on 3 and 1065 DF,  p-value: 5.916e-15\n"
      ]
     },
     "metadata": {},
     "output_type": "display_data"
    }
   ],
   "source": [
    "summary(lgd.stepwise)"
   ]
  },
  {
   "cell_type": "markdown",
   "metadata": {},
   "source": [
    "#### Macroeconomic variables with time lead"
   ]
  },
  {
   "cell_type": "code",
   "execution_count": 1440,
   "metadata": {},
   "outputs": [],
   "source": [
    "mv_lead <- train[order(train['time']),]"
   ]
  },
  {
   "cell_type": "code",
   "execution_count": 1441,
   "metadata": {},
   "outputs": [],
   "source": [
    "mv_lead<-subset(mv_lead, select=c(1,7:10,17,19))"
   ]
  },
  {
   "cell_type": "code",
   "execution_count": 1442,
   "metadata": {},
   "outputs": [
    {
     "name": "stdout",
     "output_type": "stream",
     "text": [
      "'data.frame':\t1069 obs. of  7 variables:\n",
      " $ time                   : int  3 4 5 6 6 7 7 7 9 10 ...\n",
      " $ interest_rate_time     : num  10.9 13.5 12.6 11.7 10.8 ...\n",
      " $ hpi_time               : num  114 117 120 123 123 ...\n",
      " $ gdp_time               : num  2.848 2.273 0.931 0.494 0.494 ...\n",
      " $ uer_time               : num  3.9 4.2 4.4 4.6 4.6 5.3 5.3 5.3 5.9 5.8 ...\n",
      " $ Interest_Rate_orig_time: num  10.9 13.5 12.6 11.7 0 ...\n",
      " $ hpi_orig_time          : num  113.6 110.9 110.9 113.6 91.3 ...\n"
     ]
    }
   ],
   "source": [
    "str(mv_lead)"
   ]
  },
  {
   "cell_type": "code",
   "execution_count": 1443,
   "metadata": {},
   "outputs": [],
   "source": [
    "# unique observations based on time\n",
    "mv_lead <- mv_lead[!duplicated(mv_lead[,c(1)]),]"
   ]
  },
  {
   "cell_type": "code",
   "execution_count": 1444,
   "metadata": {},
   "outputs": [],
   "source": [
    "# gdp_lead <- matrix(0,nrow(gdp_lead),1)"
   ]
  },
  {
   "cell_type": "code",
   "execution_count": 1446,
   "metadata": {},
   "outputs": [],
   "source": [
    "# for(i in 1:nrow(mv_lead))\n",
    "# {\n",
    "# gdp_lead[i] <-0.33*(mv_lead$gdp_time[i+1]+mv_lead$gdp_time[i+2]+mv_lead$gdp_time[i+3])\n",
    "# }"
   ]
  },
  {
   "cell_type": "code",
   "execution_count": 1459,
   "metadata": {},
   "outputs": [],
   "source": [
    "# gdp_lead <- cbind(mv_lead$time, gdp_lead)"
   ]
  },
  {
   "cell_type": "code",
   "execution_count": 1461,
   "metadata": {},
   "outputs": [],
   "source": [
    "# gdp_lead <- as.data.frame(gdp_lead)"
   ]
  },
  {
   "cell_type": "code",
   "execution_count": 1469,
   "metadata": {},
   "outputs": [],
   "source": [
    "# gdp_lead <-gdp_lead %>% \n",
    "#             rename(\n",
    "#             time = V1,\n",
    "#             gdp_lead = V2)"
   ]
  },
  {
   "cell_type": "code",
   "execution_count": 1513,
   "metadata": {},
   "outputs": [],
   "source": [
    "time <- mv_lead$time[1:54]"
   ]
  },
  {
   "cell_type": "code",
   "execution_count": 1564,
   "metadata": {},
   "outputs": [],
   "source": [
    "# moving average from 12 periods after bankruptcy\n",
    "# for cases for which data is unavailable for that number of periods, at least 3 periods\n",
    "# E.g if data is accessible for 13 next periods, then MA from 12 periods, if for 9 periods, then from 9 periods, if for 8 periods, then from 8 periods etc.\n",
    "mv_lead <- rollapply(mv_lead[2:7], width=12, FUN=mean, align = \"left\", partial=3)"
   ]
  },
  {
   "cell_type": "code",
   "execution_count": 1565,
   "metadata": {},
   "outputs": [],
   "source": [
    "mv_lead <- cbind(time, mv_lead)"
   ]
  },
  {
   "cell_type": "markdown",
   "metadata": {},
   "source": [
    "##### Default event prediction"
   ]
  },
  {
   "cell_type": "code",
   "execution_count": 1566,
   "metadata": {},
   "outputs": [],
   "source": [
    "# filtering loans that defaulted\n",
    "data_modelling <- subset(data, (data[,\"status_time\"] >= 1))"
   ]
  },
  {
   "cell_type": "code",
   "execution_count": 1567,
   "metadata": {},
   "outputs": [],
   "source": [
    "data_modelling$status_time <- ifelse(data_modelling$status_time == 1,1,0)"
   ]
  },
  {
   "cell_type": "code",
   "execution_count": 1568,
   "metadata": {},
   "outputs": [],
   "source": [
    "data_modelling_mv <- merge(data_modelling, mv_lead,by='time')"
   ]
  },
  {
   "cell_type": "code",
   "execution_count": 1569,
   "metadata": {},
   "outputs": [],
   "source": [
    "set.seed(101) "
   ]
  },
  {
   "cell_type": "code",
   "execution_count": 1570,
   "metadata": {},
   "outputs": [],
   "source": [
    "train_index <- caret::createDataPartition(data_modelling_mv$status_time, p = .7, list = FALSE)"
   ]
  },
  {
   "cell_type": "code",
   "execution_count": 1571,
   "metadata": {},
   "outputs": [],
   "source": [
    "train <- data_modelling_mv[ train_index,]\n",
    "test <- data_modelling_mv[-train_index,]"
   ]
  },
  {
   "cell_type": "code",
   "execution_count": 1577,
   "metadata": {},
   "outputs": [],
   "source": [
    "lgd.lm.lead.ma <- lm(status_time~gdp_time.y, data = train)"
   ]
  },
  {
   "cell_type": "markdown",
   "metadata": {},
   "source": [
    "##### Loss severity given default"
   ]
  },
  {
   "cell_type": "code",
   "execution_count": 1579,
   "metadata": {},
   "outputs": [],
   "source": [
    "# filtering loans that defaulted\n",
    "data_modelling <- subset(data, (data[,\"status_time\"] == 1))"
   ]
  },
  {
   "cell_type": "code",
   "execution_count": 1580,
   "metadata": {},
   "outputs": [],
   "source": [
    "data_modelling_mv <- merge(data_modelling, mv_lead,by='time')"
   ]
  },
  {
   "cell_type": "code",
   "execution_count": 1581,
   "metadata": {},
   "outputs": [
    {
     "name": "stdout",
     "output_type": "stream",
     "text": [
      "'data.frame':\t1513 obs. of  35 variables:\n",
      " $ time                     : int  3 3 4 4 5 5 5 6 6 6 ...\n",
      " $ id                       : int  8184 8250 8039 8008 9298 7967 8155 18068 8417 9340 ...\n",
      " $ orig_time                : int  3 3 2 2 2 2 3 -4 3 2 ...\n",
      " $ first_time               : int  3 3 2 2 2 2 3 1 3 2 ...\n",
      " $ mat_time                 : int  120 119 119 119 120 119 119 117 121 58 ...\n",
      " $ res_time                 : int  11 11 9 22 16 20 22 7 22 22 ...\n",
      " $ balance_time             : num  119390 41172 81724 68155 81017 ...\n",
      " $ LTV_time                 : num  89.8 74.9 66.4 75.7 59.9 ...\n",
      " $ interest_rate_time.x     : num  10.9 13 13.5 9.9 12.6 ...\n",
      " $ rate_time                : num  5.12 5.12 5.8 5.8 5.8 5.8 5.12 5.25 5.12 5.8 ...\n",
      " $ hpi_time.x               : num  114 114 117 117 120 ...\n",
      " $ gdp_time.x               : num  2.848 2.848 2.273 2.273 0.931 ...\n",
      " $ uer_time.x               : num  3.9 3.9 4.2 4.2 4.4 4.4 4.4 4.6 4.6 4.6 ...\n",
      " $ REtype_CO_orig_time      : int  0 0 0 0 0 0 0 0 0 0 ...\n",
      " $ REtype_PU_orig_time      : int  0 0 0 0 0 0 0 0 0 0 ...\n",
      " $ REtype_SF_orig_time      : int  1 0 1 1 1 1 1 1 0 1 ...\n",
      " $ investor_orig_time       : int  0 0 0 0 1 0 0 0 0 0 ...\n",
      " $ balance_orig_time        : num  119700 41250 81900 68480 81250 ...\n",
      " $ FICO_orig_time           : int  559 563 526 600 578 597 524 554 497 644 ...\n",
      " $ LTV_orig_time            : num  90 75 70 80 65 80 70 90 75 75 ...\n",
      " $ Interest_Rate_orig_time.x: num  10.9 13 13.5 9.9 12.6 ...\n",
      " $ state_orig_time          : chr  \"OH\" \"SC\" \"MN\" \"FL\" ...\n",
      " $ hpi_orig_time.x          : num  114 114 111 111 111 ...\n",
      " $ default_time             : int  1 1 1 1 1 1 1 1 1 1 ...\n",
      " $ payoff_time              : int  0 0 0 0 0 0 0 0 0 0 ...\n",
      " $ status_time              : int  1 1 1 1 1 1 1 1 1 1 ...\n",
      " $ lgd_time                 : num  0 0.943 0 0 0.39 ...\n",
      " $ recovery_res             : num  119390 2358 81724 68155 49456 ...\n",
      " $ mat_diff                 : int  117 116 117 117 118 117 116 121 118 56 ...\n",
      " $ interest_rate_time.y     : num  10.9 10.9 10.8 10.8 10.4 ...\n",
      " $ hpi_time.y               : num  136 136 141 141 147 ...\n",
      " $ gdp_time.y               : num  1.96 1.96 2.07 2.07 2.16 ...\n",
      " $ uer_time.y               : num  5.29 5.29 5.43 5.43 5.54 ...\n",
      " $ Interest_Rate_orig_time.y: num  7.79 7.79 6.88 6.88 6.44 ...\n",
      " $ hpi_orig_time.y          : num  118 118 115 115 118 ...\n"
     ]
    }
   ],
   "source": [
    "str(data_modelling_mv)"
   ]
  },
  {
   "cell_type": "code",
   "execution_count": 1582,
   "metadata": {},
   "outputs": [],
   "source": [
    "set.seed(101) "
   ]
  },
  {
   "cell_type": "code",
   "execution_count": 1583,
   "metadata": {},
   "outputs": [],
   "source": [
    "train_index <- caret::createDataPartition(data_modelling_mv$time, p = .7, list = FALSE)"
   ]
  },
  {
   "cell_type": "code",
   "execution_count": 1584,
   "metadata": {},
   "outputs": [],
   "source": [
    "train <- data_modelling_mv[ train_index,]\n",
    "test <- data_modelling_mv[-train_index,]"
   ]
  },
  {
   "cell_type": "code",
   "execution_count": 1587,
   "metadata": {},
   "outputs": [],
   "source": [
    "lgd.lm.lead.ma <- lm(lgd_time~interest_rate_time.y+hpi_time.y+gdp_time.y+ uer_time.y+Interest_Rate_orig_time.y+hpi_orig_time.y, data = train)"
   ]
  },
  {
   "cell_type": "code",
   "execution_count": 1588,
   "metadata": {},
   "outputs": [
    {
     "data": {
      "text/plain": [
       "\n",
       "Call:\n",
       "lm(formula = lgd_time ~ interest_rate_time.y + hpi_time.y + gdp_time.y + \n",
       "    uer_time.y + Interest_Rate_orig_time.y + hpi_orig_time.y, \n",
       "    data = train)\n",
       "\n",
       "Residuals:\n",
       "     Min       1Q   Median       3Q      Max \n",
       "-0.63398 -0.27837  0.01057  0.24948  1.67374 \n",
       "\n",
       "Coefficients:\n",
       "                           Estimate Std. Error t value Pr(>|t|)   \n",
       "(Intercept)               -0.379454   0.582036  -0.652  0.51458   \n",
       "interest_rate_time.y       0.083676   0.033723   2.481  0.01325 * \n",
       "hpi_time.y                -0.006600   0.003080  -2.143  0.03236 * \n",
       "gdp_time.y                 0.026679   0.038670   0.690  0.49040   \n",
       "uer_time.y                -0.015166   0.040811  -0.372  0.71025   \n",
       "Interest_Rate_orig_time.y -0.016028   0.026989  -0.594  0.55273   \n",
       "hpi_orig_time.y            0.007473   0.002767   2.701  0.00703 **\n",
       "---\n",
       "Signif. codes:  0 '***' 0.001 '**' 0.01 '*' 0.05 '.' 0.1 ' ' 1\n",
       "\n",
       "Residual standard error: 0.3638 on 1053 degrees of freedom\n",
       "Multiple R-squared:  0.07522,\tAdjusted R-squared:  0.06995 \n",
       "F-statistic: 14.27 on 6 and 1053 DF,  p-value: 1.09e-15\n"
      ]
     },
     "metadata": {},
     "output_type": "display_data"
    }
   ],
   "source": [
    "summary(lgd.lm.lead.ma)"
   ]
  },
  {
   "cell_type": "markdown",
   "metadata": {},
   "source": [
    "### Tobit Regression"
   ]
  },
  {
   "cell_type": "code",
   "execution_count": 1726,
   "metadata": {},
   "outputs": [],
   "source": [
    "# filtering loans that defaulted\n",
    "data_modelling <- subset(data, (data[,\"status_time\"] == 1))"
   ]
  },
  {
   "cell_type": "code",
   "execution_count": 1727,
   "metadata": {},
   "outputs": [],
   "source": [
    "# A loan that deafaulted and was not cured (resolution)\n",
    "data_modelling$res_sold <- 1"
   ]
  },
  {
   "cell_type": "code",
   "execution_count": 1728,
   "metadata": {},
   "outputs": [],
   "source": [
    "# A loan that deafaulted and was cured (no resolution)\n",
    "data_modelling$res_sold[is.na(data_modelling[,\"res_time\"])] <- 0"
   ]
  },
  {
   "cell_type": "code",
   "execution_count": 1729,
   "metadata": {},
   "outputs": [],
   "source": [
    "# selecting predictors and dependent variable(res_sold)\n",
    "data_modelling <- dplyr::select(data_modelling, 2:8,14:16,18:20,22,27:30)"
   ]
  },
  {
   "cell_type": "code",
   "execution_count": 1730,
   "metadata": {},
   "outputs": [],
   "source": [
    "# deleting resolution timestamp and resolution amount\n",
    "data_modelling <- data_modelling[,-c(5,16)]"
   ]
  },
  {
   "cell_type": "code",
   "execution_count": 1731,
   "metadata": {},
   "outputs": [
    {
     "name": "stdout",
     "output_type": "stream",
     "text": [
      "'data.frame':\t1525 obs. of  16 variables:\n",
      " $ time               : int  37 37 40 31 31 33 31 32 42 41 ...\n",
      " $ orig_time          : int  18 25 21 21 23 27 26 27 27 28 ...\n",
      " $ first_time         : int  25 33 25 25 26 28 28 32 32 32 ...\n",
      " $ mat_time           : int  138 141 141 142 143 147 147 148 148 228 ...\n",
      " $ balance_time       : num  130140 127859 84387 227000 223885 ...\n",
      " $ LTV_time           : num  99.1 101.4 102.6 67.5 87.2 ...\n",
      " $ REtype_CO_orig_time: int  0 0 0 0 0 1 0 0 0 0 ...\n",
      " $ REtype_PU_orig_time: int  0 0 0 0 0 0 0 0 0 0 ...\n",
      " $ REtype_SF_orig_time: int  1 1 1 1 1 0 1 1 1 1 ...\n",
      " $ balance_orig_time  : num  128000 129500 88000 227000 227200 ...\n",
      " $ FICO_orig_time     : int  501 536 556 622 630 613 605 596 633 587 ...\n",
      " $ LTV_orig_time      : num  80 69.6 80 64.9 80 80 80 71.1 90 80 ...\n",
      " $ state_orig_time    : chr  \"GA\" \"FL\" \"OH\" \"NY\" ...\n",
      " $ lgd_time           : num  0.00784 0 0 0 0.88392 ...\n",
      " $ mat_diff           : int  120 116 120 121 120 120 121 121 121 200 ...\n",
      " $ res_sold           : num  0 0 0 0 1 1 1 0 1 0 ...\n"
     ]
    }
   ],
   "source": [
    "str(data_modelling)"
   ]
  },
  {
   "cell_type": "code",
   "execution_count": 1732,
   "metadata": {},
   "outputs": [],
   "source": [
    "# deleting row with NA observation\n",
    "data_modelling <- data_modelling[!is.na(data_modelling['LTV_time']),]"
   ]
  },
  {
   "cell_type": "code",
   "execution_count": 1733,
   "metadata": {},
   "outputs": [],
   "source": [
    "# changing variables types\n",
    "data_modelling[colnames(data_modelling[,c(7:9)])] <- lapply(data_modelling[colnames(data_modelling[,c(7:9)])], factor)"
   ]
  },
  {
   "cell_type": "code",
   "execution_count": 1734,
   "metadata": {},
   "outputs": [],
   "source": [
    "data_modelling$res_sold <- as.factor(data_modelling$res_sold)"
   ]
  },
  {
   "cell_type": "code",
   "execution_count": 1735,
   "metadata": {},
   "outputs": [],
   "source": [
    "data_modelling$state_orig_time <- as.factor(data_modelling$state_orig_time)"
   ]
  },
  {
   "cell_type": "code",
   "execution_count": 1736,
   "metadata": {},
   "outputs": [],
   "source": [
    "# dropping missing observations(1)\n",
    "# data_modelling <- data_modelling %>% drop_na()"
   ]
  },
  {
   "cell_type": "code",
   "execution_count": 1737,
   "metadata": {},
   "outputs": [],
   "source": [
    "set.seed(101) "
   ]
  },
  {
   "cell_type": "code",
   "execution_count": 1738,
   "metadata": {},
   "outputs": [],
   "source": [
    "train_index <- caret::createDataPartition(data_modelling$res_sold, p = .7, list = FALSE)"
   ]
  },
  {
   "cell_type": "code",
   "execution_count": 1739,
   "metadata": {},
   "outputs": [],
   "source": [
    "train <- data_modelling[ train_index,]\n",
    "test <- data_modelling[-train_index,]"
   ]
  },
  {
   "cell_type": "code",
   "execution_count": 1742,
   "metadata": {},
   "outputs": [],
   "source": [
    "# Fitting tobit regression\n",
    "fit_tobit <- tobit(lgd_time ~ LTV_time+time, data = train)"
   ]
  },
  {
   "cell_type": "code",
   "execution_count": 1743,
   "metadata": {},
   "outputs": [
    {
     "data": {
      "text/plain": [
       "\n",
       "Call:\n",
       "tobit(formula = lgd_time ~ LTV_time + time, data = train)\n",
       "\n",
       "Observations:\n",
       "         Total  Left-censored     Uncensored Right-censored \n",
       "          1067            212            855              0 \n",
       "\n",
       "Coefficients:\n",
       "              Estimate Std. Error z value Pr(>|z|)    \n",
       "(Intercept)  0.2777526  0.0761035   3.650 0.000263 ***\n",
       "LTV_time     0.0048864  0.0007484   6.529 6.61e-11 ***\n",
       "time        -0.0084894  0.0018299  -4.639 3.49e-06 ***\n",
       "Log(scale)  -0.7865767  0.0254575 -30.898  < 2e-16 ***\n",
       "---\n",
       "Signif. codes:  0 '***' 0.001 '**' 0.01 '*' 0.05 '.' 0.1 ' ' 1\n",
       "\n",
       "Scale: 0.4554 \n",
       "\n",
       "Gaussian distribution\n",
       "Number of Newton-Raphson Iterations: 3 \n",
       "Log-likelihood: -759.9 on 4 Df\n",
       "Wald-statistic: 47.05 on 2 Df, p-value: 6.0583e-11 \n"
      ]
     },
     "metadata": {},
     "output_type": "display_data"
    }
   ],
   "source": [
    "summary(fit_tobit)"
   ]
  },
  {
   "cell_type": "code",
   "execution_count": 1744,
   "metadata": {},
   "outputs": [
    {
     "data": {
      "text/html": [
       "<style>\n",
       ".list-inline {list-style: none; margin:0; padding: 0}\n",
       ".list-inline>li {display: inline-block}\n",
       ".list-inline>li:not(:last-child)::after {content: \"\\00b7\"; padding: 0 .5ex}\n",
       "</style>\n",
       "<ol class=list-inline><li>-0.0151244774857278</li><li>2.0227671534</li></ol>\n"
      ],
      "text/latex": [
       "\\begin{enumerate*}\n",
       "\\item -0.0151244774857278\n",
       "\\item 2.0227671534\n",
       "\\end{enumerate*}\n"
      ],
      "text/markdown": [
       "1. -0.0151244774857278\n",
       "2. 2.0227671534\n",
       "\n",
       "\n"
      ],
      "text/plain": [
       "[1] -0.01512448  2.02276715"
      ]
     },
     "metadata": {},
     "output_type": "display_data"
    }
   ],
   "source": [
    "# Tobit function that has been used doesn't automatically rescale the outcomes\n",
    "range(predict(fit_tobit), train$lgd_time)"
   ]
  },
  {
   "cell_type": "code",
   "execution_count": 1745,
   "metadata": {},
   "outputs": [],
   "source": [
    "# A rescaling adjustment is performed as follows:"
   ]
  },
  {
   "cell_type": "code",
   "execution_count": 1746,
   "metadata": {},
   "outputs": [],
   "source": [
    "mu <- predict(fit_tobit, newdata=train)"
   ]
  },
  {
   "cell_type": "code",
   "execution_count": 1747,
   "metadata": {},
   "outputs": [],
   "source": [
    "sigma <- fit_tobit$scale"
   ]
  },
  {
   "cell_type": "code",
   "execution_count": 1748,
   "metadata": {},
   "outputs": [],
   "source": [
    "p0 <- pnorm(mu/sigma)"
   ]
  },
  {
   "cell_type": "code",
   "execution_count": 1622,
   "metadata": {},
   "outputs": [],
   "source": [
    "lambda <- function(x) dnorm(x)/pnorm(x)"
   ]
  },
  {
   "cell_type": "code",
   "execution_count": 1750,
   "metadata": {},
   "outputs": [],
   "source": [
    "predicted_loss <- mu + sigma * lambda(mu/sigma)"
   ]
  },
  {
   "cell_type": "code",
   "execution_count": 1751,
   "metadata": {},
   "outputs": [],
   "source": [
    "predicted_loss <- p0 * predicted_loss"
   ]
  },
  {
   "cell_type": "code",
   "execution_count": 1752,
   "metadata": {},
   "outputs": [],
   "source": [
    "train$predicted_loss <- predicted_loss"
   ]
  },
  {
   "cell_type": "code",
   "execution_count": 1753,
   "metadata": {},
   "outputs": [],
   "source": [
    "train <- tibble::rowid_to_column(train, \"id\")"
   ]
  },
  {
   "cell_type": "code",
   "execution_count": 1754,
   "metadata": {},
   "outputs": [
    {
     "data": {
      "text/html": [
       "0.188711020324706"
      ],
      "text/latex": [
       "0.188711020324706"
      ],
      "text/markdown": [
       "0.188711020324706"
      ],
      "text/plain": [
       "[1] 0.188711"
      ]
     },
     "metadata": {},
     "output_type": "display_data"
    }
   ],
   "source": [
    "# actual mean lgd given the cure event\n",
    "mean(train[train['res_sold']==0,][,'lgd_time'])"
   ]
  },
  {
   "cell_type": "code",
   "execution_count": 1756,
   "metadata": {},
   "outputs": [
    {
     "data": {
      "text/html": [
       "0.46160843027449"
      ],
      "text/latex": [
       "0.46160843027449"
      ],
      "text/markdown": [
       "0.46160843027449"
      ],
      "text/plain": [
       "[1] 0.4616084"
      ]
     },
     "metadata": {},
     "output_type": "display_data"
    }
   ],
   "source": [
    "# predicted mean lgd given the cure event\n",
    "mean(train[train['res_sold']==0,][,'predicted_loss'])"
   ]
  },
  {
   "cell_type": "code",
   "execution_count": 1757,
   "metadata": {},
   "outputs": [
    {
     "data": {
      "text/html": [
       "0.594984479414409"
      ],
      "text/latex": [
       "0.594984479414409"
      ],
      "text/markdown": [
       "0.594984479414409"
      ],
      "text/plain": [
       "[1] 0.5949845"
      ]
     },
     "metadata": {},
     "output_type": "display_data"
    }
   ],
   "source": [
    "# actual mean lgd given no-cure\n",
    "mean(train[train['res_sold']==1,][,'lgd_time'])"
   ]
  },
  {
   "cell_type": "code",
   "execution_count": 1758,
   "metadata": {},
   "outputs": [
    {
     "data": {
      "text/html": [
       "0.498746825383482"
      ],
      "text/latex": [
       "0.498746825383482"
      ],
      "text/markdown": [
       "0.498746825383482"
      ],
      "text/plain": [
       "[1] 0.4987468"
      ]
     },
     "metadata": {},
     "output_type": "display_data"
    }
   ],
   "source": [
    "# predicted mean lgd given no-cure\n",
    "mean(train[train['res_sold']==1,][,'predicted_loss'])"
   ]
  },
  {
   "cell_type": "code",
   "execution_count": 1759,
   "metadata": {},
   "outputs": [
    {
     "data": {
      "image/png": "[encoded data removed]",
      "text/plain": [
       "plot without title"
      ]
     },
     "metadata": {
      "image/png": {
       "height": 420,
       "width": 420
      }
     },
     "output_type": "display_data"
    }
   ],
   "source": [
    "ggplot()+\n",
    "    geom_line(data=train,aes(y=predicted_loss,x=id),size=1 ) +\n",
    "    geom_point(data=train,aes(y=lgd_time,x=id),size=1)"
   ]
  },
  {
   "cell_type": "code",
   "execution_count": null,
   "metadata": {},
   "outputs": [],
   "source": [
    "# The model does not seem to accurately capture lgd of cured accounts;\n",
    "# However because of relatively small percentage of cured accounts the model quite well captures lgd of non-cured accounts"
   ]
  },
  {
   "cell_type": "markdown",
   "metadata": {},
   "source": [
    "### Beta Regression"
   ]
  },
  {
   "cell_type": "code",
   "execution_count": 2044,
   "metadata": {},
   "outputs": [],
   "source": [
    "# filtering loans that defaulted\n",
    "data_modelling <- subset(data, (data[,\"status_time\"] == 1))"
   ]
  },
  {
   "cell_type": "code",
   "execution_count": 2045,
   "metadata": {},
   "outputs": [],
   "source": [
    "# A loan that deafaulted and was not cured (resolution)\n",
    "data_modelling$res_sold <- 1"
   ]
  },
  {
   "cell_type": "code",
   "execution_count": 2046,
   "metadata": {},
   "outputs": [],
   "source": [
    "# A loan that deafaulted and was cured (no resolution)\n",
    "data_modelling$res_sold[is.na(data_modelling[,\"res_time\"])] <- 0"
   ]
  },
  {
   "cell_type": "code",
   "execution_count": 2047,
   "metadata": {},
   "outputs": [],
   "source": [
    "# Beta distribution is defined within the interval (0,1), because of that lgds values, which are not within this interval are changed\n",
    "# new variable (lgd_new) with changed lgd is created \n",
    "data_modelling <- data_modelling %>%\n",
    "dplyr::mutate(lgd_new= ifelse(lgd_time>=1,0.9999,\n",
    "no=ifelse(lgd_time<=0,0.0001,lgd_time)))"
   ]
  },
  {
   "cell_type": "code",
   "execution_count": 2048,
   "metadata": {},
   "outputs": [
    {
     "data": {
      "image/png": "[encoded data removed]",
      "text/plain": [
       "Plot with title \"Histogram of data_modelling$lgd_new\""
      ]
     },
     "metadata": {
      "image/png": {
       "height": 420,
       "width": 420
      }
     },
     "output_type": "display_data"
    }
   ],
   "source": [
    "hist(data_modelling$lgd_new)"
   ]
  },
  {
   "cell_type": "code",
   "execution_count": 2049,
   "metadata": {},
   "outputs": [],
   "source": [
    "# selecting predictors and dependent variable(lgd_time)\n",
    "data_modelling <- dplyr::select(data_modelling, 2:8,14:16,18:20,22,27:31)"
   ]
  },
  {
   "cell_type": "code",
   "execution_count": 2050,
   "metadata": {},
   "outputs": [],
   "source": [
    "# deleting resolution timestamp and resolution amount\n",
    "data_modelling <- data_modelling[,-c(5,16)]"
   ]
  },
  {
   "cell_type": "code",
   "execution_count": 2051,
   "metadata": {},
   "outputs": [
    {
     "name": "stdout",
     "output_type": "stream",
     "text": [
      "'data.frame':\t1525 obs. of  17 variables:\n",
      " $ time               : int  37 37 40 31 31 33 31 32 42 41 ...\n",
      " $ orig_time          : int  18 25 21 21 23 27 26 27 27 28 ...\n",
      " $ first_time         : int  25 33 25 25 26 28 28 32 32 32 ...\n",
      " $ mat_time           : int  138 141 141 142 143 147 147 148 148 228 ...\n",
      " $ balance_time       : num  130140 127859 84387 227000 223885 ...\n",
      " $ LTV_time           : num  99.1 101.4 102.6 67.5 87.2 ...\n",
      " $ REtype_CO_orig_time: int  0 0 0 0 0 1 0 0 0 0 ...\n",
      " $ REtype_PU_orig_time: int  0 0 0 0 0 0 0 0 0 0 ...\n",
      " $ REtype_SF_orig_time: int  1 1 1 1 1 0 1 1 1 1 ...\n",
      " $ balance_orig_time  : num  128000 129500 88000 227000 227200 ...\n",
      " $ FICO_orig_time     : int  501 536 556 622 630 613 605 596 633 587 ...\n",
      " $ LTV_orig_time      : num  80 69.6 80 64.9 80 80 80 71.1 90 80 ...\n",
      " $ state_orig_time    : chr  \"GA\" \"FL\" \"OH\" \"NY\" ...\n",
      " $ lgd_time           : num  0.00784 0 0 0 0.88392 ...\n",
      " $ mat_diff           : int  120 116 120 121 120 120 121 121 121 200 ...\n",
      " $ res_sold           : num  0 0 0 0 1 1 1 0 1 0 ...\n",
      " $ lgd_new            : num  0.00784 0.0001 0.0001 0.0001 0.88392 ...\n"
     ]
    }
   ],
   "source": [
    "str(data_modelling)"
   ]
  },
  {
   "cell_type": "code",
   "execution_count": 2052,
   "metadata": {},
   "outputs": [],
   "source": [
    "# deleting row with NA observation\n",
    "data_modelling <- data_modelling[!is.na(data_modelling['LTV_time']),]"
   ]
  },
  {
   "cell_type": "code",
   "execution_count": 2053,
   "metadata": {},
   "outputs": [],
   "source": [
    "# changing variables types\n",
    "data_modelling[colnames(data_modelling[,c(7:9)])] <- lapply(data_modelling[colnames(data_modelling[,c(7:9)])], factor)"
   ]
  },
  {
   "cell_type": "code",
   "execution_count": 2054,
   "metadata": {},
   "outputs": [],
   "source": [
    "data_modelling$res_sold <- as.factor(data_modelling$res_sold)"
   ]
  },
  {
   "cell_type": "code",
   "execution_count": 2055,
   "metadata": {},
   "outputs": [],
   "source": [
    "data_modelling$state_orig_time <- as.factor(data_modelling$state_orig_time)"
   ]
  },
  {
   "cell_type": "code",
   "execution_count": 2056,
   "metadata": {},
   "outputs": [],
   "source": [
    "set.seed(101) "
   ]
  },
  {
   "cell_type": "code",
   "execution_count": 2057,
   "metadata": {},
   "outputs": [],
   "source": [
    "train_index <- caret::createDataPartition(data_modelling$res_sold, p = .7, list = FALSE)"
   ]
  },
  {
   "cell_type": "code",
   "execution_count": 2058,
   "metadata": {},
   "outputs": [],
   "source": [
    "train <- data_modelling[ train_index,]\n",
    "test <- data_modelling[-train_index,]"
   ]
  },
  {
   "cell_type": "code",
   "execution_count": 2059,
   "metadata": {},
   "outputs": [],
   "source": [
    "fit_beta <- betareg(lgd_new ~ LTV_time+time+state_orig_time, data = train)"
   ]
  },
  {
   "cell_type": "code",
   "execution_count": 2060,
   "metadata": {},
   "outputs": [
    {
     "data": {
      "text/plain": [
       "\n",
       "Call:\n",
       "betareg(formula = lgd_new ~ LTV_time + time + state_orig_time, data = train)\n",
       "\n",
       "Standardized weighted residuals:\n",
       "    Min      1Q  Median      3Q     Max \n",
       "-2.3218 -0.3445  0.1631  0.4703  2.3215 \n",
       "\n",
       "Coefficients (mean model with logit link):\n",
       "                   Estimate Std. Error z value Pr(>|z|)    \n",
       "(Intercept)        0.708776   0.728103   0.973 0.330327    \n",
       "LTV_time           0.013168   0.002095   6.285 3.27e-10 ***\n",
       "time              -0.019205   0.004986  -3.851 0.000117 ***\n",
       "state_orig_timeAK -1.954331   1.392845  -1.403 0.160581    \n",
       "state_orig_timeAL -1.683873   0.853674  -1.973 0.048552 *  \n",
       "state_orig_timeAR -1.777007   1.171794  -1.516 0.129397    \n",
       "state_orig_timeAZ -1.418914   0.751445  -1.888 0.058993 .  \n",
       "state_orig_timeCA -1.615909   0.727679  -2.221 0.026376 *  \n",
       "state_orig_timeCO -1.923784   0.784423  -2.452 0.014187 *  \n",
       "state_orig_timeCT -2.032892   0.889868  -2.284 0.022343 *  \n",
       "state_orig_timeDC -2.394691   0.997383  -2.401 0.016351 *  \n",
       "state_orig_timeDE -1.972123   1.146924  -1.719 0.085525 .  \n",
       "state_orig_timeFL -1.303251   0.729901  -1.786 0.074177 .  \n",
       "state_orig_timeGA -1.592386   0.750207  -2.123 0.033788 *  \n",
       "state_orig_timeHI -1.509684   0.864612  -1.746 0.080797 .  \n",
       "state_orig_timeIA -2.176349   0.965180  -2.255 0.024142 *  \n",
       "state_orig_timeID -1.612823   1.188565  -1.357 0.174797    \n",
       "state_orig_timeIL -0.956978   0.746961  -1.281 0.200137    \n",
       "state_orig_timeIN -1.204858   0.781174  -1.542 0.122984    \n",
       "state_orig_timeKS -1.403074   1.052365  -1.333 0.182447    \n",
       "state_orig_timeKY -2.125040   0.961154  -2.211 0.027041 *  \n",
       "state_orig_timeLA -1.799803   0.819004  -2.198 0.027981 *  \n",
       "state_orig_timeMA -2.014051   0.791266  -2.545 0.010917 *  \n",
       "state_orig_timeMD -1.734959   0.759067  -2.286 0.022275 *  \n",
       "state_orig_timeME -0.060953   0.941489  -0.065 0.948380    \n",
       "state_orig_timeMI -0.755447   0.756587  -0.998 0.318041    \n",
       "state_orig_timeMN -1.770120   0.777104  -2.278 0.022736 *  \n",
       "state_orig_timeMO -1.514620   0.779025  -1.944 0.051865 .  \n",
       "state_orig_timeMS -0.791088   0.925976  -0.854 0.392923    \n",
       "state_orig_timeNC -2.340647   0.768758  -3.045 0.002329 ** \n",
       "state_orig_timeNE -2.472323   1.112622  -2.222 0.026279 *  \n",
       "state_orig_timeNH -1.024393   1.051940  -0.974 0.330149    \n",
       "state_orig_timeNJ -1.889885   0.773377  -2.444 0.014538 *  \n",
       "state_orig_timeNM -1.930234   1.023322  -1.886 0.059262 .  \n",
       "state_orig_timeNV -1.331637   0.753385  -1.768 0.077138 .  \n",
       "state_orig_timeNY -2.367295   0.750800  -3.153 0.001616 ** \n",
       "state_orig_timeOH -0.633332   0.749787  -0.845 0.398288    \n",
       "state_orig_timeOK -0.489092   0.887415  -0.551 0.581536    \n",
       "state_orig_timeOR -1.771422   0.806425  -2.197 0.028046 *  \n",
       "state_orig_timePA -2.278293   0.780043  -2.921 0.003492 ** \n",
       "state_orig_timePR -2.592369   0.975269  -2.658 0.007858 ** \n",
       "state_orig_timeSC -1.478644   0.833391  -1.774 0.076022 .  \n",
       "state_orig_timeTN -1.638238   0.799747  -2.048 0.040516 *  \n",
       "state_orig_timeTX -1.464324   0.748786  -1.956 0.050513 .  \n",
       "state_orig_timeUT -2.115493   0.852311  -2.482 0.013062 *  \n",
       "state_orig_timeVA -1.780710   0.764114  -2.330 0.019784 *  \n",
       "state_orig_timeWA -2.055644   0.758459  -2.710 0.006722 ** \n",
       "state_orig_timeWI -0.871969   0.872503  -0.999 0.317607    \n",
       "state_orig_timeWV -2.091764   1.031121  -2.029 0.042496 *  \n",
       "state_orig_timeWY -3.175692   1.344240  -2.362 0.018155 *  \n",
       "\n",
       "Phi coefficients (precision model with identity link):\n",
       "      Estimate Std. Error z value Pr(>|z|)    \n",
       "(phi)  0.69547    0.02391   29.09   <2e-16 ***\n",
       "---\n",
       "Signif. codes:  0 '***' 0.001 '**' 0.01 '*' 0.05 '.' 0.1 ' ' 1 \n",
       "\n",
       "Type of estimator: ML (maximum likelihood)\n",
       "Log-likelihood:  1197 on 51 Df\n",
       "Pseudo R-squared: 0.1484\n",
       "Number of iterations: 60 (BFGS) + 3 (Fisher scoring) "
      ]
     },
     "metadata": {},
     "output_type": "display_data"
    }
   ],
   "source": [
    "# different types of residuals can be used \n",
    "summary(fit_beta, type = 'sweighted')"
   ]
  },
  {
   "cell_type": "code",
   "execution_count": 1778,
   "metadata": {},
   "outputs": [],
   "source": [
    "train <- tibble::rowid_to_column(train, \"id\")"
   ]
  },
  {
   "cell_type": "code",
   "execution_count": 1779,
   "metadata": {},
   "outputs": [],
   "source": [
    "beta_predicted <- predict(fit_beta, newdata = train)"
   ]
  },
  {
   "cell_type": "code",
   "execution_count": 1780,
   "metadata": {},
   "outputs": [],
   "source": [
    "train$predicted_loss <- beta_predicted"
   ]
  },
  {
   "cell_type": "code",
   "execution_count": 1781,
   "metadata": {},
   "outputs": [
    {
     "data": {
      "image/png": "[encoded data removed]",
      "text/plain": [
       "plot without title"
      ]
     },
     "metadata": {
      "image/png": {
       "height": 420,
       "width": 420
      }
     },
     "output_type": "display_data"
    }
   ],
   "source": [
    "ggplot()+\n",
    "    geom_line(data=train,aes(y=predicted_loss,x=id),size=1) +\n",
    "    geom_point(data=train,aes(y=lgd_new,x=id),size=1)"
   ]
  },
  {
   "cell_type": "code",
   "execution_count": null,
   "metadata": {},
   "outputs": [],
   "source": [
    "# The variability of model's prediction is much greater comparing to tobit model\n",
    "# The pseudo R-squared is still very low"
   ]
  },
  {
   "cell_type": "markdown",
   "metadata": {},
   "source": [
    "### Mitxure-model Approach"
   ]
  },
  {
   "cell_type": "code",
   "execution_count": 2007,
   "metadata": {},
   "outputs": [],
   "source": [
    "# filtering loans that defaulted\n",
    "data_modelling <- subset(data, (data[,\"status_time\"] == 1))"
   ]
  },
  {
   "cell_type": "code",
   "execution_count": 2008,
   "metadata": {},
   "outputs": [],
   "source": [
    "# A loan that deafaulted and was not cured (resolution)\n",
    "data_modelling$res_sold <- 1"
   ]
  },
  {
   "cell_type": "code",
   "execution_count": 2009,
   "metadata": {},
   "outputs": [],
   "source": [
    "# A loan that deafaulted and was cured (no resolution)\n",
    "data_modelling$res_sold[is.na(data_modelling[,\"res_time\"])] <- 0"
   ]
  },
  {
   "cell_type": "code",
   "execution_count": 2010,
   "metadata": {},
   "outputs": [],
   "source": [
    "# selecting predictors and dependent variable(lgd_time)\n",
    "data_modelling <- dplyr::select(data_modelling, 2:8,14:16,18:20,22,27:30)"
   ]
  },
  {
   "cell_type": "code",
   "execution_count": 2011,
   "metadata": {},
   "outputs": [],
   "source": [
    "# deleting resolution timestamp and resolution amount\n",
    "data_modelling <- data_modelling[,-c(5,16)]"
   ]
  },
  {
   "cell_type": "code",
   "execution_count": 2012,
   "metadata": {},
   "outputs": [
    {
     "name": "stdout",
     "output_type": "stream",
     "text": [
      "'data.frame':\t1525 obs. of  16 variables:\n",
      " $ time               : int  37 37 40 31 31 33 31 32 42 41 ...\n",
      " $ orig_time          : int  18 25 21 21 23 27 26 27 27 28 ...\n",
      " $ first_time         : int  25 33 25 25 26 28 28 32 32 32 ...\n",
      " $ mat_time           : int  138 141 141 142 143 147 147 148 148 228 ...\n",
      " $ balance_time       : num  130140 127859 84387 227000 223885 ...\n",
      " $ LTV_time           : num  99.1 101.4 102.6 67.5 87.2 ...\n",
      " $ REtype_CO_orig_time: int  0 0 0 0 0 1 0 0 0 0 ...\n",
      " $ REtype_PU_orig_time: int  0 0 0 0 0 0 0 0 0 0 ...\n",
      " $ REtype_SF_orig_time: int  1 1 1 1 1 0 1 1 1 1 ...\n",
      " $ balance_orig_time  : num  128000 129500 88000 227000 227200 ...\n",
      " $ FICO_orig_time     : int  501 536 556 622 630 613 605 596 633 587 ...\n",
      " $ LTV_orig_time      : num  80 69.6 80 64.9 80 80 80 71.1 90 80 ...\n",
      " $ state_orig_time    : chr  \"GA\" \"FL\" \"OH\" \"NY\" ...\n",
      " $ lgd_time           : num  0.00784 0 0 0 0.88392 ...\n",
      " $ mat_diff           : int  120 116 120 121 120 120 121 121 121 200 ...\n",
      " $ res_sold           : num  0 0 0 0 1 1 1 0 1 0 ...\n"
     ]
    }
   ],
   "source": [
    "str(data_modelling)"
   ]
  },
  {
   "cell_type": "code",
   "execution_count": 2013,
   "metadata": {},
   "outputs": [],
   "source": [
    "# deleting row with NA observation\n",
    "data_modelling <- data_modelling[!is.na(data_modelling['LTV_time']),]"
   ]
  },
  {
   "cell_type": "code",
   "execution_count": 2014,
   "metadata": {},
   "outputs": [],
   "source": [
    "# changing variables types\n",
    "data_modelling[colnames(data_modelling[,c(7:9)])] <- lapply(data_modelling[colnames(data_modelling[,c(7:9)])], factor)"
   ]
  },
  {
   "cell_type": "code",
   "execution_count": 2015,
   "metadata": {},
   "outputs": [],
   "source": [
    "data_modelling$res_sold <- as.factor(data_modelling$res_sold)"
   ]
  },
  {
   "cell_type": "code",
   "execution_count": 2016,
   "metadata": {},
   "outputs": [],
   "source": [
    "data_modelling$state_orig_time <- as.factor(data_modelling$state_orig_time)"
   ]
  },
  {
   "cell_type": "code",
   "execution_count": 2017,
   "metadata": {},
   "outputs": [],
   "source": [
    "# dummy variable lgd_1\n",
    "# lgd_1 = 1, if lgd was 100% or more\n",
    "data_modelling$lgd_1<-dplyr::if_else(data_modelling$lgd_time >= 1,1,0)"
   ]
  },
  {
   "cell_type": "code",
   "execution_count": 2018,
   "metadata": {},
   "outputs": [],
   "source": [
    "# dummy variable lgd_0\n",
    "# lgd_0 = 1, if lgd was 0% or less\n",
    "data_modelling$lgd_0<-dplyr::if_else(data_modelling$lgd_time <= 0,1,0)"
   ]
  },
  {
   "cell_type": "code",
   "execution_count": 2019,
   "metadata": {},
   "outputs": [],
   "source": [
    "# dummy variable lgd_diff\n",
    "# lgd_diff = 1, if lgd was in interval (0,1)\n",
    "data_modelling$lgd_diff<-dplyr::if_else(data_modelling$lgd_time < 1 & data_modelling$lgd_time > 0,1,0)"
   ]
  },
  {
   "cell_type": "code",
   "execution_count": 2020,
   "metadata": {},
   "outputs": [],
   "source": [
    "# changing variables types\n",
    "data_modelling[colnames(data_modelling[,c(17:19)])] <- lapply(data_modelling[colnames(data_modelling[,c(17:19)])], factor)"
   ]
  },
  {
   "cell_type": "code",
   "execution_count": 2021,
   "metadata": {},
   "outputs": [],
   "source": [
    "set.seed(101) "
   ]
  },
  {
   "cell_type": "code",
   "execution_count": 2022,
   "metadata": {},
   "outputs": [],
   "source": [
    "train_index <- caret::createDataPartition(data_modelling$lgd_time, p = .7, list = FALSE)"
   ]
  },
  {
   "cell_type": "code",
   "execution_count": 2023,
   "metadata": {},
   "outputs": [],
   "source": [
    "train <- data_modelling[ train_index,]\n",
    "test <- data_modelling[-train_index,]"
   ]
  },
  {
   "cell_type": "code",
   "execution_count": 2024,
   "metadata": {},
   "outputs": [],
   "source": [
    "lgd_da_1 <- ctree(lgd_time~lgd_1,data=train,maxdepth = 1)"
   ]
  },
  {
   "cell_type": "code",
   "execution_count": 2025,
   "metadata": {},
   "outputs": [
    {
     "data": {
      "image/png": "[encoded data removed]",
      "text/plain": [
       "plot without title"
      ]
     },
     "metadata": {
      "image/png": {
       "height": 420,
       "width": 420
      }
     },
     "output_type": "display_data"
    }
   ],
   "source": [
    "plot(lgd_da_1)"
   ]
  },
  {
   "cell_type": "code",
   "execution_count": 2026,
   "metadata": {},
   "outputs": [],
   "source": [
    "# modelling lgd => 1\n",
    "lgd_da_2 <- ctree(lgd_time ~ .-res_sold-lgd_1-lgd_0-lgd_diff, data=train, subset = predict(lgd_da_1, type = 'node') == 3)"
   ]
  },
  {
   "cell_type": "code",
   "execution_count": 2027,
   "metadata": {},
   "outputs": [
    {
     "data": {
      "image/png": "[encoded data removed]",
      "text/plain": [
       "plot without title"
      ]
     },
     "metadata": {
      "image/png": {
       "height": 420,
       "width": 420
      }
     },
     "output_type": "display_data"
    }
   ],
   "source": [
    "plot(lgd_da_2)"
   ]
  },
  {
   "cell_type": "code",
   "execution_count": 2028,
   "metadata": {},
   "outputs": [],
   "source": [
    "# modelling lgd <= 1"
   ]
  },
  {
   "cell_type": "code",
   "execution_count": 2029,
   "metadata": {},
   "outputs": [],
   "source": [
    "lgd_da_3 <- ctree(lgd_time ~ lgd_0, data=train, subset = predict(lgd_da_1, type = 'node') == 2)"
   ]
  },
  {
   "cell_type": "code",
   "execution_count": 2030,
   "metadata": {},
   "outputs": [
    {
     "data": {
      "image/png": "[encoded data removed]",
      "text/plain": [
       "plot without title"
      ]
     },
     "metadata": {
      "image/png": {
       "height": 420,
       "width": 420
      }
     },
     "output_type": "display_data"
    }
   ],
   "source": [
    "plot(lgd_da_3)"
   ]
  },
  {
   "cell_type": "code",
   "execution_count": 2031,
   "metadata": {},
   "outputs": [],
   "source": [
    "# In node 3 all lgd = 0 "
   ]
  },
  {
   "cell_type": "code",
   "execution_count": 2032,
   "metadata": {},
   "outputs": [],
   "source": [
    "lgd_da_4 <- ctree(lgd_time ~ lgd_diff, data = train)"
   ]
  },
  {
   "cell_type": "code",
   "execution_count": 2033,
   "metadata": {},
   "outputs": [
    {
     "data": {
      "image/png": "[encoded data removed]",
      "text/plain": [
       "plot without title"
      ]
     },
     "metadata": {
      "image/png": {
       "height": 420,
       "width": 420
      }
     },
     "output_type": "display_data"
    }
   ],
   "source": [
    "plot(lgd_da_4)"
   ]
  },
  {
   "cell_type": "code",
   "execution_count": 2034,
   "metadata": {},
   "outputs": [],
   "source": [
    "lgd_da_5 <- ctree(lgd_time ~ .-res_sold-lgd_1-lgd_0-lgd_diff-state_orig_time, data=train, subset = predict(lgd_da_4, type = 'node') == 3)"
   ]
  },
  {
   "cell_type": "code",
   "execution_count": 2035,
   "metadata": {},
   "outputs": [
    {
     "data": {
      "image/png": "[encoded data removed]",
      "text/plain": [
       "plot without title"
      ]
     },
     "metadata": {
      "image/png": {
       "height": 420,
       "width": 420
      }
     },
     "output_type": "display_data"
    }
   ],
   "source": [
    "plot(lgd_da_5)"
   ]
  },
  {
   "cell_type": "code",
   "execution_count": 2036,
   "metadata": {},
   "outputs": [],
   "source": [
    "# fitting beta regression for observations in the lgd interval (0,1)"
   ]
  },
  {
   "cell_type": "code",
   "execution_count": 2042,
   "metadata": {},
   "outputs": [],
   "source": [
    "fit_beta <- betareg(lgd_time ~ LTV_time+time+state_orig_time, data=train, subset = predict(lgd_da_4, type = 'node') == 3)"
   ]
  },
  {
   "cell_type": "code",
   "execution_count": 2043,
   "metadata": {},
   "outputs": [
    {
     "data": {
      "text/plain": [
       "\n",
       "Call:\n",
       "betareg(formula = lgd_time ~ LTV_time + time + state_orig_time, data = train, \n",
       "    subset = predict(lgd_da_4, type = \"node\") == 3)\n",
       "\n",
       "Standardized weighted residuals:\n",
       "    Min      1Q  Median      3Q     Max \n",
       "-5.5314 -0.4697  0.0786  0.5784  3.4244 \n",
       "\n",
       "Coefficients (mean model with logit link):\n",
       "                   Estimate Std. Error z value Pr(>|z|)    \n",
       "(Intercept)       -0.152519   0.538489  -0.283  0.77700    \n",
       "LTV_time           0.010184   0.002215   4.597 4.29e-06 ***\n",
       "time              -0.015420   0.005875  -2.625  0.00868 ** \n",
       "state_orig_timeAK -2.176396   1.170689  -1.859  0.06302 .  \n",
       "state_orig_timeAL  0.250856   0.644174   0.389  0.69696    \n",
       "state_orig_timeAR -2.087682   1.174525  -1.777  0.07549 .  \n",
       "state_orig_timeAZ  0.011571   0.539830   0.021  0.98290    \n",
       "state_orig_timeCA -0.216788   0.518855  -0.418  0.67608    \n",
       "state_orig_timeCO -0.663616   0.571016  -1.162  0.24517    \n",
       "state_orig_timeCT -1.381530   0.735054  -1.879  0.06018 .  \n",
       "state_orig_timeDC  1.252745   1.171735   1.069  0.28501    \n",
       "state_orig_timeDE  0.753726   1.172638   0.643  0.52038    \n",
       "state_orig_timeFL  0.279222   0.525406   0.531  0.59511    \n",
       "state_orig_timeGA -0.581503   0.542695  -1.072  0.28394    \n",
       "state_orig_timeHI  0.315392   0.646781   0.488  0.62581    \n",
       "state_orig_timeID -0.229027   0.785059  -0.292  0.77049    \n",
       "state_orig_timeIL -0.127400   0.556680  -0.229  0.81898    \n",
       "state_orig_timeIN -0.390480   0.591294  -0.660  0.50901    \n",
       "state_orig_timeKS -0.707599   1.144601  -0.618  0.53644    \n",
       "state_orig_timeKY  0.255988   0.723940   0.354  0.72364    \n",
       "state_orig_timeLA -0.557742   0.618239  -0.902  0.36698    \n",
       "state_orig_timeMA -0.416257   0.685489  -0.607  0.54369    \n",
       "state_orig_timeMD -0.076261   0.567488  -0.134  0.89310    \n",
       "state_orig_timeME -0.246881   0.779888  -0.317  0.75158    \n",
       "state_orig_timeMI -0.180464   0.553915  -0.326  0.74458    \n",
       "state_orig_timeMN -0.311771   0.572523  -0.545  0.58606    \n",
       "state_orig_timeMO  0.142352   0.582055   0.245  0.80679    \n",
       "state_orig_timeMS -0.288168   0.724545  -0.398  0.69084    \n",
       "state_orig_timeMT -0.307298   1.141827  -0.269  0.78783    \n",
       "state_orig_timeNC -1.113893   0.644459  -1.728  0.08391 .  \n",
       "state_orig_timeNE -0.933250   1.153296  -0.809  0.41840    \n",
       "state_orig_timeNH -0.394357   0.884755  -0.446  0.65580    \n",
       "state_orig_timeNJ -0.665125   0.629058  -1.057  0.29036    \n",
       "state_orig_timeNM -0.311702   0.884513  -0.352  0.72454    \n",
       "state_orig_timeNV  0.021319   0.540175   0.039  0.96852    \n",
       "state_orig_timeNY -0.903144   0.578157  -1.562  0.11826    \n",
       "state_orig_timeOH  0.274284   0.563491   0.487  0.62643    \n",
       "state_orig_timeOK -0.419638   0.782453  -0.536  0.59174    \n",
       "state_orig_timeOR -0.504273   0.599879  -0.841  0.40056    \n",
       "state_orig_timePA -0.510504   0.660495  -0.773  0.43958    \n",
       "state_orig_timeRI -0.670417   1.144239  -0.586  0.55794    \n",
       "state_orig_timeSC  0.185540   0.645168   0.288  0.77367    \n",
       "state_orig_timeTN -0.538869   0.660036  -0.816  0.41426    \n",
       "state_orig_timeTX -0.558503   0.540378  -1.034  0.30135    \n",
       "state_orig_timeUT -0.675029   0.724874  -0.931  0.35173    \n",
       "state_orig_timeVA -0.395474   0.562995  -0.702  0.48240    \n",
       "state_orig_timeWA -0.548078   0.562431  -0.974  0.32982    \n",
       "state_orig_timeWI -0.682802   0.726315  -0.940  0.34717    \n",
       "state_orig_timeWV  0.508783   0.891983   0.570  0.56841    \n",
       "\n",
       "Phi coefficients (precision model with identity link):\n",
       "      Estimate Std. Error z value Pr(>|z|)    \n",
       "(phi)    2.614      0.117   22.34   <2e-16 ***\n",
       "---\n",
       "Signif. codes:  0 '***' 0.001 '**' 0.01 '*' 0.05 '.' 0.1 ' ' 1 \n",
       "\n",
       "Type of estimator: ML (maximum likelihood)\n",
       "Log-likelihood: 63.32 on 50 Df\n",
       "Pseudo R-squared: 0.133\n",
       "Number of iterations: 59 (BFGS) + 2 (Fisher scoring) "
      ]
     },
     "metadata": {},
     "output_type": "display_data"
    }
   ],
   "source": [
    "# different types of residuals can be used \n",
    "summary(fit_beta, type = 'sweighted')"
   ]
  },
  {
   "cell_type": "code",
   "execution_count": 1966,
   "metadata": {},
   "outputs": [],
   "source": [
    "test_lgd_diff <- test[test['lgd_diff']==1,]"
   ]
  },
  {
   "cell_type": "code",
   "execution_count": 1967,
   "metadata": {},
   "outputs": [],
   "source": [
    "test_lgd_diff <- tibble::rowid_to_column(test_lgd_diff, \"id\")"
   ]
  },
  {
   "cell_type": "code",
   "execution_count": 1968,
   "metadata": {},
   "outputs": [],
   "source": [
    "beta_predicted <- predict(fit_beta, newdata = test_lgd_diff)"
   ]
  },
  {
   "cell_type": "code",
   "execution_count": 1970,
   "metadata": {},
   "outputs": [],
   "source": [
    "test_lgd_diff$predicted_loss <- beta_predicted"
   ]
  },
  {
   "cell_type": "code",
   "execution_count": 1972,
   "metadata": {},
   "outputs": [
    {
     "data": {
      "image/png": "[encoded data removed]",
      "text/plain": [
       "plot without title"
      ]
     },
     "metadata": {
      "image/png": {
       "height": 420,
       "width": 420
      }
     },
     "output_type": "display_data"
    }
   ],
   "source": [
    "ggplot()+\n",
    "    geom_line(data=test_lgd_diff,aes(y=predicted_loss,x=id),size=1) +\n",
    "    geom_point(data=test_lgd_diff,aes(y=lgd_time,x=id),size=1)"
   ]
  },
  {
   "cell_type": "code",
   "execution_count": null,
   "metadata": {},
   "outputs": [],
   "source": [
    "# As it can be noticed comparing the results received using beta regression and mixture model(beta regression on the interval(0,1)), \n",
    "# the pseudo R-squared is better in the first model, which seems counterintuitve\n",
    "# The explanation can be that both models are not able to capture the results and in this case the pseudo R-squared is not appropriate metric to confirm models superiority"
   ]
  },
  {
   "cell_type": "markdown",
   "metadata": {},
   "source": [
    "### ML models"
   ]
  },
  {
   "cell_type": "markdown",
   "metadata": {},
   "source": [
    "#### Regression tree"
   ]
  },
  {
   "cell_type": "code",
   "execution_count": 2084,
   "metadata": {},
   "outputs": [],
   "source": [
    "# filtering loans that defaulted\n",
    "data_modelling <- subset(data, (data[,\"status_time\"] == 1))"
   ]
  },
  {
   "cell_type": "code",
   "execution_count": 2085,
   "metadata": {},
   "outputs": [],
   "source": [
    "# A loan that deafaulted and was not cured (resolution)\n",
    "data_modelling$res_sold <- 1"
   ]
  },
  {
   "cell_type": "code",
   "execution_count": 2086,
   "metadata": {},
   "outputs": [],
   "source": [
    "# A loan that deafaulted and was cured (no resolution)\n",
    "data_modelling$res_sold[is.na(data_modelling[,\"res_time\"])] <- 0"
   ]
  },
  {
   "cell_type": "code",
   "execution_count": 2087,
   "metadata": {},
   "outputs": [],
   "source": [
    "# selecting predictors and dependent variable(lgd_time)\n",
    "data_modelling <- dplyr::select(data_modelling, 2:8,14:16,18:20,22,27:30)"
   ]
  },
  {
   "cell_type": "code",
   "execution_count": 2089,
   "metadata": {},
   "outputs": [],
   "source": [
    "# deleting resolution timestamp and resolution amount\n",
    "data_modelling <- data_modelling[,-c(5,14,16)]"
   ]
  },
  {
   "cell_type": "code",
   "execution_count": 2090,
   "metadata": {},
   "outputs": [
    {
     "name": "stdout",
     "output_type": "stream",
     "text": [
      "'data.frame':\t1525 obs. of  15 variables:\n",
      " $ time               : int  37 37 40 31 31 33 31 32 42 41 ...\n",
      " $ orig_time          : int  18 25 21 21 23 27 26 27 27 28 ...\n",
      " $ first_time         : int  25 33 25 25 26 28 28 32 32 32 ...\n",
      " $ mat_time           : int  138 141 141 142 143 147 147 148 148 228 ...\n",
      " $ balance_time       : num  130140 127859 84387 227000 223885 ...\n",
      " $ LTV_time           : num  99.1 101.4 102.6 67.5 87.2 ...\n",
      " $ REtype_CO_orig_time: int  0 0 0 0 0 1 0 0 0 0 ...\n",
      " $ REtype_PU_orig_time: int  0 0 0 0 0 0 0 0 0 0 ...\n",
      " $ REtype_SF_orig_time: int  1 1 1 1 1 0 1 1 1 1 ...\n",
      " $ balance_orig_time  : num  128000 129500 88000 227000 227200 ...\n",
      " $ FICO_orig_time     : int  501 536 556 622 630 613 605 596 633 587 ...\n",
      " $ LTV_orig_time      : num  80 69.6 80 64.9 80 80 80 71.1 90 80 ...\n",
      " $ lgd_time           : num  0.00784 0 0 0 0.88392 ...\n",
      " $ mat_diff           : int  120 116 120 121 120 120 121 121 121 200 ...\n",
      " $ res_sold           : num  0 0 0 0 1 1 1 0 1 0 ...\n"
     ]
    }
   ],
   "source": [
    "str(data_modelling)"
   ]
  },
  {
   "cell_type": "code",
   "execution_count": 2091,
   "metadata": {},
   "outputs": [],
   "source": [
    "# deleting row with NA observation\n",
    "data_modelling <- data_modelling[!is.na(data_modelling['LTV_time']),]"
   ]
  },
  {
   "cell_type": "code",
   "execution_count": 2092,
   "metadata": {},
   "outputs": [],
   "source": [
    "# changing variables types\n",
    "data_modelling[colnames(data_modelling[,c(7:9)])] <- lapply(data_modelling[colnames(data_modelling[,c(7:9)])], factor)"
   ]
  },
  {
   "cell_type": "code",
   "execution_count": 2093,
   "metadata": {},
   "outputs": [],
   "source": [
    "data_modelling$res_sold <- as.factor(data_modelling$res_sold)"
   ]
  },
  {
   "cell_type": "code",
   "execution_count": 2094,
   "metadata": {},
   "outputs": [],
   "source": [
    "# data_modelling$state_orig_time <- as.factor(data_modelling$state_orig_time)"
   ]
  },
  {
   "cell_type": "code",
   "execution_count": 2096,
   "metadata": {},
   "outputs": [],
   "source": [
    "train_index <- caret::createDataPartition(data_modelling$res_sold, p = .7, list = FALSE)"
   ]
  },
  {
   "cell_type": "code",
   "execution_count": 2097,
   "metadata": {},
   "outputs": [],
   "source": [
    "train <- data_modelling[ train_index,]\n",
    "test <- data_modelling[-train_index,]"
   ]
  },
  {
   "cell_type": "code",
   "execution_count": 2098,
   "metadata": {},
   "outputs": [],
   "source": [
    "# Fitting regression tree\n",
    "lgd_reg_tree <- tree(lgd_time~.-res_sold, data=train)"
   ]
  },
  {
   "cell_type": "code",
   "execution_count": 2099,
   "metadata": {},
   "outputs": [
    {
     "data": {
      "text/plain": [
       "\n",
       "Regression tree:\n",
       "tree(formula = lgd_time ~ . - res_sold, data = train)\n",
       "Variables actually used in tree construction:\n",
       "[1] \"time\"              \"LTV_time\"          \"FICO_orig_time\"   \n",
       "[4] \"balance_time\"      \"balance_orig_time\"\n",
       "Number of terminal nodes:  7 \n",
       "Residual mean deviance:  0.1208 = 128 / 1060 \n",
       "Distribution of residuals:\n",
       "     Min.   1st Qu.    Median      Mean   3rd Qu.      Max. \n",
       "-0.836600 -0.306900 -0.002433  0.000000  0.255300  1.716000 "
      ]
     },
     "metadata": {},
     "output_type": "display_data"
    }
   ],
   "source": [
    "summary(lgd_reg_tree)"
   ]
  },
  {
   "cell_type": "code",
   "execution_count": 2106,
   "metadata": {},
   "outputs": [],
   "source": [
    "tree_predict_test <- predict(lgd_reg_tree, test)"
   ]
  },
  {
   "cell_type": "code",
   "execution_count": 2107,
   "metadata": {},
   "outputs": [],
   "source": [
    "rmse_lgd_reg_test <- sqrt(mean((tree_predict_test-test$lgd_time)^2))"
   ]
  },
  {
   "cell_type": "code",
   "execution_count": 2108,
   "metadata": {},
   "outputs": [
    {
     "name": "stdout",
     "output_type": "stream",
     "text": [
      "[1] 0.3667387\n"
     ]
    }
   ],
   "source": [
    "print(rmse_lgd_reg_test)"
   ]
  },
  {
   "cell_type": "code",
   "execution_count": 2109,
   "metadata": {},
   "outputs": [],
   "source": [
    "# tree pruning\n",
    "lgd_reg_tree_prune <- prune.tree(lgd_reg_tree, best=4)"
   ]
  },
  {
   "cell_type": "code",
   "execution_count": 2110,
   "metadata": {},
   "outputs": [
    {
     "data": {
      "text/plain": [
       "\n",
       "Regression tree:\n",
       "snip.tree(tree = lgd_reg_tree, nodes = c(11L, 4L))\n",
       "Variables actually used in tree construction:\n",
       "[1] \"time\"              \"LTV_time\"          \"balance_orig_time\"\n",
       "Number of terminal nodes:  4 \n",
       "Residual mean deviance:  0.1287 = 136.8 / 1063 \n",
       "Distribution of residuals:\n",
       "     Min.   1st Qu.    Median      Mean   3rd Qu.      Max. \n",
       "-0.836600 -0.306900  0.003013  0.000000  0.247200  1.716000 "
      ]
     },
     "metadata": {},
     "output_type": "display_data"
    }
   ],
   "source": [
    "summary(lgd_reg_tree_prune)"
   ]
  },
  {
   "cell_type": "code",
   "execution_count": 2111,
   "metadata": {},
   "outputs": [],
   "source": [
    "tree_predict_prune_test <- predict(lgd_reg_tree_prune, test)"
   ]
  },
  {
   "cell_type": "code",
   "execution_count": 2112,
   "metadata": {},
   "outputs": [],
   "source": [
    "rmse_prune_test <- sqrt(mean((tree_predict_prune_test-test$lgd_time)^2))"
   ]
  },
  {
   "cell_type": "code",
   "execution_count": 2113,
   "metadata": {},
   "outputs": [
    {
     "name": "stdout",
     "output_type": "stream",
     "text": [
      "[1] 0.3661421\n"
     ]
    }
   ],
   "source": [
    "print(rmse_prune_test)"
   ]
  },
  {
   "cell_type": "code",
   "execution_count": 2114,
   "metadata": {},
   "outputs": [
    {
     "data": {
      "image/png": "[encoded data removed]",
      "text/plain": [
       "plot without title"
      ]
     },
     "metadata": {
      "image/png": {
       "height": 420,
       "width": 420
      }
     },
     "output_type": "display_data"
    }
   ],
   "source": [
    "# Pruned tree LGD modelling with four nodes and three key variables\n",
    "plot(lgd_reg_tree_prune, \n",
    "    main=\"Classification Tree for Kyphosis\")\n",
    "    text(lgd_reg_tree_prune, all=TRUE, cex=.8)"
   ]
  },
  {
   "cell_type": "code",
   "execution_count": 2115,
   "metadata": {},
   "outputs": [
    {
     "data": {
      "image/png": "[encoded data removed]",
      "text/plain": [
       "plot without title"
      ]
     },
     "metadata": {
      "image/png": {
       "height": 420,
       "width": 420
      }
     },
     "output_type": "display_data"
    }
   ],
   "source": [
    "# The tree structure is such that, for a given tree leaf, all accounts have the same LGD.\n",
    "# This phenomenon is even more clear in the second graph, where the pruning process reduces the number of final nodes.\n",
    "plot(test$lgd_time, tree_predict_test)"
   ]
  },
  {
   "cell_type": "code",
   "execution_count": 2116,
   "metadata": {},
   "outputs": [
    {
     "data": {
      "image/png": "[encoded data removed]",
      "text/plain": [
       "plot without title"
      ]
     },
     "metadata": {
      "image/png": {
       "height": 420,
       "width": 420
      }
     },
     "output_type": "display_data"
    }
   ],
   "source": [
    "plot(test$lgd_time, tree_predict_prune_test)"
   ]
  },
  {
   "cell_type": "markdown",
   "metadata": {},
   "source": [
    "#### Random Forest"
   ]
  },
  {
   "cell_type": "code",
   "execution_count": 2117,
   "metadata": {},
   "outputs": [],
   "source": [
    "rf_lgd <- randomForest(lgd_time~.-res_sold, data=train,mtry=4, ntree=100, importance=TRUE, na.action=na.omit)"
   ]
  },
  {
   "cell_type": "code",
   "execution_count": 2118,
   "metadata": {},
   "outputs": [
    {
     "name": "stdout",
     "output_type": "stream",
     "text": [
      "\n",
      "Call:\n",
      " randomForest(formula = lgd_time ~ . - res_sold, data = train,      mtry = 4, ntree = 100, importance = TRUE, na.action = na.omit) \n",
      "               Type of random forest: regression\n",
      "                     Number of trees: 100\n",
      "No. of variables tried at each split: 4\n",
      "\n",
      "          Mean of squared residuals: 0.1338879\n",
      "                    % Var explained: 7.26\n"
     ]
    }
   ],
   "source": [
    "print(rf_lgd)"
   ]
  },
  {
   "cell_type": "code",
   "execution_count": 2119,
   "metadata": {},
   "outputs": [
    {
     "data": {
      "image/png": "[encoded data removed]",
      "text/plain": [
       "Plot with title \"rf_lgd\""
      ]
     },
     "metadata": {
      "image/png": {
       "height": 420,
       "width": 420
      }
     },
     "output_type": "display_data"
    }
   ],
   "source": [
    "# variable importance, type = 1 (IncMSE)\n",
    "varImpPlot(rf_lgd,type=1)"
   ]
  },
  {
   "cell_type": "code",
   "execution_count": 2120,
   "metadata": {},
   "outputs": [
    {
     "data": {
      "image/png": "[encoded data removed]",
      "text/plain": [
       "Plot with title \"rf_lgd\""
      ]
     },
     "metadata": {
      "image/png": {
       "height": 420,
       "width": 420
      }
     },
     "output_type": "display_data"
    }
   ],
   "source": [
    "# variable importance, type = 2 (IncNodePurity)\n",
    "varImpPlot(rf_lgd,type=2)"
   ]
  },
  {
   "cell_type": "code",
   "execution_count": 2121,
   "metadata": {},
   "outputs": [],
   "source": [
    "# predicting based on model\n",
    "yhat_rf_lgd_test <- predict(rf_lgd,newdata=test)"
   ]
  },
  {
   "cell_type": "code",
   "execution_count": null,
   "metadata": {},
   "outputs": [],
   "source": [
    "# As in case of Decision Trees, an optimal model would align fitted values on a 45-degree diagonal."
   ]
  },
  {
   "cell_type": "code",
   "execution_count": 2122,
   "metadata": {},
   "outputs": [
    {
     "data": {
      "image/png": "[encoded data removed]",
      "text/plain": [
       "plot without title"
      ]
     },
     "metadata": {
      "image/png": {
       "height": 420,
       "width": 420
      }
     },
     "output_type": "display_data"
    }
   ],
   "source": [
    "plot(test$lgd_time, yhat_rf_lgd_test)"
   ]
  },
  {
   "cell_type": "code",
   "execution_count": 2123,
   "metadata": {},
   "outputs": [],
   "source": [
    "rmse_lgd_reg_test <- sqrt(mean((yhat_rf_lgd_test-test$lgd_time)^2))"
   ]
  },
  {
   "cell_type": "markdown",
   "metadata": {},
   "source": [
    "#### Random Forest with Macroeconomic Variables"
   ]
  },
  {
   "cell_type": "code",
   "execution_count": 2164,
   "metadata": {},
   "outputs": [],
   "source": [
    "# filtering loans that defaulted\n",
    "data_modelling <- subset(data, (data[,\"status_time\"] == 1))"
   ]
  },
  {
   "cell_type": "code",
   "execution_count": 2165,
   "metadata": {},
   "outputs": [],
   "source": [
    "# A loan that deafaulted and was not cured (resolution)\n",
    "data_modelling$res_sold <- 1"
   ]
  },
  {
   "cell_type": "code",
   "execution_count": 2166,
   "metadata": {},
   "outputs": [],
   "source": [
    "# A loan that deafaulted and was cured (no resolution)\n",
    "data_modelling$res_sold[is.na(data_modelling[,\"res_time\"])] <- 0"
   ]
  },
  {
   "cell_type": "code",
   "execution_count": 2168,
   "metadata": {},
   "outputs": [],
   "source": [
    "# selecting predictors and dependent variable(res_sold)\n",
    "data_modelling <- dplyr::select(data_modelling, 2:23,27:30)"
   ]
  },
  {
   "cell_type": "code",
   "execution_count": 2171,
   "metadata": {},
   "outputs": [],
   "source": [
    "# deleting resolution timestamp and resolution amount\n",
    "data_modelling <- data_modelling[,-c(5,9,16,24)]"
   ]
  },
  {
   "cell_type": "code",
   "execution_count": 2172,
   "metadata": {},
   "outputs": [
    {
     "name": "stdout",
     "output_type": "stream",
     "text": [
      "'data.frame':\t1525 obs. of  22 variables:\n",
      " $ time                   : int  37 37 40 31 31 33 31 32 42 41 ...\n",
      " $ orig_time              : int  18 25 21 21 23 27 26 27 27 28 ...\n",
      " $ first_time             : int  25 33 25 25 26 28 28 32 32 32 ...\n",
      " $ mat_time               : int  138 141 141 142 143 147 147 148 148 228 ...\n",
      " $ balance_time           : num  130140 127859 84387 227000 223885 ...\n",
      " $ LTV_time               : num  99.1 101.4 102.6 67.5 87.2 ...\n",
      " $ interest_rate_time     : num  8 7 7.81 7.33 7.36 ...\n",
      " $ hpi_time               : num  153 153 156 201 201 ...\n",
      " $ gdp_time               : num  -4.15 -4.15 1.59 1.85 1.85 ...\n",
      " $ uer_time               : num  9 9 9.8 4.7 4.7 5 4.7 5 9.4 9.9 ...\n",
      " $ REtype_CO_orig_time    : int  0 0 0 0 0 1 0 0 0 0 ...\n",
      " $ REtype_PU_orig_time    : int  0 0 0 0 0 0 0 0 0 0 ...\n",
      " $ REtype_SF_orig_time    : int  1 1 1 1 1 0 1 1 1 1 ...\n",
      " $ balance_orig_time      : num  128000 129500 88000 227000 227200 ...\n",
      " $ FICO_orig_time         : int  501 536 556 622 630 613 605 596 633 587 ...\n",
      " $ LTV_orig_time          : num  80 69.6 80 64.9 80 80 80 71.1 90 80 ...\n",
      " $ Interest_Rate_orig_time: num  8 7.61 7.81 7.33 7.36 ...\n",
      " $ state_orig_time        : chr  \"GA\" \"FL\" \"OH\" \"NY\" ...\n",
      " $ hpi_orig_time          : num  187 226 209 209 222 ...\n",
      " $ lgd_time               : num  0.00784 0 0 0 0.88392 ...\n",
      " $ mat_diff               : int  120 116 120 121 120 120 121 121 121 200 ...\n",
      " $ res_sold               : num  0 0 0 0 1 1 1 0 1 0 ...\n"
     ]
    }
   ],
   "source": [
    "str(data_modelling)"
   ]
  },
  {
   "cell_type": "code",
   "execution_count": 2173,
   "metadata": {},
   "outputs": [],
   "source": [
    "# changing variables types\n",
    "data_modelling[colnames(data_modelling[,c(11:13)])] <- lapply(data_modelling[colnames(data_modelling[,c(11:13)])], factor)"
   ]
  },
  {
   "cell_type": "code",
   "execution_count": 2174,
   "metadata": {},
   "outputs": [],
   "source": [
    "data_modelling$state_orig_time <- as.factor(data_modelling$state_orig_time)"
   ]
  },
  {
   "cell_type": "code",
   "execution_count": 2175,
   "metadata": {},
   "outputs": [],
   "source": [
    "data_modelling$res_sold <- as.factor(data_modelling$res_sold)"
   ]
  },
  {
   "cell_type": "code",
   "execution_count": 2176,
   "metadata": {},
   "outputs": [],
   "source": [
    "# deleting row with NA observation\n",
    "data_modelling <- data_modelling[!is.na(data_modelling['LTV_time']),]"
   ]
  },
  {
   "cell_type": "code",
   "execution_count": 470,
   "metadata": {},
   "outputs": [],
   "source": [
    "# 1.2. Filter historical data set\n",
    "lgd_fwd_macro_sel <- lgd_fwd_macro_sel_all[1:430,]"
   ]
  },
  {
   "cell_type": "code",
   "execution_count": 2194,
   "metadata": {},
   "outputs": [
    {
     "data": {
      "image/png": "[encoded data removed]",
      "text/plain": [
       "plot without title"
      ]
     },
     "metadata": {
      "image/png": {
       "height": 420,
       "width": 420
      }
     },
     "output_type": "display_data"
    }
   ],
   "source": [
    "plot(lgd_fwd_macro_sel$tob,lgd_fwd_macro_sel$gdp)"
   ]
  },
  {
   "cell_type": "code",
   "execution_count": 2177,
   "metadata": {},
   "outputs": [],
   "source": [
    "set.seed(101)"
   ]
  },
  {
   "cell_type": "code",
   "execution_count": 2178,
   "metadata": {},
   "outputs": [],
   "source": [
    "train_index_macro <- caret::createDataPartition(data_modelling$res_sold, p = .7, list = FALSE)"
   ]
  },
  {
   "cell_type": "code",
   "execution_count": 2180,
   "metadata": {},
   "outputs": [],
   "source": [
    "train_macro <- data_modelling[ train_index_macro,]\n",
    "test_macro <- data_modelling[-train_index_macro,]"
   ]
  },
  {
   "cell_type": "code",
   "execution_count": 2182,
   "metadata": {},
   "outputs": [],
   "source": [
    "rf_lgd_macro <- randomForest(lgd_time~.-res_sold, data=train_macro, mtry=4, ntree=100, importance=TRUE, na.action=na.omit)"
   ]
  },
  {
   "cell_type": "code",
   "execution_count": 2186,
   "metadata": {},
   "outputs": [
    {
     "data": {
      "text/html": [
       "<table>\n",
       "<caption>A matrix: 20 × 1 of type dbl</caption>\n",
       "<thead>\n",
       "\t<tr><th></th><th scope=col>%IncMSE</th></tr>\n",
       "</thead>\n",
       "<tbody>\n",
       "\t<tr><th scope=row>time</th><td> 7.5307133</td></tr>\n",
       "\t<tr><th scope=row>orig_time</th><td> 3.7376516</td></tr>\n",
       "\t<tr><th scope=row>first_time</th><td> 3.8644040</td></tr>\n",
       "\t<tr><th scope=row>mat_time</th><td> 3.8913211</td></tr>\n",
       "\t<tr><th scope=row>balance_time</th><td> 4.7774241</td></tr>\n",
       "\t<tr><th scope=row>LTV_time</th><td> 5.9487279</td></tr>\n",
       "\t<tr><th scope=row>interest_rate_time</th><td> 4.8437196</td></tr>\n",
       "\t<tr><th scope=row>hpi_time</th><td> 4.2214767</td></tr>\n",
       "\t<tr><th scope=row>gdp_time</th><td> 3.2141573</td></tr>\n",
       "\t<tr><th scope=row>uer_time</th><td> 4.6072675</td></tr>\n",
       "\t<tr><th scope=row>REtype_CO_orig_time</th><td> 2.4941376</td></tr>\n",
       "\t<tr><th scope=row>REtype_PU_orig_time</th><td> 4.8781378</td></tr>\n",
       "\t<tr><th scope=row>REtype_SF_orig_time</th><td> 2.3475924</td></tr>\n",
       "\t<tr><th scope=row>balance_orig_time</th><td> 7.2679131</td></tr>\n",
       "\t<tr><th scope=row>FICO_orig_time</th><td> 4.6879808</td></tr>\n",
       "\t<tr><th scope=row>LTV_orig_time</th><td> 1.0596248</td></tr>\n",
       "\t<tr><th scope=row>Interest_Rate_orig_time</th><td> 3.6203180</td></tr>\n",
       "\t<tr><th scope=row>state_orig_time</th><td> 8.6082438</td></tr>\n",
       "\t<tr><th scope=row>hpi_orig_time</th><td> 6.0083212</td></tr>\n",
       "\t<tr><th scope=row>mat_diff</th><td>-0.2192367</td></tr>\n",
       "</tbody>\n",
       "</table>\n"
      ],
      "text/latex": [
       "A matrix: 20 × 1 of type dbl\n",
       "\\begin{tabular}{r|l}\n",
       "  & \\%IncMSE\\\\\n",
       "\\hline\n",
       "\ttime &  7.5307133\\\\\n",
       "\torig\\_time &  3.7376516\\\\\n",
       "\tfirst\\_time &  3.8644040\\\\\n",
       "\tmat\\_time &  3.8913211\\\\\n",
       "\tbalance\\_time &  4.7774241\\\\\n",
       "\tLTV\\_time &  5.9487279\\\\\n",
       "\tinterest\\_rate\\_time &  4.8437196\\\\\n",
       "\thpi\\_time &  4.2214767\\\\\n",
       "\tgdp\\_time &  3.2141573\\\\\n",
       "\tuer\\_time &  4.6072675\\\\\n",
       "\tREtype\\_CO\\_orig\\_time &  2.4941376\\\\\n",
       "\tREtype\\_PU\\_orig\\_time &  4.8781378\\\\\n",
       "\tREtype\\_SF\\_orig\\_time &  2.3475924\\\\\n",
       "\tbalance\\_orig\\_time &  7.2679131\\\\\n",
       "\tFICO\\_orig\\_time &  4.6879808\\\\\n",
       "\tLTV\\_orig\\_time &  1.0596248\\\\\n",
       "\tInterest\\_Rate\\_orig\\_time &  3.6203180\\\\\n",
       "\tstate\\_orig\\_time &  8.6082438\\\\\n",
       "\thpi\\_orig\\_time &  6.0083212\\\\\n",
       "\tmat\\_diff & -0.2192367\\\\\n",
       "\\end{tabular}\n"
      ],
      "text/markdown": [
       "\n",
       "A matrix: 20 × 1 of type dbl\n",
       "\n",
       "| <!--/--> | %IncMSE |\n",
       "|---|---|\n",
       "| time |  7.5307133 |\n",
       "| orig_time |  3.7376516 |\n",
       "| first_time |  3.8644040 |\n",
       "| mat_time |  3.8913211 |\n",
       "| balance_time |  4.7774241 |\n",
       "| LTV_time |  5.9487279 |\n",
       "| interest_rate_time |  4.8437196 |\n",
       "| hpi_time |  4.2214767 |\n",
       "| gdp_time |  3.2141573 |\n",
       "| uer_time |  4.6072675 |\n",
       "| REtype_CO_orig_time |  2.4941376 |\n",
       "| REtype_PU_orig_time |  4.8781378 |\n",
       "| REtype_SF_orig_time |  2.3475924 |\n",
       "| balance_orig_time |  7.2679131 |\n",
       "| FICO_orig_time |  4.6879808 |\n",
       "| LTV_orig_time |  1.0596248 |\n",
       "| Interest_Rate_orig_time |  3.6203180 |\n",
       "| state_orig_time |  8.6082438 |\n",
       "| hpi_orig_time |  6.0083212 |\n",
       "| mat_diff | -0.2192367 |\n",
       "\n"
      ],
      "text/plain": [
       "                        %IncMSE   \n",
       "time                     7.5307133\n",
       "orig_time                3.7376516\n",
       "first_time               3.8644040\n",
       "mat_time                 3.8913211\n",
       "balance_time             4.7774241\n",
       "LTV_time                 5.9487279\n",
       "interest_rate_time       4.8437196\n",
       "hpi_time                 4.2214767\n",
       "gdp_time                 3.2141573\n",
       "uer_time                 4.6072675\n",
       "REtype_CO_orig_time      2.4941376\n",
       "REtype_PU_orig_time      4.8781378\n",
       "REtype_SF_orig_time      2.3475924\n",
       "balance_orig_time        7.2679131\n",
       "FICO_orig_time           4.6879808\n",
       "LTV_orig_time            1.0596248\n",
       "Interest_Rate_orig_time  3.6203180\n",
       "state_orig_time          8.6082438\n",
       "hpi_orig_time            6.0083212\n",
       "mat_diff                -0.2192367"
      ]
     },
     "metadata": {},
     "output_type": "display_data"
    }
   ],
   "source": [
    "importance(rf_lgd_macro, type = 1)"
   ]
  },
  {
   "cell_type": "code",
   "execution_count": 2184,
   "metadata": {},
   "outputs": [],
   "source": [
    "# predicting based on model\n",
    "yhat_rf_macro_lgd_test <- predict(rf_lgd_macro,newdata=test_macro)"
   ]
  },
  {
   "cell_type": "code",
   "execution_count": null,
   "metadata": {},
   "outputs": [],
   "source": [
    "# As in case of Decision Trees, an optimal model would align fitted values on a 45-degree diagonal."
   ]
  },
  {
   "cell_type": "code",
   "execution_count": 2185,
   "metadata": {},
   "outputs": [
    {
     "data": {
      "image/png": "[encoded data removed]",
      "text/plain": [
       "plot without title"
      ]
     },
     "metadata": {
      "image/png": {
       "height": 420,
       "width": 420
      }
     },
     "output_type": "display_data"
    }
   ],
   "source": [
    "plot(test_macro$lgd_time, yhat_rf_macro_lgd_test)"
   ]
  },
  {
   "cell_type": "code",
   "execution_count": 2187,
   "metadata": {},
   "outputs": [],
   "source": [
    "rmse_lgd_reg_test <- sqrt(mean((yhat_rf_macro_lgd_test-test_macro$lgd_time)^2))"
   ]
  },
  {
   "cell_type": "code",
   "execution_count": 2188,
   "metadata": {},
   "outputs": [
    {
     "data": {
      "text/html": [
       "0.320351840371919"
      ],
      "text/latex": [
       "0.320351840371919"
      ],
      "text/markdown": [
       "0.320351840371919"
      ],
      "text/plain": [
       "[1] 0.3203518"
      ]
     },
     "metadata": {},
     "output_type": "display_data"
    }
   ],
   "source": [
    "rmse_lgd_reg_test"
   ]
  },
  {
   "cell_type": "code",
   "execution_count": 2191,
   "metadata": {},
   "outputs": [],
   "source": [
    "# sensitivity analysis based on EDA"
   ]
  },
  {
   "cell_type": "code",
   "execution_count": 2205,
   "metadata": {},
   "outputs": [],
   "source": [
    "data_modelling$time_div <- dplyr::if_else(data_modelling$time < 15 | data_modelling$time > 40,1,0)"
   ]
  },
  {
   "cell_type": "code",
   "execution_count": 2209,
   "metadata": {},
   "outputs": [
    {
     "data": {
      "text/plain": [
       "\n",
       "   0    1 \n",
       "1122  402 "
      ]
     },
     "metadata": {},
     "output_type": "display_data"
    }
   ],
   "source": [
    "# frequency of values\n",
    "table(data_modelling$time_div)"
   ]
  },
  {
   "cell_type": "code",
   "execution_count": 2208,
   "metadata": {},
   "outputs": [],
   "source": [
    "# base scenario - observations for which MV's are stable\n",
    "# based on the EDA for periods - 1:15, 40:60\n",
    "lgd_data_macro_base <- data_modelling[data_modelling['time_div']==1,]"
   ]
  },
  {
   "cell_type": "code",
   "execution_count": 2210,
   "metadata": {},
   "outputs": [],
   "source": [
    "lgd_data_macro_stress <- data_modelling[data_modelling['time_div']==0,]"
   ]
  },
  {
   "cell_type": "code",
   "execution_count": 2221,
   "metadata": {},
   "outputs": [],
   "source": [
    "# random sampling 402 observations, so both datasets have the same size\n",
    "lgd_data_macro_stress <- lgd_data_macro_stress[sample(nrow(lgd_data_macro_stress), replace = TRUE,prob = lgd_data_macro_stress$time, 402), ]"
   ]
  },
  {
   "cell_type": "code",
   "execution_count": 2222,
   "metadata": {},
   "outputs": [],
   "source": [
    "yhat_rf_lgd_macro_base <- predict(rf_lgd_macro, newdata=lgd_data_macro_base)"
   ]
  },
  {
   "cell_type": "code",
   "execution_count": 2223,
   "metadata": {},
   "outputs": [],
   "source": [
    "yhat_rf_lgd_macro_stress <- predict(rf_lgd_macro, newdata=lgd_data_macro_stress)"
   ]
  },
  {
   "cell_type": "code",
   "execution_count": 2224,
   "metadata": {},
   "outputs": [
    {
     "data": {
      "text/html": [],
      "text/latex": [],
      "text/markdown": [],
      "text/plain": [
       "integer(0)"
      ]
     },
     "metadata": {},
     "output_type": "display_data"
    },
    {
     "data": {
      "image/png": "[encoded data removed]",
      "text/plain": [
       "plot without title"
      ]
     },
     "metadata": {
      "image/png": {
       "height": 420,
       "width": 420
      }
     },
     "output_type": "display_data"
    }
   ],
   "source": [
    "plot(yhat_rf_lgd_macro_base, yhat_rf_lgd_macro_stress)+\n",
    "    abline(coef = c(0,1))"
   ]
  },
  {
   "cell_type": "code",
   "execution_count": 2227,
   "metadata": {},
   "outputs": [],
   "source": [
    "scenario_diff <- yhat_rf_lgd_macro_stress - yhat_rf_lgd_macro_base"
   ]
  },
  {
   "cell_type": "code",
   "execution_count": 2229,
   "metadata": {},
   "outputs": [],
   "source": [
    "scenario_diff <- as.data.frame(scenario_diff)"
   ]
  },
  {
   "cell_type": "code",
   "execution_count": 2234,
   "metadata": {},
   "outputs": [],
   "source": [
    "scenario_diff$count_diff <- dplyr::if_else(scenario_diff$scenario_diff <0,0,1)"
   ]
  },
  {
   "cell_type": "code",
   "execution_count": 2236,
   "metadata": {},
   "outputs": [
    {
     "data": {
      "text/plain": [
       "\n",
       "  0   1 \n",
       "132 270 "
      ]
     },
     "metadata": {},
     "output_type": "display_data"
    }
   ],
   "source": [
    "table(scenario_diff$count_diff)"
   ]
  },
  {
   "cell_type": "code",
   "execution_count": null,
   "metadata": {},
   "outputs": [],
   "source": [
    "# The majority of accounts is on the upper side of the diagonal, which is confirmed by the calculations(130 vs 270)\n",
    "# This points out the role of macroeconomic variables in projecting LGDs."
   ]
  },
  {
   "cell_type": "markdown",
   "metadata": {},
   "source": [
    "### Generalized Boosted Regression"
   ]
  },
  {
   "cell_type": "code",
   "execution_count": 2125,
   "metadata": {},
   "outputs": [],
   "source": [
    "set.seed(101)"
   ]
  },
  {
   "cell_type": "code",
   "execution_count": 2126,
   "metadata": {},
   "outputs": [],
   "source": [
    "boost_lgd <- gbm(lgd_time~.-res_sold,\n",
    "                data=train,\n",
    "                distribution='gaussian',n.trees=100,interaction.depth=4)"
   ]
  },
  {
   "cell_type": "code",
   "execution_count": 2127,
   "metadata": {},
   "outputs": [
    {
     "data": {
      "text/html": [
       "<table>\n",
       "<caption>A data.frame: 13 × 2</caption>\n",
       "<thead>\n",
       "\t<tr><th></th><th scope=col>var</th><th scope=col>rel.inf</th></tr>\n",
       "\t<tr><th></th><th scope=col>&lt;chr&gt;</th><th scope=col>&lt;dbl&gt;</th></tr>\n",
       "</thead>\n",
       "<tbody>\n",
       "\t<tr><th scope=row>LTV_time</th><td>LTV_time           </td><td>17.7767472</td></tr>\n",
       "\t<tr><th scope=row>time</th><td>time               </td><td>14.2517766</td></tr>\n",
       "\t<tr><th scope=row>balance_time</th><td>balance_time       </td><td>13.9667301</td></tr>\n",
       "\t<tr><th scope=row>balance_orig_time</th><td>balance_orig_time  </td><td>13.8800842</td></tr>\n",
       "\t<tr><th scope=row>FICO_orig_time</th><td>FICO_orig_time     </td><td>11.3749657</td></tr>\n",
       "\t<tr><th scope=row>LTV_orig_time</th><td>LTV_orig_time      </td><td> 7.8681022</td></tr>\n",
       "\t<tr><th scope=row>orig_time</th><td>orig_time          </td><td> 7.6030308</td></tr>\n",
       "\t<tr><th scope=row>mat_time</th><td>mat_time           </td><td> 6.3595221</td></tr>\n",
       "\t<tr><th scope=row>first_time</th><td>first_time         </td><td> 3.9828695</td></tr>\n",
       "\t<tr><th scope=row>mat_diff</th><td>mat_diff           </td><td> 1.6756103</td></tr>\n",
       "\t<tr><th scope=row>REtype_CO_orig_time</th><td>REtype_CO_orig_time</td><td> 0.4351118</td></tr>\n",
       "\t<tr><th scope=row>REtype_PU_orig_time</th><td>REtype_PU_orig_time</td><td> 0.4149699</td></tr>\n",
       "\t<tr><th scope=row>REtype_SF_orig_time</th><td>REtype_SF_orig_time</td><td> 0.4104795</td></tr>\n",
       "</tbody>\n",
       "</table>\n"
      ],
      "text/latex": [
       "A data.frame: 13 × 2\n",
       "\\begin{tabular}{r|ll}\n",
       "  & var & rel.inf\\\\\n",
       "  & <chr> & <dbl>\\\\\n",
       "\\hline\n",
       "\tLTV\\_time & LTV\\_time            & 17.7767472\\\\\n",
       "\ttime & time                & 14.2517766\\\\\n",
       "\tbalance\\_time & balance\\_time        & 13.9667301\\\\\n",
       "\tbalance\\_orig\\_time & balance\\_orig\\_time   & 13.8800842\\\\\n",
       "\tFICO\\_orig\\_time & FICO\\_orig\\_time      & 11.3749657\\\\\n",
       "\tLTV\\_orig\\_time & LTV\\_orig\\_time       &  7.8681022\\\\\n",
       "\torig\\_time & orig\\_time           &  7.6030308\\\\\n",
       "\tmat\\_time & mat\\_time            &  6.3595221\\\\\n",
       "\tfirst\\_time & first\\_time          &  3.9828695\\\\\n",
       "\tmat\\_diff & mat\\_diff            &  1.6756103\\\\\n",
       "\tREtype\\_CO\\_orig\\_time & REtype\\_CO\\_orig\\_time &  0.4351118\\\\\n",
       "\tREtype\\_PU\\_orig\\_time & REtype\\_PU\\_orig\\_time &  0.4149699\\\\\n",
       "\tREtype\\_SF\\_orig\\_time & REtype\\_SF\\_orig\\_time &  0.4104795\\\\\n",
       "\\end{tabular}\n"
      ],
      "text/markdown": [
       "\n",
       "A data.frame: 13 × 2\n",
       "\n",
       "| <!--/--> | var &lt;chr&gt; | rel.inf &lt;dbl&gt; |\n",
       "|---|---|---|\n",
       "| LTV_time | LTV_time            | 17.7767472 |\n",
       "| time | time                | 14.2517766 |\n",
       "| balance_time | balance_time        | 13.9667301 |\n",
       "| balance_orig_time | balance_orig_time   | 13.8800842 |\n",
       "| FICO_orig_time | FICO_orig_time      | 11.3749657 |\n",
       "| LTV_orig_time | LTV_orig_time       |  7.8681022 |\n",
       "| orig_time | orig_time           |  7.6030308 |\n",
       "| mat_time | mat_time            |  6.3595221 |\n",
       "| first_time | first_time          |  3.9828695 |\n",
       "| mat_diff | mat_diff            |  1.6756103 |\n",
       "| REtype_CO_orig_time | REtype_CO_orig_time |  0.4351118 |\n",
       "| REtype_PU_orig_time | REtype_PU_orig_time |  0.4149699 |\n",
       "| REtype_SF_orig_time | REtype_SF_orig_time |  0.4104795 |\n",
       "\n"
      ],
      "text/plain": [
       "                    var                 rel.inf   \n",
       "LTV_time            LTV_time            17.7767472\n",
       "time                time                14.2517766\n",
       "balance_time        balance_time        13.9667301\n",
       "balance_orig_time   balance_orig_time   13.8800842\n",
       "FICO_orig_time      FICO_orig_time      11.3749657\n",
       "LTV_orig_time       LTV_orig_time        7.8681022\n",
       "orig_time           orig_time            7.6030308\n",
       "mat_time            mat_time             6.3595221\n",
       "first_time          first_time           3.9828695\n",
       "mat_diff            mat_diff             1.6756103\n",
       "REtype_CO_orig_time REtype_CO_orig_time  0.4351118\n",
       "REtype_PU_orig_time REtype_PU_orig_time  0.4149699\n",
       "REtype_SF_orig_time REtype_SF_orig_time  0.4104795"
      ]
     },
     "metadata": {},
     "output_type": "display_data"
    },
    {
     "data": {
      "image/png": "[encoded data removed]",
      "text/plain": [
       "plot without title"
      ]
     },
     "metadata": {
      "image/png": {
       "height": 420,
       "width": 420
      }
     },
     "output_type": "display_data"
    }
   ],
   "source": [
    "summary(boost_lgd)"
   ]
  },
  {
   "cell_type": "code",
   "execution_count": 2130,
   "metadata": {},
   "outputs": [],
   "source": [
    "# Prediction\n",
    "yhat_boost_lgd_test=predict(boost_lgd,\n",
    "                            newdata=test,n.trees=100)"
   ]
  },
  {
   "cell_type": "code",
   "execution_count": 2131,
   "metadata": {},
   "outputs": [
    {
     "data": {
      "image/png": "[encoded data removed]",
      "text/plain": [
       "plot without title"
      ]
     },
     "metadata": {
      "image/png": {
       "height": 420,
       "width": 420
      }
     },
     "output_type": "display_data"
    }
   ],
   "source": [
    "plot(test$lgd_time, yhat_boost_lgd_test)"
   ]
  },
  {
   "cell_type": "code",
   "execution_count": 2132,
   "metadata": {},
   "outputs": [],
   "source": [
    "rmse_lgd_reg_test <- sqrt(mean((yhat_boost_lgd_test-test$lgd_time)^2))"
   ]
  },
  {
   "cell_type": "code",
   "execution_count": 2133,
   "metadata": {},
   "outputs": [
    {
     "data": {
      "text/html": [
       "0.347862701501695"
      ],
      "text/latex": [
       "0.347862701501695"
      ],
      "text/markdown": [
       "0.347862701501695"
      ],
      "text/plain": [
       "[1] 0.3478627"
      ]
     },
     "metadata": {},
     "output_type": "display_data"
    }
   ],
   "source": [
    "rmse_lgd_reg_test"
   ]
  },
  {
   "cell_type": "code",
   "execution_count": 2134,
   "metadata": {},
   "outputs": [],
   "source": [
    "# Applying a shrinkage\n",
    "boost_lgd_shr=gbm(lgd_time~.-res_sold,\n",
    "                data=train,\n",
    "                distribution='gaussian',n.trees=100,interaction.depth=4,\n",
    "                shrinkage=0.2,verbose=F)"
   ]
  },
  {
   "cell_type": "code",
   "execution_count": 2135,
   "metadata": {},
   "outputs": [],
   "source": [
    "yhat_boost_lgd_test_shr=predict(boost_lgd_shr, newdata=test,n.trees=100)"
   ]
  },
  {
   "cell_type": "code",
   "execution_count": 2136,
   "metadata": {},
   "outputs": [
    {
     "data": {
      "image/png": "[encoded data removed]",
      "text/plain": [
       "plot without title"
      ]
     },
     "metadata": {
      "image/png": {
       "height": 420,
       "width": 420
      }
     },
     "output_type": "display_data"
    }
   ],
   "source": [
    "# graph after shrinkage\n",
    "plot(test$lgd_time, yhat_boost_lgd_test_shr)"
   ]
  },
  {
   "cell_type": "code",
   "execution_count": 2137,
   "metadata": {},
   "outputs": [],
   "source": [
    "rmse_lgd_reg_test <- sqrt(mean((yhat_boost_lgd_test_shr-test$lgd_time)^2))"
   ]
  },
  {
   "cell_type": "code",
   "execution_count": 2138,
   "metadata": {},
   "outputs": [
    {
     "data": {
      "text/html": [
       "0.362736932183669"
      ],
      "text/latex": [
       "0.362736932183669"
      ],
      "text/markdown": [
       "0.362736932183669"
      ],
      "text/plain": [
       "[1] 0.3627369"
      ]
     },
     "metadata": {},
     "output_type": "display_data"
    }
   ],
   "source": [
    "rmse_lgd_reg_test"
   ]
  }
 ],
 "metadata": {
  "kernelspec": {
   "display_name": "R",
   "language": "R",
   "name": "ir"
  },
  "language_info": {
   "codemirror_mode": "r",
   "file_extension": ".r",
   "mimetype": "text/x-r-source",
   "name": "R",
   "pygments_lexer": "r",
   "version": "4.0.3"
  }
 },
 "nbformat": 4,
 "nbformat_minor": 4
}
